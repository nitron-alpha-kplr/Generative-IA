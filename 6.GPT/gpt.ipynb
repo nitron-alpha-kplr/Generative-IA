{
  "cells": [
    {
      "cell_type": "markdown",
      "metadata": {
        "id": "view-in-github",
        "colab_type": "text"
      },
      "source": [
        "<a href=\"https://colab.research.google.com/github/nitron-alpha-kplr/Generative-IA/blob/main/6.GPT/gpt.ipynb\" target=\"_parent\"><img src=\"https://colab.research.google.com/assets/colab-badge.svg\" alt=\"Open In Colab\"/></a>"
      ]
    },
    {
      "cell_type": "markdown",
      "id": "b076bd1a-b236-4fbc-953d-8295b25122ae",
      "metadata": {
        "id": "b076bd1a-b236-4fbc-953d-8295b25122ae"
      },
      "source": [
        "# 🚀 GPT"
      ]
    },
    {
      "cell_type": "markdown",
      "id": "4dca6836-0007-43f3-af65-d12ae1922c02",
      "metadata": {
        "tags": [],
        "id": "4dca6836-0007-43f3-af65-d12ae1922c02"
      },
      "source": [
        "In this notebook, we'll walk through the steps required to train your own GPT model on the wine review dataset"
      ]
    },
    {
      "cell_type": "markdown",
      "id": "3e6cb7c7-d3d5-4b12-b357-1f6118edffe0",
      "metadata": {
        "id": "3e6cb7c7-d3d5-4b12-b357-1f6118edffe0"
      },
      "source": [
        "The code is adapted from the excellent [GPT tutorial](https://keras.io/examples/generative/text_generation_with_miniature_gpt/) created by Apoorv Nandan available on the Keras website."
      ]
    },
    {
      "cell_type": "code",
      "source": [
        "import autoreload\n",
        "?autoreload\n",
        "# Then you get all the above"
      ],
      "metadata": {
        "id": "TxyVSBBGBo4h"
      },
      "id": "TxyVSBBGBo4h",
      "execution_count": null,
      "outputs": []
    },
    {
      "cell_type": "code",
      "execution_count": null,
      "id": "73350761-bef2-4e96-b3ac-a158eabd2b65",
      "metadata": {
        "tags": [],
        "id": "73350761-bef2-4e96-b3ac-a158eabd2b65"
      },
      "outputs": [],
      "source": [
        "%load_ext autoreload\n",
        "%autoreload 2\n",
        "import numpy as np\n",
        "import json\n",
        "import re\n",
        "import string\n",
        "from IPython.display import display, HTML\n",
        "\n",
        "import tensorflow as tf\n",
        "from tensorflow.keras import layers, models, losses, callbacks"
      ]
    },
    {
      "cell_type": "markdown",
      "id": "339e6268-ebd7-4feb-86db-1fe7abccdbe5",
      "metadata": {
        "id": "339e6268-ebd7-4feb-86db-1fe7abccdbe5"
      },
      "source": [
        "## 0. Parameters <a name=\"parameters\"></a>"
      ]
    },
    {
      "cell_type": "code",
      "execution_count": null,
      "id": "2d8352af-343e-4c2e-8c91-95f8bac1c8a1",
      "metadata": {
        "id": "2d8352af-343e-4c2e-8c91-95f8bac1c8a1"
      },
      "outputs": [],
      "source": [
        "VOCAB_SIZE = 10000\n",
        "MAX_LEN = 80\n",
        "EMBEDDING_DIM = 256\n",
        "KEY_DIM = 256\n",
        "N_HEADS = 2\n",
        "FEED_FORWARD_DIM = 256\n",
        "VALIDATION_SPLIT = 0.2\n",
        "SEED = 42\n",
        "LOAD_MODEL = False\n",
        "BATCH_SIZE = 32\n",
        "EPOCHS = 5"
      ]
    },
    {
      "cell_type": "markdown",
      "id": "b7716fac-0010-49b0-b98e-53be2259edde",
      "metadata": {
        "id": "b7716fac-0010-49b0-b98e-53be2259edde"
      },
      "source": [
        "## 1. Load the data <a name=\"load\"></a>"
      ]
    },
    {
      "cell_type": "code",
      "execution_count": 14,
      "id": "93cf6b0f-9667-4146-8911-763a8a2925d3",
      "metadata": {
        "tags": [],
        "id": "93cf6b0f-9667-4146-8911-763a8a2925d3"
      },
      "outputs": [],
      "source": [
        "# Load the full dataset\n",
        "with open(\"/content/winemag-data-130k-v2.json\") as json_data:\n",
        "    wine_data = json.load(json_data)"
      ]
    },
    {
      "cell_type": "code",
      "execution_count": 15,
      "id": "2db5c0fc-0d5f-42ab-ade1-57e594c416ec",
      "metadata": {
        "tags": [],
        "id": "2db5c0fc-0d5f-42ab-ade1-57e594c416ec",
        "colab": {
          "base_uri": "https://localhost:8080/"
        },
        "outputId": "f553d75e-dd37-473e-f971-c440f7dd5290"
      },
      "outputs": [
        {
          "output_type": "execute_result",
          "data": {
            "text/plain": [
              "{'points': '87',\n",
              " 'title': 'Kirkland Signature 2011 Mountain Cuvée Cabernet Sauvignon (Napa Valley)',\n",
              " 'description': 'Soft, supple plum envelopes an oaky structure in this Cabernet, supported by 15% Merlot. Coffee and chocolate complete the picture, finishing strong at the end, resulting in a value-priced wine of attractive flavor and immediate accessibility.',\n",
              " 'taster_name': 'Virginie Boone',\n",
              " 'taster_twitter_handle': '@vboone',\n",
              " 'price': 19,\n",
              " 'designation': 'Mountain Cuvée',\n",
              " 'variety': 'Cabernet Sauvignon',\n",
              " 'region_1': 'Napa Valley',\n",
              " 'region_2': 'Napa',\n",
              " 'province': 'California',\n",
              " 'country': 'US',\n",
              " 'winery': 'Kirkland Signature'}"
            ]
          },
          "metadata": {},
          "execution_count": 15
        }
      ],
      "source": [
        "wine_data[10]"
      ]
    },
    {
      "cell_type": "code",
      "execution_count": 16,
      "id": "23a74eca-f1b7-4a46-9a1f-b5806a4ed361",
      "metadata": {
        "tags": [],
        "id": "23a74eca-f1b7-4a46-9a1f-b5806a4ed361"
      },
      "outputs": [],
      "source": [
        "# Filter the dataset\n",
        "filtered_data = [\n",
        "    \"wine review : \"\n",
        "    + x[\"country\"]\n",
        "    + \" : \"\n",
        "    + x[\"province\"]\n",
        "    + \" : \"\n",
        "    + x[\"variety\"]\n",
        "    + \" : \"\n",
        "    + x[\"description\"]\n",
        "    for x in wine_data\n",
        "    if x[\"country\"] is not None\n",
        "    and x[\"province\"] is not None\n",
        "    and x[\"variety\"] is not None\n",
        "    and x[\"description\"] is not None\n",
        "]"
      ]
    },
    {
      "cell_type": "code",
      "execution_count": 17,
      "id": "389c20de-0422-4c48-a7b4-6ee12a7bf0e2",
      "metadata": {
        "tags": [],
        "id": "389c20de-0422-4c48-a7b4-6ee12a7bf0e2",
        "colab": {
          "base_uri": "https://localhost:8080/"
        },
        "outputId": "805e1a9c-a327-49e8-b79a-11b7ccba8e25"
      },
      "outputs": [
        {
          "output_type": "stream",
          "name": "stdout",
          "text": [
            "129907 recipes loaded\n"
          ]
        }
      ],
      "source": [
        "# Count the recipes\n",
        "n_wines = len(filtered_data)\n",
        "print(f\"{n_wines} recipes loaded\")"
      ]
    },
    {
      "cell_type": "code",
      "execution_count": 18,
      "id": "1b2e3cf7-e416-460e-874a-0dd9637bca36",
      "metadata": {
        "id": "1b2e3cf7-e416-460e-874a-0dd9637bca36",
        "colab": {
          "base_uri": "https://localhost:8080/"
        },
        "outputId": "38671b91-003d-4b3f-b8f5-f8285197546a"
      },
      "outputs": [
        {
          "output_type": "stream",
          "name": "stdout",
          "text": [
            "wine review : US : California : Pinot Noir : Oak and earth intermingle around robust aromas of wet forest floor in this vineyard-designated Pinot that hails from a high-elevation site. Small in production, it offers intense, full-bodied raspberry and blackberry steeped in smoky spice and smooth texture.\n"
          ]
        }
      ],
      "source": [
        "example = filtered_data[25]\n",
        "print(example)"
      ]
    },
    {
      "cell_type": "markdown",
      "id": "3f871aaf-d873-41c7-8946-e4eef7ac17c1",
      "metadata": {
        "id": "3f871aaf-d873-41c7-8946-e4eef7ac17c1"
      },
      "source": [
        "## 2. Tokenize the data <a name=\"tokenize\"></a>"
      ]
    },
    {
      "cell_type": "code",
      "execution_count": 19,
      "id": "5b2064fb-5dcc-4657-b470-0928d10e2ddc",
      "metadata": {
        "tags": [],
        "id": "5b2064fb-5dcc-4657-b470-0928d10e2ddc"
      },
      "outputs": [],
      "source": [
        "# Pad the punctuation, to treat them as separate 'words'\n",
        "def pad_punctuation(s):\n",
        "    s = re.sub(f\"([{string.punctuation}, '\\n'])\", r\" \\1 \", s)\n",
        "    s = re.sub(\" +\", \" \", s)\n",
        "    return s\n",
        "\n",
        "\n",
        "text_data = [pad_punctuation(x) for x in filtered_data]"
      ]
    },
    {
      "cell_type": "code",
      "execution_count": 20,
      "id": "b87d7c65-9a46-492a-a5c0-a043b0d252f3",
      "metadata": {
        "id": "b87d7c65-9a46-492a-a5c0-a043b0d252f3",
        "colab": {
          "base_uri": "https://localhost:8080/",
          "height": 70
        },
        "outputId": "b646bfbf-ce29-423a-d8d8-00ee6231c5e9"
      },
      "outputs": [
        {
          "output_type": "execute_result",
          "data": {
            "text/plain": [
              "'wine review : US : California : Pinot Noir : Oak and earth intermingle around robust aromas of wet forest floor in this vineyard - designated Pinot that hails from a high - elevation site . Small in production , it offers intense , full - bodied raspberry and blackberry steeped in smoky spice and smooth texture . '"
            ],
            "application/vnd.google.colaboratory.intrinsic+json": {
              "type": "string"
            }
          },
          "metadata": {},
          "execution_count": 20
        }
      ],
      "source": [
        "# Display an example of a recipe\n",
        "example_data = text_data[25]\n",
        "example_data"
      ]
    },
    {
      "cell_type": "code",
      "execution_count": 21,
      "id": "9834f916-b21a-4104-acc9-f28d3bd7a8c1",
      "metadata": {
        "tags": [],
        "id": "9834f916-b21a-4104-acc9-f28d3bd7a8c1"
      },
      "outputs": [],
      "source": [
        "# Convert to a Tensorflow Dataset\n",
        "text_ds = (\n",
        "    tf.data.Dataset.from_tensor_slices(text_data)\n",
        "    .batch(BATCH_SIZE)\n",
        "    .shuffle(1000)\n",
        ")"
      ]
    },
    {
      "cell_type": "code",
      "execution_count": 22,
      "id": "884c0bcb-0807-45a1-8f7e-a32f2c6fa4de",
      "metadata": {
        "id": "884c0bcb-0807-45a1-8f7e-a32f2c6fa4de"
      },
      "outputs": [],
      "source": [
        "# Create a vectorisation layer\n",
        "vectorize_layer = layers.TextVectorization(\n",
        "    standardize=\"lower\",\n",
        "    max_tokens=VOCAB_SIZE,\n",
        "    output_mode=\"int\",\n",
        "    output_sequence_length=MAX_LEN + 1,\n",
        ")"
      ]
    },
    {
      "cell_type": "code",
      "execution_count": 23,
      "id": "4d6dd34a-d905-497b-926a-405380ebcf98",
      "metadata": {
        "id": "4d6dd34a-d905-497b-926a-405380ebcf98"
      },
      "outputs": [],
      "source": [
        "# Adapt the layer to the training set\n",
        "vectorize_layer.adapt(text_ds)\n",
        "vocab = vectorize_layer.get_vocabulary()"
      ]
    },
    {
      "cell_type": "code",
      "execution_count": 24,
      "id": "f6c1c7ce-3cf0-40d4-a3dc-ab7090f69f2f",
      "metadata": {
        "id": "f6c1c7ce-3cf0-40d4-a3dc-ab7090f69f2f",
        "colab": {
          "base_uri": "https://localhost:8080/"
        },
        "outputId": "7a681cc6-7ea2-489b-b8ca-0062c2242eb9"
      },
      "outputs": [
        {
          "output_type": "stream",
          "name": "stdout",
          "text": [
            "0: \n",
            "1: [UNK]\n",
            "2: :\n",
            "3: ,\n",
            "4: .\n",
            "5: and\n",
            "6: the\n",
            "7: wine\n",
            "8: a\n",
            "9: of\n"
          ]
        }
      ],
      "source": [
        "# Display some token:word mappings\n",
        "for i, word in enumerate(vocab[:10]):\n",
        "    print(f\"{i}: {word}\")"
      ]
    },
    {
      "cell_type": "code",
      "execution_count": 25,
      "id": "1cc30186-7ec6-4eb6-b29a-65df6714d321",
      "metadata": {
        "id": "1cc30186-7ec6-4eb6-b29a-65df6714d321",
        "colab": {
          "base_uri": "https://localhost:8080/"
        },
        "outputId": "95226817-0b63-4962-c56c-069c1f104e53"
      },
      "outputs": [
        {
          "output_type": "stream",
          "name": "stdout",
          "text": [
            "[   7   10    2   20    2   29    2   43   62    2   55    5  243 4145\n",
            "  453  634   26    9  497  499  667   17   12  142   14 2214   43   25\n",
            " 2484   32    8  223   14 2213  948    4  594   17  987    3   15   75\n",
            "  237    3   64   14   82   97    5   74 2633   17  198   49    5  125\n",
            "   77    4    0    0    0    0    0    0    0    0    0    0    0    0\n",
            "    0    0    0    0    0    0    0    0    0    0    0]\n"
          ]
        }
      ],
      "source": [
        "# Display the same example converted to ints\n",
        "example_tokenised = vectorize_layer(example_data)\n",
        "print(example_tokenised.numpy())"
      ]
    },
    {
      "cell_type": "markdown",
      "id": "8c195efb-84c6-4be0-a989-a7542188ad35",
      "metadata": {
        "id": "8c195efb-84c6-4be0-a989-a7542188ad35"
      },
      "source": [
        "## 3. Create the Training Set <a name=\"create\"></a>"
      ]
    },
    {
      "cell_type": "code",
      "execution_count": 26,
      "id": "740294a1-1a6b-4c89-92f2-036d7d1b788b",
      "metadata": {
        "id": "740294a1-1a6b-4c89-92f2-036d7d1b788b"
      },
      "outputs": [],
      "source": [
        "# Create the training set of recipes and the same text shifted by one word\n",
        "def prepare_inputs(text):\n",
        "    text = tf.expand_dims(text, -1)\n",
        "    tokenized_sentences = vectorize_layer(text)\n",
        "    x = tokenized_sentences[:, :-1]\n",
        "    y = tokenized_sentences[:, 1:]\n",
        "    return x, y\n",
        "\n",
        "\n",
        "train_ds = text_ds.map(prepare_inputs)"
      ]
    },
    {
      "cell_type": "code",
      "execution_count": 27,
      "id": "cad80ffb-4298-4249-86b4-9918d62534c5",
      "metadata": {
        "id": "cad80ffb-4298-4249-86b4-9918d62534c5"
      },
      "outputs": [],
      "source": [
        "example_input_output = train_ds.take(1).get_single_element()"
      ]
    },
    {
      "cell_type": "code",
      "execution_count": 28,
      "id": "67ff7263-f62d-44c1-997b-1aa99a393521",
      "metadata": {
        "id": "67ff7263-f62d-44c1-997b-1aa99a393521",
        "colab": {
          "base_uri": "https://localhost:8080/"
        },
        "outputId": "e5ccbd1b-0d0e-4d7f-8fd9-7306a25ecce1"
      },
      "outputs": [
        {
          "output_type": "execute_result",
          "data": {
            "text/plain": [
              "<tf.Tensor: shape=(80,), dtype=int64, numpy=\n",
              "array([   7,   10,    2,   20,    2,  103,    2,   45,   44,    2,  703,\n",
              "         32,    6,  409,   18,   21,  337,  142,  223,  117,   17, 3316,\n",
              "       5108, 1377,    3,   12,    7,   13, 1493,   19,  259,    8,  153,\n",
              "          9,  158,    3,  355,   26,    9,  333,    3,  114,   36,    3,\n",
              "         94,   90,    5, 1101, 2263,    4, 1071, 1149,   78,    5,   94,\n",
              "          3,    6,   16,  241,  227,    8,  153, 2321,    3,   11, 1017,\n",
              "         14,   90,   50,   23,    6,   31,    4,    0,    0,    0,    0,\n",
              "          0,    0,    0])>"
            ]
          },
          "metadata": {},
          "execution_count": 28
        }
      ],
      "source": [
        "# Example Input\n",
        "example_input_output[0][0]"
      ]
    },
    {
      "cell_type": "code",
      "execution_count": 29,
      "id": "ef2e2cad-414c-4e6d-a2ac-6b9598f9dd01",
      "metadata": {
        "id": "ef2e2cad-414c-4e6d-a2ac-6b9598f9dd01",
        "colab": {
          "base_uri": "https://localhost:8080/"
        },
        "outputId": "a12bb601-1e05-41e8-e19d-79a97f38a0e9"
      },
      "outputs": [
        {
          "output_type": "execute_result",
          "data": {
            "text/plain": [
              "<tf.Tensor: shape=(80,), dtype=int64, numpy=\n",
              "array([  10,    2,   20,    2,  103,    2,   45,   44,    2,  703,   32,\n",
              "          6,  409,   18,   21,  337,  142,  223,  117,   17, 3316, 5108,\n",
              "       1377,    3,   12,    7,   13, 1493,   19,  259,    8,  153,    9,\n",
              "        158,    3,  355,   26,    9,  333,    3,  114,   36,    3,   94,\n",
              "         90,    5, 1101, 2263,    4, 1071, 1149,   78,    5,   94,    3,\n",
              "          6,   16,  241,  227,    8,  153, 2321,    3,   11, 1017,   14,\n",
              "         90,   50,   23,    6,   31,    4,    0,    0,    0,    0,    0,\n",
              "          0,    0,    0])>"
            ]
          },
          "metadata": {},
          "execution_count": 29
        }
      ],
      "source": [
        "# Example Output (shifted by one token)\n",
        "example_input_output[1][0]"
      ]
    },
    {
      "cell_type": "markdown",
      "id": "aff50401-3abe-4c10-bba8-b35bc13ad7d5",
      "metadata": {
        "tags": [],
        "id": "aff50401-3abe-4c10-bba8-b35bc13ad7d5"
      },
      "source": [
        "## 5. Create the causal attention mask function <a name=\"causal\"></a>"
      ]
    },
    {
      "cell_type": "code",
      "execution_count": 30,
      "id": "554a4184-61c2-4eb7-a063-d965586a8188",
      "metadata": {
        "id": "554a4184-61c2-4eb7-a063-d965586a8188",
        "colab": {
          "base_uri": "https://localhost:8080/"
        },
        "outputId": "1f3eb191-3348-417b-f7fb-d0840ca2a27d"
      },
      "outputs": [
        {
          "output_type": "execute_result",
          "data": {
            "text/plain": [
              "array([[1, 1, 1, 1, 1, 1, 1, 1, 1, 1],\n",
              "       [0, 1, 1, 1, 1, 1, 1, 1, 1, 1],\n",
              "       [0, 0, 1, 1, 1, 1, 1, 1, 1, 1],\n",
              "       [0, 0, 0, 1, 1, 1, 1, 1, 1, 1],\n",
              "       [0, 0, 0, 0, 1, 1, 1, 1, 1, 1],\n",
              "       [0, 0, 0, 0, 0, 1, 1, 1, 1, 1],\n",
              "       [0, 0, 0, 0, 0, 0, 1, 1, 1, 1],\n",
              "       [0, 0, 0, 0, 0, 0, 0, 1, 1, 1],\n",
              "       [0, 0, 0, 0, 0, 0, 0, 0, 1, 1],\n",
              "       [0, 0, 0, 0, 0, 0, 0, 0, 0, 1]], dtype=int32)"
            ]
          },
          "metadata": {},
          "execution_count": 30
        }
      ],
      "source": [
        "def causal_attention_mask(batch_size, n_dest, n_src, dtype):\n",
        "    i = tf.range(n_dest)[:, None]\n",
        "    j = tf.range(n_src)\n",
        "    m = i >= j - n_src + n_dest\n",
        "    mask = tf.cast(m, dtype)\n",
        "    mask = tf.reshape(mask, [1, n_dest, n_src])\n",
        "    mult = tf.concat(\n",
        "        [tf.expand_dims(batch_size, -1), tf.constant([1, 1], dtype=tf.int32)], 0\n",
        "    )\n",
        "    return tf.tile(mask, mult)\n",
        "\n",
        "\n",
        "np.transpose(causal_attention_mask(1, 10, 10, dtype=tf.int32)[0])"
      ]
    },
    {
      "cell_type": "markdown",
      "id": "3501dbad-0860-40ad-b7d6-47950e37858f",
      "metadata": {
        "id": "3501dbad-0860-40ad-b7d6-47950e37858f"
      },
      "source": [
        "## 6. Create a Transformer Block layer <a name=\"transformer\"></a>"
      ]
    },
    {
      "cell_type": "code",
      "execution_count": 31,
      "id": "5285a1cb-fce1-46b1-b088-b596002fa9ae",
      "metadata": {
        "id": "5285a1cb-fce1-46b1-b088-b596002fa9ae"
      },
      "outputs": [],
      "source": [
        "class TransformerBlock(layers.Layer):\n",
        "    def __init__(self, num_heads, key_dim, embed_dim, ff_dim, dropout_rate=0.1):\n",
        "        super(TransformerBlock, self).__init__()\n",
        "        self.num_heads = num_heads\n",
        "        self.key_dim = key_dim\n",
        "        self.embed_dim = embed_dim\n",
        "        self.ff_dim = ff_dim\n",
        "        self.dropout_rate = dropout_rate\n",
        "        self.attn = layers.MultiHeadAttention(\n",
        "            num_heads, key_dim, output_shape=embed_dim\n",
        "        )\n",
        "        self.dropout_1 = layers.Dropout(self.dropout_rate)\n",
        "        self.ln_1 = layers.LayerNormalization(epsilon=1e-6)\n",
        "        self.ffn_1 = layers.Dense(self.ff_dim, activation=\"relu\")\n",
        "        self.ffn_2 = layers.Dense(self.embed_dim)\n",
        "        self.dropout_2 = layers.Dropout(self.dropout_rate)\n",
        "        self.ln_2 = layers.LayerNormalization(epsilon=1e-6)\n",
        "\n",
        "    def call(self, inputs):\n",
        "        input_shape = tf.shape(inputs)\n",
        "        batch_size = input_shape[0]\n",
        "        seq_len = input_shape[1]\n",
        "        causal_mask = causal_attention_mask(\n",
        "            batch_size, seq_len, seq_len, tf.bool\n",
        "        )\n",
        "        attention_output, attention_scores = self.attn(\n",
        "            inputs,\n",
        "            inputs,\n",
        "            attention_mask=causal_mask,\n",
        "            return_attention_scores=True,\n",
        "        )\n",
        "        attention_output = self.dropout_1(attention_output)\n",
        "        out1 = self.ln_1(inputs + attention_output)\n",
        "        ffn_1 = self.ffn_1(out1)\n",
        "        ffn_2 = self.ffn_2(ffn_1)\n",
        "        ffn_output = self.dropout_2(ffn_2)\n",
        "        return (self.ln_2(out1 + ffn_output), attention_scores)\n",
        "\n",
        "    def get_config(self):\n",
        "        config = super().get_config()\n",
        "        config.update(\n",
        "            {\n",
        "                \"key_dim\": self.key_dim,\n",
        "                \"embed_dim\": self.embed_dim,\n",
        "                \"num_heads\": self.num_heads,\n",
        "                \"ff_dim\": self.ff_dim,\n",
        "                \"dropout_rate\": self.dropout_rate,\n",
        "            }\n",
        "        )\n",
        "        return config"
      ]
    },
    {
      "cell_type": "markdown",
      "id": "076a6be0-9796-4974-9bcd-6ebbcfe7514e",
      "metadata": {
        "tags": [],
        "id": "076a6be0-9796-4974-9bcd-6ebbcfe7514e"
      },
      "source": [
        "## 7. Create the Token and Position Embedding <a name=\"embedder\"></a>"
      ]
    },
    {
      "cell_type": "code",
      "execution_count": 32,
      "id": "fdf5cb25-88ae-4026-9e21-c1e6b5094a2c",
      "metadata": {
        "id": "fdf5cb25-88ae-4026-9e21-c1e6b5094a2c"
      },
      "outputs": [],
      "source": [
        "class TokenAndPositionEmbedding(layers.Layer):\n",
        "    def __init__(self, max_len, vocab_size, embed_dim):\n",
        "        super(TokenAndPositionEmbedding, self).__init__()\n",
        "        self.max_len = max_len\n",
        "        self.vocab_size = vocab_size\n",
        "        self.embed_dim = embed_dim\n",
        "        self.token_emb = layers.Embedding(\n",
        "            input_dim=vocab_size, output_dim=embed_dim\n",
        "        )\n",
        "        self.pos_emb = layers.Embedding(input_dim=max_len, output_dim=embed_dim)\n",
        "\n",
        "    def call(self, x):\n",
        "        maxlen = tf.shape(x)[-1]\n",
        "        positions = tf.range(start=0, limit=maxlen, delta=1)\n",
        "        positions = self.pos_emb(positions)\n",
        "        x = self.token_emb(x)\n",
        "        return x + positions\n",
        "\n",
        "    def get_config(self):\n",
        "        config = super().get_config()\n",
        "        config.update(\n",
        "            {\n",
        "                \"max_len\": self.max_len,\n",
        "                \"vocab_size\": self.vocab_size,\n",
        "                \"embed_dim\": self.embed_dim,\n",
        "            }\n",
        "        )\n",
        "        return config"
      ]
    },
    {
      "cell_type": "markdown",
      "id": "aac2e2d4-5980-47e3-b5b0-6c41c0c2d152",
      "metadata": {
        "id": "aac2e2d4-5980-47e3-b5b0-6c41c0c2d152"
      },
      "source": [
        "## 8. Build the Transformer model <a name=\"transformer_decoder\"></a>"
      ]
    },
    {
      "cell_type": "code",
      "execution_count": 33,
      "id": "8c57596e-e17d-4959-b6e8-7581b0bace3a",
      "metadata": {
        "id": "8c57596e-e17d-4959-b6e8-7581b0bace3a"
      },
      "outputs": [],
      "source": [
        "inputs = layers.Input(shape=(None,), dtype=tf.int32)\n",
        "x = TokenAndPositionEmbedding(MAX_LEN, VOCAB_SIZE, EMBEDDING_DIM)(inputs)\n",
        "x, attention_scores = TransformerBlock(\n",
        "    N_HEADS, KEY_DIM, EMBEDDING_DIM, FEED_FORWARD_DIM\n",
        ")(x)\n",
        "outputs = layers.Dense(VOCAB_SIZE, activation=\"softmax\")(x)\n",
        "gpt = models.Model(inputs=inputs, outputs=[outputs, attention_scores])\n",
        "gpt.compile(\"adam\", loss=[losses.SparseCategoricalCrossentropy(), None])"
      ]
    },
    {
      "cell_type": "code",
      "execution_count": 34,
      "id": "1a1c3b0f-3382-444d-bb04-bae143ae5d61",
      "metadata": {
        "id": "1a1c3b0f-3382-444d-bb04-bae143ae5d61",
        "colab": {
          "base_uri": "https://localhost:8080/"
        },
        "outputId": "e839b412-60c2-4172-8926-c42ecdef28aa"
      },
      "outputs": [
        {
          "output_type": "stream",
          "name": "stdout",
          "text": [
            "Model: \"model\"\n",
            "_________________________________________________________________\n",
            " Layer (type)                Output Shape              Param #   \n",
            "=================================================================\n",
            " input_1 (InputLayer)        [(None, None)]            0         \n",
            "                                                                 \n",
            " token_and_position_embeddi  (None, None, 256)         2580480   \n",
            " ng (TokenAndPositionEmbedd                                      \n",
            " ing)                                                            \n",
            "                                                                 \n",
            " transformer_block (Transfo  ((None, None, 256),       658688    \n",
            " rmerBlock)                   (None, 2, None, None))             \n",
            "                                                                 \n",
            " dense_2 (Dense)             (None, None, 10000)       2570000   \n",
            "                                                                 \n",
            "=================================================================\n",
            "Total params: 5809168 (22.16 MB)\n",
            "Trainable params: 5809168 (22.16 MB)\n",
            "Non-trainable params: 0 (0.00 Byte)\n",
            "_________________________________________________________________\n"
          ]
        }
      ],
      "source": [
        "gpt.summary()"
      ]
    },
    {
      "cell_type": "code",
      "execution_count": 35,
      "id": "800a3c6e-fb11-4792-b6bc-9a43a7c977ad",
      "metadata": {
        "tags": [],
        "id": "800a3c6e-fb11-4792-b6bc-9a43a7c977ad"
      },
      "outputs": [],
      "source": [
        "if LOAD_MODEL:\n",
        "    # model.load_weights('./models/model')\n",
        "    gpt = models.load_model(\"./models/gpt\", compile=True)"
      ]
    },
    {
      "cell_type": "markdown",
      "id": "35b14665-4359-447b-be58-3fd58ba69084",
      "metadata": {
        "id": "35b14665-4359-447b-be58-3fd58ba69084"
      },
      "source": [
        "## 9. Train the Transformer <a name=\"train\"></a>"
      ]
    },
    {
      "cell_type": "code",
      "execution_count": 36,
      "id": "3ddcff5f-829d-4449-99d2-9a3cb68f7d72",
      "metadata": {
        "id": "3ddcff5f-829d-4449-99d2-9a3cb68f7d72"
      },
      "outputs": [],
      "source": [
        "# Create a TextGenerator checkpoint\n",
        "class TextGenerator(callbacks.Callback):\n",
        "    def __init__(self, index_to_word, top_k=10):\n",
        "        self.index_to_word = index_to_word\n",
        "        self.word_to_index = {\n",
        "            word: index for index, word in enumerate(index_to_word)\n",
        "        }\n",
        "\n",
        "    def sample_from(self, probs, temperature):\n",
        "        probs = probs ** (1 / temperature)\n",
        "        probs = probs / np.sum(probs)\n",
        "        return np.random.choice(len(probs), p=probs), probs\n",
        "\n",
        "    def generate(self, start_prompt, max_tokens, temperature):\n",
        "        start_tokens = [\n",
        "            self.word_to_index.get(x, 1) for x in start_prompt.split()\n",
        "        ]\n",
        "        sample_token = None\n",
        "        info = []\n",
        "        while len(start_tokens) < max_tokens and sample_token != 0:\n",
        "            x = np.array([start_tokens])\n",
        "            y, att = self.model.predict(x, verbose=0)\n",
        "            sample_token, probs = self.sample_from(y[0][-1], temperature)\n",
        "            info.append(\n",
        "                {\n",
        "                    \"prompt\": start_prompt,\n",
        "                    \"word_probs\": probs,\n",
        "                    \"atts\": att[0, :, -1, :],\n",
        "                }\n",
        "            )\n",
        "            start_tokens.append(sample_token)\n",
        "            start_prompt = start_prompt + \" \" + self.index_to_word[sample_token]\n",
        "        print(f\"\\ngenerated text:\\n{start_prompt}\\n\")\n",
        "        return info\n",
        "\n",
        "    def on_epoch_end(self, epoch, logs=None):\n",
        "        self.generate(\"wine review\", max_tokens=80, temperature=1.0)"
      ]
    },
    {
      "cell_type": "code",
      "execution_count": 37,
      "id": "349865fe-ffbe-450e-97be-043ae1740e78",
      "metadata": {
        "id": "349865fe-ffbe-450e-97be-043ae1740e78"
      },
      "outputs": [],
      "source": [
        "# Create a model save checkpoint\n",
        "model_checkpoint_callback = callbacks.ModelCheckpoint(\n",
        "    filepath=\"./checkpoint/checkpoint.ckpt\",\n",
        "    save_weights_only=True,\n",
        "    save_freq=\"epoch\",\n",
        "    verbose=0,\n",
        ")\n",
        "\n",
        "tensorboard_callback = callbacks.TensorBoard(log_dir=\"./logs\")\n",
        "\n",
        "# Tokenize starting prompt\n",
        "text_generator = TextGenerator(vocab)"
      ]
    },
    {
      "cell_type": "code",
      "execution_count": 38,
      "id": "461c2b3e-b5ae-4def-8bd9-e7bab8c63d8e",
      "metadata": {
        "tags": [],
        "id": "461c2b3e-b5ae-4def-8bd9-e7bab8c63d8e",
        "colab": {
          "base_uri": "https://localhost:8080/"
        },
        "outputId": "76d4ec73-15aa-49ea-fd01-bd7f7a778667"
      },
      "outputs": [
        {
          "output_type": "stream",
          "name": "stdout",
          "text": [
            "Epoch 1/5\n",
            "4060/4060 [==============================] - ETA: 0s - loss: 2.2520 - dense_2_loss: 2.2520\n",
            "generated text:\n",
            "wine review : austria : niederösterreich : grüner veltliner : touch of mint and green fruit appear on the nose , following a hybrid with notes of freshly cut red apple illuminates here . if the result is comprised , very soft and rounded , a super tuscan expression . \n",
            "\n",
            "4060/4060 [==============================] - 5496s 1s/step - loss: 2.2520 - dense_2_loss: 2.2520\n",
            "Epoch 2/5\n",
            "4060/4060 [==============================] - ETA: 0s - loss: 1.9590 - dense_2_loss: 1.9590\n",
            "generated text:\n",
            "wine review : france : bordeaux : bordeaux - style red blend : this is a supple , opulent wine dominated by smoky tannins , black currants and wood . it 2005 comes from a fresh , rustic wine , but it ' s not . \n",
            "\n",
            "4060/4060 [==============================] - 5491s 1s/step - loss: 1.9590 - dense_2_loss: 1.9590\n",
            "Epoch 3/5\n",
            "4060/4060 [==============================] - ETA: 0s - loss: 1.8890 - dense_2_loss: 1.8890\n",
            "generated text:\n",
            "wine review : portugal : port : port : fruity , acidity , luscious vanilla drops is immediately apparent , this is for its opulent wine . very fine tannins are the dominant and the wonderful partnership between the douro acidity . it has the pure green - apple flavors but the wine needs time to come through in the blend . drink from 2016 . \n",
            "\n",
            "4060/4060 [==============================] - 5558s 1s/step - loss: 1.8890 - dense_2_loss: 1.8890\n",
            "Epoch 4/5\n",
            "4060/4060 [==============================] - ETA: 0s - loss: 1.8468 - dense_2_loss: 1.8468\n",
            "generated text:\n",
            "wine review : australia : south australia : chardonnay : apple and pear fruit is buttressed by ample acidity and medium - bodied creaminess , never completely graceful . only adds to the richness , it ' s a medium - bodied wine with a fine veneer of vanilla and butterscotch on the finish . the oak doles out subtle but controlled simplicity . \n",
            "\n",
            "4060/4060 [==============================] - 5530s 1s/step - loss: 1.8468 - dense_2_loss: 1.8468\n",
            "Epoch 5/5\n",
            "4060/4060 [==============================] - ETA: 0s - loss: 1.8167 - dense_2_loss: 1.8167\n",
            "generated text:\n",
            "wine review : us : california : chardonnay : neither high nor overly sweet , this pinot grigio has a spine [UNK] , with the wine lurking in the background . dry , which is brisk and fun to drink now . \n",
            "\n",
            "4060/4060 [==============================] - 5507s 1s/step - loss: 1.8167 - dense_2_loss: 1.8167\n"
          ]
        },
        {
          "output_type": "execute_result",
          "data": {
            "text/plain": [
              "<keras.src.callbacks.History at 0x7e43181cf8b0>"
            ]
          },
          "metadata": {},
          "execution_count": 38
        }
      ],
      "source": [
        "gpt.fit(\n",
        "    train_ds,\n",
        "    epochs=EPOCHS,\n",
        "    callbacks=[model_checkpoint_callback, tensorboard_callback, text_generator],\n",
        ")"
      ]
    },
    {
      "cell_type": "code",
      "execution_count": 39,
      "id": "369bde44-2e39-4bc6-8549-a3a27ecce55c",
      "metadata": {
        "tags": [],
        "id": "369bde44-2e39-4bc6-8549-a3a27ecce55c"
      },
      "outputs": [],
      "source": [
        "# Save the final model\n",
        "gpt.save(\"./models/gpt\")"
      ]
    },
    {
      "cell_type": "markdown",
      "id": "d64e02d2-84dc-40c8-8446-40c09adf1e20",
      "metadata": {
        "id": "d64e02d2-84dc-40c8-8446-40c09adf1e20"
      },
      "source": [
        "# 3. Generate text using the Transformer"
      ]
    },
    {
      "cell_type": "code",
      "execution_count": 40,
      "id": "4ad23adb-3ec9-4e9a-9a59-b9f9bafca649",
      "metadata": {
        "id": "4ad23adb-3ec9-4e9a-9a59-b9f9bafca649"
      },
      "outputs": [],
      "source": [
        "def print_probs(info, vocab, top_k=5):\n",
        "    for i in info:\n",
        "        highlighted_text = []\n",
        "        for word, att_score in zip(\n",
        "            i[\"prompt\"].split(), np.mean(i[\"atts\"], axis=0)\n",
        "        ):\n",
        "            highlighted_text.append(\n",
        "                '<span style=\"background-color:rgba(135,206,250,'\n",
        "                + str(att_score / max(np.mean(i[\"atts\"], axis=0)))\n",
        "                + ');\">'\n",
        "                + word\n",
        "                + \"</span>\"\n",
        "            )\n",
        "        highlighted_text = \" \".join(highlighted_text)\n",
        "        display(HTML(highlighted_text))\n",
        "\n",
        "        word_probs = i[\"word_probs\"]\n",
        "        p_sorted = np.sort(word_probs)[::-1][:top_k]\n",
        "        i_sorted = np.argsort(word_probs)[::-1][:top_k]\n",
        "        for p, i in zip(p_sorted, i_sorted):\n",
        "            print(f\"{vocab[i]}:   \\t{np.round(100*p,2)}%\")\n",
        "        print(\"--------\\n\")"
      ]
    },
    {
      "cell_type": "code",
      "execution_count": 41,
      "id": "3cf25578-d47c-4b26-8252-fcdf2316a4ac",
      "metadata": {
        "id": "3cf25578-d47c-4b26-8252-fcdf2316a4ac",
        "colab": {
          "base_uri": "https://localhost:8080/"
        },
        "outputId": "01d91014-ba12-4a95-f988-de96b1b5340f"
      },
      "outputs": [
        {
          "output_type": "stream",
          "name": "stdout",
          "text": [
            "\n",
            "generated text:\n",
            "wine review : us : oregon : pinot noir : aromatic raspberries , cherries , berries and greens mix with red rose petals , rosewater and a touch of earthy funk . there ' s a hint of bark on the edges comes through on the finish . though gripping and tough . \n",
            "\n"
          ]
        }
      ],
      "source": [
        "info = text_generator.generate(\n",
        "    \"wine review : us\", max_tokens=80, temperature=1.0\n",
        ")"
      ]
    },
    {
      "cell_type": "code",
      "execution_count": 42,
      "id": "4ae2da8e-9b7c-4b71-b37b-021115b3d7ea",
      "metadata": {
        "id": "4ae2da8e-9b7c-4b71-b37b-021115b3d7ea",
        "colab": {
          "base_uri": "https://localhost:8080/"
        },
        "outputId": "9ac6b64b-f69b-446f-cade-ac828392217f"
      },
      "outputs": [
        {
          "output_type": "stream",
          "name": "stdout",
          "text": [
            "\n",
            "generated text:\n",
            "wine review : italy : tuscany : sangiovese : this opens with aromas of dark - skinned berry , blue flower and a whiff of baking spice . the robust palate doles out black cherry , crushed raspberry , white pepper and a hint of pipe tobacco alongside firm but refined tannins . it ' s already accessible so enjoy soon . \n",
            "\n"
          ]
        }
      ],
      "source": [
        "info = text_generator.generate(\n",
        "    \"wine review : italy\", max_tokens=80, temperature=0.5\n",
        ")"
      ]
    },
    {
      "cell_type": "code",
      "execution_count": 43,
      "id": "5cae6d5d-263d-4455-b96c-f315cbe284ee",
      "metadata": {
        "id": "5cae6d5d-263d-4455-b96c-f315cbe284ee",
        "colab": {
          "base_uri": "https://localhost:8080/",
          "height": 1000
        },
        "outputId": "d14f12fe-3f2e-4fbe-fe4b-c08af207121c"
      },
      "outputs": [
        {
          "output_type": "stream",
          "name": "stdout",
          "text": [
            "\n",
            "generated text:\n",
            "wine review : germany : mosel : riesling : whiffs of smoke and slate lend earthiness to this full - bodied , semi - sweet riesling . it ' s ripe , sweet and honeyed , with peach and apricot flavors . it ' s a straightforward yet delectably juicy wine that ' s easy to enjoy . \n",
            "\n"
          ]
        },
        {
          "output_type": "display_data",
          "data": {
            "text/plain": [
              "<IPython.core.display.HTML object>"
            ],
            "text/html": [
              "<span style=\"background-color:rgba(135,206,250,0.762087);\">wine</span> <span style=\"background-color:rgba(135,206,250,1.0);\">review</span> <span style=\"background-color:rgba(135,206,250,0.43626496);\">:</span> <span style=\"background-color:rgba(135,206,250,0.25821817);\">germany</span>"
            ]
          },
          "metadata": {}
        },
        {
          "output_type": "stream",
          "name": "stdout",
          "text": [
            "::   \t100.0%\n",
            "zealand:   \t0.0%\n",
            "-:   \t0.0%\n",
            "grosso:   \t0.0%\n",
            "blend:   \t0.0%\n",
            "--------\n",
            "\n"
          ]
        },
        {
          "output_type": "display_data",
          "data": {
            "text/plain": [
              "<IPython.core.display.HTML object>"
            ],
            "text/html": [
              "<span style=\"background-color:rgba(135,206,250,0.4571888);\">wine</span> <span style=\"background-color:rgba(135,206,250,0.4242053);\">review</span> <span style=\"background-color:rgba(135,206,250,0.45728225);\">:</span> <span style=\"background-color:rgba(135,206,250,1.0);\">germany</span> <span style=\"background-color:rgba(135,206,250,0.6315714);\">:</span>"
            ]
          },
          "metadata": {}
        },
        {
          "output_type": "stream",
          "name": "stdout",
          "text": [
            "mosel:   \t75.28%\n",
            "rheingau:   \t22.75%\n",
            "pfalz:   \t0.84%\n",
            "rheinhessen:   \t0.62%\n",
            "franken:   \t0.28%\n",
            "--------\n",
            "\n"
          ]
        },
        {
          "output_type": "display_data",
          "data": {
            "text/plain": [
              "<IPython.core.display.HTML object>"
            ],
            "text/html": [
              "<span style=\"background-color:rgba(135,206,250,0.8259424);\">wine</span> <span style=\"background-color:rgba(135,206,250,1.0);\">review</span> <span style=\"background-color:rgba(135,206,250,0.36675876);\">:</span> <span style=\"background-color:rgba(135,206,250,0.19229703);\">germany</span> <span style=\"background-color:rgba(135,206,250,0.34246427);\">:</span> <span style=\"background-color:rgba(135,206,250,0.24615152);\">mosel</span>"
            ]
          },
          "metadata": {}
        },
        {
          "output_type": "stream",
          "name": "stdout",
          "text": [
            "::   \t99.17%\n",
            "-:   \t0.83%\n",
            "valley:   \t0.0%\n",
            "blanca:   \t0.0%\n",
            "hills:   \t0.0%\n",
            "--------\n",
            "\n"
          ]
        },
        {
          "output_type": "display_data",
          "data": {
            "text/plain": [
              "<IPython.core.display.HTML object>"
            ],
            "text/html": [
              "<span style=\"background-color:rgba(135,206,250,0.26607907);\">wine</span> <span style=\"background-color:rgba(135,206,250,0.22692512);\">review</span> <span style=\"background-color:rgba(135,206,250,0.18329085);\">:</span> <span style=\"background-color:rgba(135,206,250,0.19007231);\">germany</span> <span style=\"background-color:rgba(135,206,250,0.14841036);\">:</span> <span style=\"background-color:rgba(135,206,250,1.0);\">mosel</span> <span style=\"background-color:rgba(135,206,250,0.15744719);\">:</span>"
            ]
          },
          "metadata": {}
        },
        {
          "output_type": "stream",
          "name": "stdout",
          "text": [
            "riesling:   \t100.0%\n",
            "spätburgunder:   \t0.0%\n",
            "weissburgunder:   \t0.0%\n",
            "pinot:   \t0.0%\n",
            "white:   \t0.0%\n",
            "--------\n",
            "\n"
          ]
        },
        {
          "output_type": "display_data",
          "data": {
            "text/plain": [
              "<IPython.core.display.HTML object>"
            ],
            "text/html": [
              "<span style=\"background-color:rgba(135,206,250,0.6987238);\">wine</span> <span style=\"background-color:rgba(135,206,250,1.0);\">review</span> <span style=\"background-color:rgba(135,206,250,0.25551876);\">:</span> <span style=\"background-color:rgba(135,206,250,0.11375899);\">germany</span> <span style=\"background-color:rgba(135,206,250,0.24588653);\">:</span> <span style=\"background-color:rgba(135,206,250,0.33105937);\">mosel</span> <span style=\"background-color:rgba(135,206,250,0.34102932);\">:</span> <span style=\"background-color:rgba(135,206,250,0.09095616);\">riesling</span>"
            ]
          },
          "metadata": {}
        },
        {
          "output_type": "stream",
          "name": "stdout",
          "text": [
            "::   \t100.0%\n",
            "-:   \t0.0%\n",
            "blanc:   \t0.0%\n",
            "grosso:   \t0.0%\n",
            "du:   \t0.0%\n",
            "--------\n",
            "\n"
          ]
        },
        {
          "output_type": "display_data",
          "data": {
            "text/plain": [
              "<IPython.core.display.HTML object>"
            ],
            "text/html": [
              "<span style=\"background-color:rgba(135,206,250,0.611778);\">wine</span> <span style=\"background-color:rgba(135,206,250,0.5237987);\">review</span> <span style=\"background-color:rgba(135,206,250,0.4792497);\">:</span> <span style=\"background-color:rgba(135,206,250,0.7936852);\">germany</span> <span style=\"background-color:rgba(135,206,250,0.39222896);\">:</span> <span style=\"background-color:rgba(135,206,250,1.0);\">mosel</span> <span style=\"background-color:rgba(135,206,250,0.5293183);\">:</span> <span style=\"background-color:rgba(135,206,250,0.8136509);\">riesling</span> <span style=\"background-color:rgba(135,206,250,0.4811771);\">:</span>"
            ]
          },
          "metadata": {}
        },
        {
          "output_type": "stream",
          "name": "stdout",
          "text": [
            "a:   \t21.8%\n",
            "whiffs:   \t18.71%\n",
            "while:   \t12.16%\n",
            "this:   \t8.27%\n",
            "hints:   \t7.81%\n",
            "--------\n",
            "\n"
          ]
        },
        {
          "output_type": "display_data",
          "data": {
            "text/plain": [
              "<IPython.core.display.HTML object>"
            ],
            "text/html": [
              "<span style=\"background-color:rgba(135,206,250,0.56474155);\">wine</span> <span style=\"background-color:rgba(135,206,250,1.0);\">review</span> <span style=\"background-color:rgba(135,206,250,0.40664127);\">:</span> <span style=\"background-color:rgba(135,206,250,0.25052023);\">germany</span> <span style=\"background-color:rgba(135,206,250,0.35271895);\">:</span> <span style=\"background-color:rgba(135,206,250,0.23140776);\">mosel</span> <span style=\"background-color:rgba(135,206,250,0.29339454);\">:</span> <span style=\"background-color:rgba(135,206,250,0.21999915);\">riesling</span> <span style=\"background-color:rgba(135,206,250,0.37259206);\">:</span> <span style=\"background-color:rgba(135,206,250,0.24821973);\">whiffs</span>"
            ]
          },
          "metadata": {}
        },
        {
          "output_type": "stream",
          "name": "stdout",
          "text": [
            "of:   \t100.0%\n",
            "suggesting:   \t0.0%\n",
            "recall:   \t0.0%\n",
            "suggest:   \t0.0%\n",
            "evoking:   \t0.0%\n",
            "--------\n",
            "\n"
          ]
        },
        {
          "output_type": "display_data",
          "data": {
            "text/plain": [
              "<IPython.core.display.HTML object>"
            ],
            "text/html": [
              "<span style=\"background-color:rgba(135,206,250,0.60065776);\">wine</span> <span style=\"background-color:rgba(135,206,250,0.62606096);\">review</span> <span style=\"background-color:rgba(135,206,250,0.38936788);\">:</span> <span style=\"background-color:rgba(135,206,250,0.39191273);\">germany</span> <span style=\"background-color:rgba(135,206,250,0.2073421);\">:</span> <span style=\"background-color:rgba(135,206,250,0.4958375);\">mosel</span> <span style=\"background-color:rgba(135,206,250,0.2944616);\">:</span> <span style=\"background-color:rgba(135,206,250,0.3832426);\">riesling</span> <span style=\"background-color:rgba(135,206,250,0.38517866);\">:</span> <span style=\"background-color:rgba(135,206,250,1.0);\">whiffs</span> <span style=\"background-color:rgba(135,206,250,0.2880208);\">of</span>"
            ]
          },
          "metadata": {}
        },
        {
          "output_type": "stream",
          "name": "stdout",
          "text": [
            "smoke:   \t76.29%\n",
            "saffron:   \t8.56%\n",
            "crushed:   \t5.31%\n",
            "honey:   \t2.61%\n",
            "slate:   \t1.47%\n",
            "--------\n",
            "\n"
          ]
        },
        {
          "output_type": "display_data",
          "data": {
            "text/plain": [
              "<IPython.core.display.HTML object>"
            ],
            "text/html": [
              "<span style=\"background-color:rgba(135,206,250,0.66971433);\">wine</span> <span style=\"background-color:rgba(135,206,250,1.0);\">review</span> <span style=\"background-color:rgba(135,206,250,0.23961473);\">:</span> <span style=\"background-color:rgba(135,206,250,0.26129782);\">germany</span> <span style=\"background-color:rgba(135,206,250,0.19976373);\">:</span> <span style=\"background-color:rgba(135,206,250,0.10278504);\">mosel</span> <span style=\"background-color:rgba(135,206,250,0.22511807);\">:</span> <span style=\"background-color:rgba(135,206,250,0.08320338);\">riesling</span> <span style=\"background-color:rgba(135,206,250,0.30161265);\">:</span> <span style=\"background-color:rgba(135,206,250,0.5571655);\">whiffs</span> <span style=\"background-color:rgba(135,206,250,0.6274796);\">of</span> <span style=\"background-color:rgba(135,206,250,0.2926613);\">smoke</span>"
            ]
          },
          "metadata": {}
        },
        {
          "output_type": "stream",
          "name": "stdout",
          "text": [
            "and:   \t98.23%\n",
            ",:   \t1.76%\n",
            "lends:   \t0.0%\n",
            "lend:   \t0.0%\n",
            "blow:   \t0.0%\n",
            "--------\n",
            "\n"
          ]
        },
        {
          "output_type": "display_data",
          "data": {
            "text/plain": [
              "<IPython.core.display.HTML object>"
            ],
            "text/html": [
              "<span style=\"background-color:rgba(135,206,250,0.18748613);\">wine</span> <span style=\"background-color:rgba(135,206,250,0.24011824);\">review</span> <span style=\"background-color:rgba(135,206,250,0.14214346);\">:</span> <span style=\"background-color:rgba(135,206,250,0.20380814);\">germany</span> <span style=\"background-color:rgba(135,206,250,0.14207514);\">:</span> <span style=\"background-color:rgba(135,206,250,0.17723402);\">mosel</span> <span style=\"background-color:rgba(135,206,250,0.08656054);\">:</span> <span style=\"background-color:rgba(135,206,250,0.20233056);\">riesling</span> <span style=\"background-color:rgba(135,206,250,0.13024627);\">:</span> <span style=\"background-color:rgba(135,206,250,0.35899678);\">whiffs</span> <span style=\"background-color:rgba(135,206,250,0.21098523);\">of</span> <span style=\"background-color:rgba(135,206,250,1.0);\">smoke</span> <span style=\"background-color:rgba(135,206,250,0.15120965);\">and</span>"
            ]
          },
          "metadata": {}
        },
        {
          "output_type": "stream",
          "name": "stdout",
          "text": [
            "slate:   \t75.58%\n",
            "crushed:   \t14.08%\n",
            "smoke:   \t2.94%\n",
            "bramble:   \t0.87%\n",
            "struck:   \t0.87%\n",
            "--------\n",
            "\n"
          ]
        },
        {
          "output_type": "display_data",
          "data": {
            "text/plain": [
              "<IPython.core.display.HTML object>"
            ],
            "text/html": [
              "<span style=\"background-color:rgba(135,206,250,0.46769124);\">wine</span> <span style=\"background-color:rgba(135,206,250,0.8359393);\">review</span> <span style=\"background-color:rgba(135,206,250,0.25596187);\">:</span> <span style=\"background-color:rgba(135,206,250,0.3725219);\">germany</span> <span style=\"background-color:rgba(135,206,250,0.2715012);\">:</span> <span style=\"background-color:rgba(135,206,250,0.11435329);\">mosel</span> <span style=\"background-color:rgba(135,206,250,0.26611522);\">:</span> <span style=\"background-color:rgba(135,206,250,0.09934154);\">riesling</span> <span style=\"background-color:rgba(135,206,250,0.28717667);\">:</span> <span style=\"background-color:rgba(135,206,250,0.7274771);\">whiffs</span> <span style=\"background-color:rgba(135,206,250,0.69194794);\">of</span> <span style=\"background-color:rgba(135,206,250,0.37665224);\">smoke</span> <span style=\"background-color:rgba(135,206,250,1.0);\">and</span> <span style=\"background-color:rgba(135,206,250,0.5722931);\">slate</span>"
            ]
          },
          "metadata": {}
        },
        {
          "output_type": "stream",
          "name": "stdout",
          "text": [
            "lend:   \t97.71%\n",
            "add:   \t1.44%\n",
            "meld:   \t0.17%\n",
            "are:   \t0.13%\n",
            "extend:   \t0.08%\n",
            "--------\n",
            "\n"
          ]
        },
        {
          "output_type": "display_data",
          "data": {
            "text/plain": [
              "<IPython.core.display.HTML object>"
            ],
            "text/html": [
              "<span style=\"background-color:rgba(135,206,250,0.78162163);\">wine</span> <span style=\"background-color:rgba(135,206,250,1.0);\">review</span> <span style=\"background-color:rgba(135,206,250,0.46118984);\">:</span> <span style=\"background-color:rgba(135,206,250,0.52649593);\">germany</span> <span style=\"background-color:rgba(135,206,250,0.43183786);\">:</span> <span style=\"background-color:rgba(135,206,250,0.4219907);\">mosel</span> <span style=\"background-color:rgba(135,206,250,0.24780747);\">:</span> <span style=\"background-color:rgba(135,206,250,0.23396938);\">riesling</span> <span style=\"background-color:rgba(135,206,250,0.33330798);\">:</span> <span style=\"background-color:rgba(135,206,250,0.43925312);\">whiffs</span> <span style=\"background-color:rgba(135,206,250,0.37872455);\">of</span> <span style=\"background-color:rgba(135,206,250,0.71077734);\">smoke</span> <span style=\"background-color:rgba(135,206,250,0.7737191);\">and</span> <span style=\"background-color:rgba(135,206,250,0.91970956);\">slate</span> <span style=\"background-color:rgba(135,206,250,0.61726356);\">lend</span>"
            ]
          },
          "metadata": {}
        },
        {
          "output_type": "stream",
          "name": "stdout",
          "text": [
            "a:   \t54.72%\n",
            "complexity:   \t18.18%\n",
            "savory:   \t10.17%\n",
            "earthiness:   \t7.03%\n",
            "nuance:   \t2.69%\n",
            "--------\n",
            "\n"
          ]
        },
        {
          "output_type": "display_data",
          "data": {
            "text/plain": [
              "<IPython.core.display.HTML object>"
            ],
            "text/html": [
              "<span style=\"background-color:rgba(135,206,250,0.1366045);\">wine</span> <span style=\"background-color:rgba(135,206,250,0.35434154);\">review</span> <span style=\"background-color:rgba(135,206,250,0.091631405);\">:</span> <span style=\"background-color:rgba(135,206,250,0.1349555);\">germany</span> <span style=\"background-color:rgba(135,206,250,0.09499201);\">:</span> <span style=\"background-color:rgba(135,206,250,0.046603948);\">mosel</span> <span style=\"background-color:rgba(135,206,250,0.07008037);\">:</span> <span style=\"background-color:rgba(135,206,250,0.06080868);\">riesling</span> <span style=\"background-color:rgba(135,206,250,0.098731466);\">:</span> <span style=\"background-color:rgba(135,206,250,0.130554);\">whiffs</span> <span style=\"background-color:rgba(135,206,250,0.1083937);\">of</span> <span style=\"background-color:rgba(135,206,250,0.05992739);\">smoke</span> <span style=\"background-color:rgba(135,206,250,0.15838045);\">and</span> <span style=\"background-color:rgba(135,206,250,0.11957545);\">slate</span> <span style=\"background-color:rgba(135,206,250,1.0);\">lend</span> <span style=\"background-color:rgba(135,206,250,0.14272897);\">earthiness</span>"
            ]
          },
          "metadata": {}
        },
        {
          "output_type": "stream",
          "name": "stdout",
          "text": [
            "to:   \t99.98%\n",
            "and:   \t0.02%\n",
            ",:   \t0.0%\n",
            ".:   \t0.0%\n",
            "on:   \t0.0%\n",
            "--------\n",
            "\n"
          ]
        },
        {
          "output_type": "display_data",
          "data": {
            "text/plain": [
              "<IPython.core.display.HTML object>"
            ],
            "text/html": [
              "<span style=\"background-color:rgba(135,206,250,0.21271461);\">wine</span> <span style=\"background-color:rgba(135,206,250,0.34142527);\">review</span> <span style=\"background-color:rgba(135,206,250,0.14283948);\">:</span> <span style=\"background-color:rgba(135,206,250,0.26424226);\">germany</span> <span style=\"background-color:rgba(135,206,250,0.13464695);\">:</span> <span style=\"background-color:rgba(135,206,250,0.1732121);\">mosel</span> <span style=\"background-color:rgba(135,206,250,0.097214654);\">:</span> <span style=\"background-color:rgba(135,206,250,0.2091972);\">riesling</span> <span style=\"background-color:rgba(135,206,250,0.13649344);\">:</span> <span style=\"background-color:rgba(135,206,250,0.1632255);\">whiffs</span> <span style=\"background-color:rgba(135,206,250,0.10369304);\">of</span> <span style=\"background-color:rgba(135,206,250,0.15184337);\">smoke</span> <span style=\"background-color:rgba(135,206,250,0.10855868);\">and</span> <span style=\"background-color:rgba(135,206,250,0.25017628);\">slate</span> <span style=\"background-color:rgba(135,206,250,1.0);\">lend</span> <span style=\"background-color:rgba(135,206,250,0.5399887);\">earthiness</span> <span style=\"background-color:rgba(135,206,250,0.14198008);\">to</span>"
            ]
          },
          "metadata": {}
        },
        {
          "output_type": "stream",
          "name": "stdout",
          "text": [
            "this:   \t87.0%\n",
            "the:   \t9.08%\n",
            "pristine:   \t2.57%\n",
            "fresh:   \t0.45%\n",
            "ripe:   \t0.25%\n",
            "--------\n",
            "\n"
          ]
        },
        {
          "output_type": "display_data",
          "data": {
            "text/plain": [
              "<IPython.core.display.HTML object>"
            ],
            "text/html": [
              "<span style=\"background-color:rgba(135,206,250,0.48422012);\">wine</span> <span style=\"background-color:rgba(135,206,250,0.619805);\">review</span> <span style=\"background-color:rgba(135,206,250,0.4048469);\">:</span> <span style=\"background-color:rgba(135,206,250,1.0);\">germany</span> <span style=\"background-color:rgba(135,206,250,0.39563647);\">:</span> <span style=\"background-color:rgba(135,206,250,0.45963338);\">mosel</span> <span style=\"background-color:rgba(135,206,250,0.21068108);\">:</span> <span style=\"background-color:rgba(135,206,250,0.6317751);\">riesling</span> <span style=\"background-color:rgba(135,206,250,0.34400088);\">:</span> <span style=\"background-color:rgba(135,206,250,0.5147615);\">whiffs</span> <span style=\"background-color:rgba(135,206,250,0.23140636);\">of</span> <span style=\"background-color:rgba(135,206,250,0.28504774);\">smoke</span> <span style=\"background-color:rgba(135,206,250,0.2047785);\">and</span> <span style=\"background-color:rgba(135,206,250,0.32377145);\">slate</span> <span style=\"background-color:rgba(135,206,250,0.60732144);\">lend</span> <span style=\"background-color:rgba(135,206,250,0.4849349);\">earthiness</span> <span style=\"background-color:rgba(135,206,250,0.94223994);\">to</span> <span style=\"background-color:rgba(135,206,250,0.44162145);\">this</span>"
            ]
          },
          "metadata": {}
        },
        {
          "output_type": "stream",
          "name": "stdout",
          "text": [
            "dry:   \t30.79%\n",
            "off:   \t13.45%\n",
            "semi:   \t11.38%\n",
            "intensely:   \t10.15%\n",
            "otherwise:   \t7.59%\n",
            "--------\n",
            "\n"
          ]
        },
        {
          "output_type": "display_data",
          "data": {
            "text/plain": [
              "<IPython.core.display.HTML object>"
            ],
            "text/html": [
              "<span style=\"background-color:rgba(135,206,250,0.3268699);\">wine</span> <span style=\"background-color:rgba(135,206,250,0.60017836);\">review</span> <span style=\"background-color:rgba(135,206,250,0.23321709);\">:</span> <span style=\"background-color:rgba(135,206,250,0.33212355);\">germany</span> <span style=\"background-color:rgba(135,206,250,0.30660686);\">:</span> <span style=\"background-color:rgba(135,206,250,0.15276717);\">mosel</span> <span style=\"background-color:rgba(135,206,250,0.15211394);\">:</span> <span style=\"background-color:rgba(135,206,250,0.21251942);\">riesling</span> <span style=\"background-color:rgba(135,206,250,0.22349459);\">:</span> <span style=\"background-color:rgba(135,206,250,0.17719868);\">whiffs</span> <span style=\"background-color:rgba(135,206,250,0.20302889);\">of</span> <span style=\"background-color:rgba(135,206,250,0.16061269);\">smoke</span> <span style=\"background-color:rgba(135,206,250,0.15391363);\">and</span> <span style=\"background-color:rgba(135,206,250,0.34154204);\">slate</span> <span style=\"background-color:rgba(135,206,250,0.74967843);\">lend</span> <span style=\"background-color:rgba(135,206,250,0.45089936);\">earthiness</span> <span style=\"background-color:rgba(135,206,250,0.3682449);\">to</span> <span style=\"background-color:rgba(135,206,250,1.0);\">this</span> <span style=\"background-color:rgba(135,206,250,0.20012264);\">full</span>"
            ]
          },
          "metadata": {}
        },
        {
          "output_type": "stream",
          "name": "stdout",
          "text": [
            "-:   \t99.96%\n",
            ",:   \t0.04%\n",
            "wine:   \t0.0%\n",
            "and:   \t0.0%\n",
            "riesling:   \t0.0%\n",
            "--------\n",
            "\n"
          ]
        },
        {
          "output_type": "display_data",
          "data": {
            "text/plain": [
              "<IPython.core.display.HTML object>"
            ],
            "text/html": [
              "<span style=\"background-color:rgba(135,206,250,0.14551759);\">wine</span> <span style=\"background-color:rgba(135,206,250,0.21744122);\">review</span> <span style=\"background-color:rgba(135,206,250,0.0989419);\">:</span> <span style=\"background-color:rgba(135,206,250,0.1955881);\">germany</span> <span style=\"background-color:rgba(135,206,250,0.17073153);\">:</span> <span style=\"background-color:rgba(135,206,250,0.11058798);\">mosel</span> <span style=\"background-color:rgba(135,206,250,0.07603061);\">:</span> <span style=\"background-color:rgba(135,206,250,0.19778866);\">riesling</span> <span style=\"background-color:rgba(135,206,250,0.11526801);\">:</span> <span style=\"background-color:rgba(135,206,250,0.109590426);\">whiffs</span> <span style=\"background-color:rgba(135,206,250,0.08909231);\">of</span> <span style=\"background-color:rgba(135,206,250,0.10910745);\">smoke</span> <span style=\"background-color:rgba(135,206,250,0.07644093);\">and</span> <span style=\"background-color:rgba(135,206,250,0.19080074);\">slate</span> <span style=\"background-color:rgba(135,206,250,0.19133142);\">lend</span> <span style=\"background-color:rgba(135,206,250,0.20445384);\">earthiness</span> <span style=\"background-color:rgba(135,206,250,0.29912087);\">to</span> <span style=\"background-color:rgba(135,206,250,0.42990968);\">this</span> <span style=\"background-color:rgba(135,206,250,1.0);\">full</span> <span style=\"background-color:rgba(135,206,250,0.0772161);\">-</span>"
            ]
          },
          "metadata": {}
        },
        {
          "output_type": "stream",
          "name": "stdout",
          "text": [
            "bodied:   \t100.0%\n",
            "and:   \t0.0%\n",
            "on:   \t0.0%\n",
            "footed:   \t0.0%\n",
            "force:   \t0.0%\n",
            "--------\n",
            "\n"
          ]
        },
        {
          "output_type": "display_data",
          "data": {
            "text/plain": [
              "<IPython.core.display.HTML object>"
            ],
            "text/html": [
              "<span style=\"background-color:rgba(135,206,250,0.19204283);\">wine</span> <span style=\"background-color:rgba(135,206,250,0.36632422);\">review</span> <span style=\"background-color:rgba(135,206,250,0.15906976);\">:</span> <span style=\"background-color:rgba(135,206,250,0.28566846);\">germany</span> <span style=\"background-color:rgba(135,206,250,0.1673832);\">:</span> <span style=\"background-color:rgba(135,206,250,0.17433052);\">mosel</span> <span style=\"background-color:rgba(135,206,250,0.13807958);\">:</span> <span style=\"background-color:rgba(135,206,250,0.46937606);\">riesling</span> <span style=\"background-color:rgba(135,206,250,0.24102134);\">:</span> <span style=\"background-color:rgba(135,206,250,0.19155319);\">whiffs</span> <span style=\"background-color:rgba(135,206,250,0.14785476);\">of</span> <span style=\"background-color:rgba(135,206,250,0.105405636);\">smoke</span> <span style=\"background-color:rgba(135,206,250,0.11607959);\">and</span> <span style=\"background-color:rgba(135,206,250,0.19939213);\">slate</span> <span style=\"background-color:rgba(135,206,250,0.44424844);\">lend</span> <span style=\"background-color:rgba(135,206,250,0.21588908);\">earthiness</span> <span style=\"background-color:rgba(135,206,250,0.32727683);\">to</span> <span style=\"background-color:rgba(135,206,250,1.0);\">this</span> <span style=\"background-color:rgba(135,206,250,0.17071448);\">full</span> <span style=\"background-color:rgba(135,206,250,0.20467924);\">-</span> <span style=\"background-color:rgba(135,206,250,0.23392767);\">bodied</span>"
            ]
          },
          "metadata": {}
        },
        {
          "output_type": "stream",
          "name": "stdout",
          "text": [
            ",:   \t54.77%\n",
            "riesling:   \t31.41%\n",
            "wine:   \t8.97%\n",
            "dry:   \t4.5%\n",
            "and:   \t0.09%\n",
            "--------\n",
            "\n"
          ]
        },
        {
          "output_type": "display_data",
          "data": {
            "text/plain": [
              "<IPython.core.display.HTML object>"
            ],
            "text/html": [
              "<span style=\"background-color:rgba(135,206,250,0.16198467);\">wine</span> <span style=\"background-color:rgba(135,206,250,0.32612398);\">review</span> <span style=\"background-color:rgba(135,206,250,0.14493456);\">:</span> <span style=\"background-color:rgba(135,206,250,0.50033754);\">germany</span> <span style=\"background-color:rgba(135,206,250,0.25885573);\">:</span> <span style=\"background-color:rgba(135,206,250,0.17534852);\">mosel</span> <span style=\"background-color:rgba(135,206,250,0.10916473);\">:</span> <span style=\"background-color:rgba(135,206,250,0.36556447);\">riesling</span> <span style=\"background-color:rgba(135,206,250,0.1897202);\">:</span> <span style=\"background-color:rgba(135,206,250,0.1581691);\">whiffs</span> <span style=\"background-color:rgba(135,206,250,0.114725605);\">of</span> <span style=\"background-color:rgba(135,206,250,0.15961127);\">smoke</span> <span style=\"background-color:rgba(135,206,250,0.13051735);\">and</span> <span style=\"background-color:rgba(135,206,250,0.250978);\">slate</span> <span style=\"background-color:rgba(135,206,250,0.45375377);\">lend</span> <span style=\"background-color:rgba(135,206,250,0.34250095);\">earthiness</span> <span style=\"background-color:rgba(135,206,250,0.3001677);\">to</span> <span style=\"background-color:rgba(135,206,250,0.5985233);\">this</span> <span style=\"background-color:rgba(135,206,250,0.5376941);\">full</span> <span style=\"background-color:rgba(135,206,250,0.4084226);\">-</span> <span style=\"background-color:rgba(135,206,250,1.0);\">bodied</span> <span style=\"background-color:rgba(135,206,250,0.5854405);\">,</span>"
            ]
          },
          "metadata": {}
        },
        {
          "output_type": "stream",
          "name": "stdout",
          "text": [
            "dry:   \t57.85%\n",
            "intensely:   \t9.59%\n",
            "richly:   \t5.23%\n",
            "ripe:   \t4.98%\n",
            "off:   \t3.56%\n",
            "--------\n",
            "\n"
          ]
        },
        {
          "output_type": "display_data",
          "data": {
            "text/plain": [
              "<IPython.core.display.HTML object>"
            ],
            "text/html": [
              "<span style=\"background-color:rgba(135,206,250,0.5915097);\">wine</span> <span style=\"background-color:rgba(135,206,250,0.91697663);\">review</span> <span style=\"background-color:rgba(135,206,250,0.6031981);\">:</span> <span style=\"background-color:rgba(135,206,250,0.619068);\">germany</span> <span style=\"background-color:rgba(135,206,250,1.0);\">:</span> <span style=\"background-color:rgba(135,206,250,0.22834188);\">mosel</span> <span style=\"background-color:rgba(135,206,250,0.3205764);\">:</span> <span style=\"background-color:rgba(135,206,250,0.33731043);\">riesling</span> <span style=\"background-color:rgba(135,206,250,0.38770884);\">:</span> <span style=\"background-color:rgba(135,206,250,0.20626883);\">whiffs</span> <span style=\"background-color:rgba(135,206,250,0.18976422);\">of</span> <span style=\"background-color:rgba(135,206,250,0.10565553);\">smoke</span> <span style=\"background-color:rgba(135,206,250,0.1541836);\">and</span> <span style=\"background-color:rgba(135,206,250,0.16619875);\">slate</span> <span style=\"background-color:rgba(135,206,250,0.2820512);\">lend</span> <span style=\"background-color:rgba(135,206,250,0.16013291);\">earthiness</span> <span style=\"background-color:rgba(135,206,250,0.20180811);\">to</span> <span style=\"background-color:rgba(135,206,250,0.2920431);\">this</span> <span style=\"background-color:rgba(135,206,250,0.12459197);\">full</span> <span style=\"background-color:rgba(135,206,250,0.27737287);\">-</span> <span style=\"background-color:rgba(135,206,250,0.39077348);\">bodied</span> <span style=\"background-color:rgba(135,206,250,0.7780282);\">,</span> <span style=\"background-color:rgba(135,206,250,0.31555998);\">semi</span>"
            ]
          },
          "metadata": {}
        },
        {
          "output_type": "stream",
          "name": "stdout",
          "text": [
            "-:   \t100.0%\n",
            "dry:   \t0.0%\n",
            "sweet:   \t0.0%\n",
            "riesling:   \t0.0%\n",
            "white:   \t0.0%\n",
            "--------\n",
            "\n"
          ]
        },
        {
          "output_type": "display_data",
          "data": {
            "text/plain": [
              "<IPython.core.display.HTML object>"
            ],
            "text/html": [
              "<span style=\"background-color:rgba(135,206,250,0.06677338);\">wine</span> <span style=\"background-color:rgba(135,206,250,0.10533816);\">review</span> <span style=\"background-color:rgba(135,206,250,0.04703859);\">:</span> <span style=\"background-color:rgba(135,206,250,0.10357687);\">germany</span> <span style=\"background-color:rgba(135,206,250,0.07287833);\">:</span> <span style=\"background-color:rgba(135,206,250,0.0565032);\">mosel</span> <span style=\"background-color:rgba(135,206,250,0.03716401);\">:</span> <span style=\"background-color:rgba(135,206,250,0.10069554);\">riesling</span> <span style=\"background-color:rgba(135,206,250,0.05645414);\">:</span> <span style=\"background-color:rgba(135,206,250,0.048954137);\">whiffs</span> <span style=\"background-color:rgba(135,206,250,0.039561354);\">of</span> <span style=\"background-color:rgba(135,206,250,0.03673791);\">smoke</span> <span style=\"background-color:rgba(135,206,250,0.029082071);\">and</span> <span style=\"background-color:rgba(135,206,250,0.04423387);\">slate</span> <span style=\"background-color:rgba(135,206,250,0.06995825);\">lend</span> <span style=\"background-color:rgba(135,206,250,0.043317307);\">earthiness</span> <span style=\"background-color:rgba(135,206,250,0.037134275);\">to</span> <span style=\"background-color:rgba(135,206,250,0.0542878);\">this</span> <span style=\"background-color:rgba(135,206,250,0.048829537);\">full</span> <span style=\"background-color:rgba(135,206,250,0.017259996);\">-</span> <span style=\"background-color:rgba(135,206,250,0.10098204);\">bodied</span> <span style=\"background-color:rgba(135,206,250,0.09522062);\">,</span> <span style=\"background-color:rgba(135,206,250,1.0);\">semi</span> <span style=\"background-color:rgba(135,206,250,0.0285966);\">-</span>"
            ]
          },
          "metadata": {}
        },
        {
          "output_type": "stream",
          "name": "stdout",
          "text": [
            "sweet:   \t98.34%\n",
            "dry:   \t1.61%\n",
            "concentrated:   \t0.01%\n",
            "bodied:   \t0.01%\n",
            "ripe:   \t0.01%\n",
            "--------\n",
            "\n"
          ]
        },
        {
          "output_type": "display_data",
          "data": {
            "text/plain": [
              "<IPython.core.display.HTML object>"
            ],
            "text/html": [
              "<span style=\"background-color:rgba(135,206,250,0.19650036);\">wine</span> <span style=\"background-color:rgba(135,206,250,0.33865234);\">review</span> <span style=\"background-color:rgba(135,206,250,0.1890371);\">:</span> <span style=\"background-color:rgba(135,206,250,0.5403942);\">germany</span> <span style=\"background-color:rgba(135,206,250,0.36450437);\">:</span> <span style=\"background-color:rgba(135,206,250,0.21147323);\">mosel</span> <span style=\"background-color:rgba(135,206,250,0.1313983);\">:</span> <span style=\"background-color:rgba(135,206,250,0.44246885);\">riesling</span> <span style=\"background-color:rgba(135,206,250,0.18731387);\">:</span> <span style=\"background-color:rgba(135,206,250,0.14369239);\">whiffs</span> <span style=\"background-color:rgba(135,206,250,0.09439446);\">of</span> <span style=\"background-color:rgba(135,206,250,0.12153905);\">smoke</span> <span style=\"background-color:rgba(135,206,250,0.07712293);\">and</span> <span style=\"background-color:rgba(135,206,250,0.24083717);\">slate</span> <span style=\"background-color:rgba(135,206,250,0.3099625);\">lend</span> <span style=\"background-color:rgba(135,206,250,0.17375019);\">earthiness</span> <span style=\"background-color:rgba(135,206,250,0.14315833);\">to</span> <span style=\"background-color:rgba(135,206,250,0.34445924);\">this</span> <span style=\"background-color:rgba(135,206,250,0.14839633);\">full</span> <span style=\"background-color:rgba(135,206,250,0.13746794);\">-</span> <span style=\"background-color:rgba(135,206,250,0.32692337);\">bodied</span> <span style=\"background-color:rgba(135,206,250,0.48862);\">,</span> <span style=\"background-color:rgba(135,206,250,1.0);\">semi</span> <span style=\"background-color:rgba(135,206,250,0.49024472);\">-</span> <span style=\"background-color:rgba(135,206,250,0.40693864);\">sweet</span>"
            ]
          },
          "metadata": {}
        },
        {
          "output_type": "stream",
          "name": "stdout",
          "text": [
            "riesling:   \t98.79%\n",
            "wine:   \t0.8%\n",
            "spätlese:   \t0.21%\n",
            "auslese:   \t0.11%\n",
            "white:   \t0.04%\n",
            "--------\n",
            "\n"
          ]
        },
        {
          "output_type": "display_data",
          "data": {
            "text/plain": [
              "<IPython.core.display.HTML object>"
            ],
            "text/html": [
              "<span style=\"background-color:rgba(135,206,250,0.32093102);\">wine</span> <span style=\"background-color:rgba(135,206,250,0.8261548);\">review</span> <span style=\"background-color:rgba(135,206,250,0.2382602);\">:</span> <span style=\"background-color:rgba(135,206,250,0.5091514);\">germany</span> <span style=\"background-color:rgba(135,206,250,0.3522384);\">:</span> <span style=\"background-color:rgba(135,206,250,0.105370775);\">mosel</span> <span style=\"background-color:rgba(135,206,250,0.22994766);\">:</span> <span style=\"background-color:rgba(135,206,250,0.14588298);\">riesling</span> <span style=\"background-color:rgba(135,206,250,0.37935662);\">:</span> <span style=\"background-color:rgba(135,206,250,0.4471257);\">whiffs</span> <span style=\"background-color:rgba(135,206,250,0.20277299);\">of</span> <span style=\"background-color:rgba(135,206,250,0.11602779);\">smoke</span> <span style=\"background-color:rgba(135,206,250,0.14416642);\">and</span> <span style=\"background-color:rgba(135,206,250,0.14751808);\">slate</span> <span style=\"background-color:rgba(135,206,250,1.0);\">lend</span> <span style=\"background-color:rgba(135,206,250,0.20271327);\">earthiness</span> <span style=\"background-color:rgba(135,206,250,0.3619721);\">to</span> <span style=\"background-color:rgba(135,206,250,0.647231);\">this</span> <span style=\"background-color:rgba(135,206,250,0.31342158);\">full</span> <span style=\"background-color:rgba(135,206,250,0.2274633);\">-</span> <span style=\"background-color:rgba(135,206,250,0.35209608);\">bodied</span> <span style=\"background-color:rgba(135,206,250,0.8646926);\">,</span> <span style=\"background-color:rgba(135,206,250,0.39872622);\">semi</span> <span style=\"background-color:rgba(135,206,250,0.4698855);\">-</span> <span style=\"background-color:rgba(135,206,250,0.55370885);\">sweet</span> <span style=\"background-color:rgba(135,206,250,0.5220696);\">riesling</span>"
            ]
          },
          "metadata": {}
        },
        {
          "output_type": "stream",
          "name": "stdout",
          "text": [
            ".:   \t99.97%\n",
            "that:   \t0.03%\n",
            ",:   \t0.0%\n",
            "from:   \t0.0%\n",
            "and:   \t0.0%\n",
            "--------\n",
            "\n"
          ]
        },
        {
          "output_type": "display_data",
          "data": {
            "text/plain": [
              "<IPython.core.display.HTML object>"
            ],
            "text/html": [
              "<span style=\"background-color:rgba(135,206,250,0.30357012);\">wine</span> <span style=\"background-color:rgba(135,206,250,0.24112776);\">review</span> <span style=\"background-color:rgba(135,206,250,0.51357365);\">:</span> <span style=\"background-color:rgba(135,206,250,1.0);\">germany</span> <span style=\"background-color:rgba(135,206,250,0.35596848);\">:</span> <span style=\"background-color:rgba(135,206,250,0.24018733);\">mosel</span> <span style=\"background-color:rgba(135,206,250,0.23935705);\">:</span> <span style=\"background-color:rgba(135,206,250,0.23804769);\">riesling</span> <span style=\"background-color:rgba(135,206,250,0.2539803);\">:</span> <span style=\"background-color:rgba(135,206,250,0.13861114);\">whiffs</span> <span style=\"background-color:rgba(135,206,250,0.07966716);\">of</span> <span style=\"background-color:rgba(135,206,250,0.112156056);\">smoke</span> <span style=\"background-color:rgba(135,206,250,0.08808764);\">and</span> <span style=\"background-color:rgba(135,206,250,0.1462892);\">slate</span> <span style=\"background-color:rgba(135,206,250,0.17527248);\">lend</span> <span style=\"background-color:rgba(135,206,250,0.15855955);\">earthiness</span> <span style=\"background-color:rgba(135,206,250,0.084835835);\">to</span> <span style=\"background-color:rgba(135,206,250,0.22965233);\">this</span> <span style=\"background-color:rgba(135,206,250,0.08997418);\">full</span> <span style=\"background-color:rgba(135,206,250,0.08000116);\">-</span> <span style=\"background-color:rgba(135,206,250,0.16855524);\">bodied</span> <span style=\"background-color:rgba(135,206,250,0.12925309);\">,</span> <span style=\"background-color:rgba(135,206,250,0.21548459);\">semi</span> <span style=\"background-color:rgba(135,206,250,0.122617126);\">-</span> <span style=\"background-color:rgba(135,206,250,0.22454473);\">sweet</span> <span style=\"background-color:rgba(135,206,250,0.2704502);\">riesling</span> <span style=\"background-color:rgba(135,206,250,0.45161796);\">.</span>"
            ]
          },
          "metadata": {}
        },
        {
          "output_type": "stream",
          "name": "stdout",
          "text": [
            "it:   \t89.88%\n",
            "the:   \t6.51%\n",
            "ripe:   \t1.52%\n",
            "hints:   \t0.17%\n",
            "juicy:   \t0.13%\n",
            "--------\n",
            "\n"
          ]
        },
        {
          "output_type": "display_data",
          "data": {
            "text/plain": [
              "<IPython.core.display.HTML object>"
            ],
            "text/html": [
              "<span style=\"background-color:rgba(135,206,250,0.056906532);\">wine</span> <span style=\"background-color:rgba(135,206,250,0.07961599);\">review</span> <span style=\"background-color:rgba(135,206,250,0.07773315);\">:</span> <span style=\"background-color:rgba(135,206,250,0.28426626);\">germany</span> <span style=\"background-color:rgba(135,206,250,0.14514543);\">:</span> <span style=\"background-color:rgba(135,206,250,0.08961847);\">mosel</span> <span style=\"background-color:rgba(135,206,250,0.04355878);\">:</span> <span style=\"background-color:rgba(135,206,250,0.056331635);\">riesling</span> <span style=\"background-color:rgba(135,206,250,0.058074825);\">:</span> <span style=\"background-color:rgba(135,206,250,0.0868218);\">whiffs</span> <span style=\"background-color:rgba(135,206,250,0.032631394);\">of</span> <span style=\"background-color:rgba(135,206,250,0.05075474);\">smoke</span> <span style=\"background-color:rgba(135,206,250,0.022443932);\">and</span> <span style=\"background-color:rgba(135,206,250,0.06944095);\">slate</span> <span style=\"background-color:rgba(135,206,250,0.062221155);\">lend</span> <span style=\"background-color:rgba(135,206,250,0.066246726);\">earthiness</span> <span style=\"background-color:rgba(135,206,250,0.029468708);\">to</span> <span style=\"background-color:rgba(135,206,250,0.0373642);\">this</span> <span style=\"background-color:rgba(135,206,250,0.06240316);\">full</span> <span style=\"background-color:rgba(135,206,250,0.026576314);\">-</span> <span style=\"background-color:rgba(135,206,250,0.092317685);\">bodied</span> <span style=\"background-color:rgba(135,206,250,0.08710153);\">,</span> <span style=\"background-color:rgba(135,206,250,0.11632269);\">semi</span> <span style=\"background-color:rgba(135,206,250,0.0682596);\">-</span> <span style=\"background-color:rgba(135,206,250,0.16287889);\">sweet</span> <span style=\"background-color:rgba(135,206,250,0.1633535);\">riesling</span> <span style=\"background-color:rgba(135,206,250,1.0);\">.</span> <span style=\"background-color:rgba(135,206,250,0.2686253);\">it</span>"
            ]
          },
          "metadata": {}
        },
        {
          "output_type": "stream",
          "name": "stdout",
          "text": [
            "':   \t99.99%\n",
            "balances:   \t0.0%\n",
            "is:   \t0.0%\n",
            "has:   \t0.0%\n",
            "offers:   \t0.0%\n",
            "--------\n",
            "\n"
          ]
        },
        {
          "output_type": "display_data",
          "data": {
            "text/plain": [
              "<IPython.core.display.HTML object>"
            ],
            "text/html": [
              "<span style=\"background-color:rgba(135,206,250,0.12602547);\">wine</span> <span style=\"background-color:rgba(135,206,250,0.21548957);\">review</span> <span style=\"background-color:rgba(135,206,250,0.097854055);\">:</span> <span style=\"background-color:rgba(135,206,250,0.17064671);\">germany</span> <span style=\"background-color:rgba(135,206,250,0.128522);\">:</span> <span style=\"background-color:rgba(135,206,250,0.09558943);\">mosel</span> <span style=\"background-color:rgba(135,206,250,0.06534368);\">:</span> <span style=\"background-color:rgba(135,206,250,0.15662345);\">riesling</span> <span style=\"background-color:rgba(135,206,250,0.10875776);\">:</span> <span style=\"background-color:rgba(135,206,250,0.080287054);\">whiffs</span> <span style=\"background-color:rgba(135,206,250,0.04604515);\">of</span> <span style=\"background-color:rgba(135,206,250,0.048256572);\">smoke</span> <span style=\"background-color:rgba(135,206,250,0.035093646);\">and</span> <span style=\"background-color:rgba(135,206,250,0.061260246);\">slate</span> <span style=\"background-color:rgba(135,206,250,0.10121698);\">lend</span> <span style=\"background-color:rgba(135,206,250,0.05266391);\">earthiness</span> <span style=\"background-color:rgba(135,206,250,0.035594482);\">to</span> <span style=\"background-color:rgba(135,206,250,0.059804708);\">this</span> <span style=\"background-color:rgba(135,206,250,0.042565193);\">full</span> <span style=\"background-color:rgba(135,206,250,0.033610325);\">-</span> <span style=\"background-color:rgba(135,206,250,0.071446665);\">bodied</span> <span style=\"background-color:rgba(135,206,250,0.07961804);\">,</span> <span style=\"background-color:rgba(135,206,250,0.13880898);\">semi</span> <span style=\"background-color:rgba(135,206,250,0.07110768);\">-</span> <span style=\"background-color:rgba(135,206,250,0.19669314);\">sweet</span> <span style=\"background-color:rgba(135,206,250,0.3309186);\">riesling</span> <span style=\"background-color:rgba(135,206,250,0.79923224);\">.</span> <span style=\"background-color:rgba(135,206,250,1.0);\">it</span> <span style=\"background-color:rgba(135,206,250,0.109978415);\">'</span>"
            ]
          },
          "metadata": {}
        },
        {
          "output_type": "stream",
          "name": "stdout",
          "text": [
            "s:   \t100.0%\n",
            "ll:   \t0.0%\n",
            "[UNK]:   \t0.0%\n",
            "dry:   \t0.0%\n",
            "of:   \t0.0%\n",
            "--------\n",
            "\n"
          ]
        },
        {
          "output_type": "display_data",
          "data": {
            "text/plain": [
              "<IPython.core.display.HTML object>"
            ],
            "text/html": [
              "<span style=\"background-color:rgba(135,206,250,0.117729105);\">wine</span> <span style=\"background-color:rgba(135,206,250,0.17001922);\">review</span> <span style=\"background-color:rgba(135,206,250,0.11536376);\">:</span> <span style=\"background-color:rgba(135,206,250,0.3811096);\">germany</span> <span style=\"background-color:rgba(135,206,250,0.24226968);\">:</span> <span style=\"background-color:rgba(135,206,250,0.16048132);\">mosel</span> <span style=\"background-color:rgba(135,206,250,0.0668572);\">:</span> <span style=\"background-color:rgba(135,206,250,0.17829187);\">riesling</span> <span style=\"background-color:rgba(135,206,250,0.11217943);\">:</span> <span style=\"background-color:rgba(135,206,250,0.103707515);\">whiffs</span> <span style=\"background-color:rgba(135,206,250,0.043502983);\">of</span> <span style=\"background-color:rgba(135,206,250,0.06743751);\">smoke</span> <span style=\"background-color:rgba(135,206,250,0.03767278);\">and</span> <span style=\"background-color:rgba(135,206,250,0.09032612);\">slate</span> <span style=\"background-color:rgba(135,206,250,0.06357248);\">lend</span> <span style=\"background-color:rgba(135,206,250,0.08670785);\">earthiness</span> <span style=\"background-color:rgba(135,206,250,0.043293823);\">to</span> <span style=\"background-color:rgba(135,206,250,0.059475638);\">this</span> <span style=\"background-color:rgba(135,206,250,0.092256956);\">full</span> <span style=\"background-color:rgba(135,206,250,0.041574184);\">-</span> <span style=\"background-color:rgba(135,206,250,0.12152248);\">bodied</span> <span style=\"background-color:rgba(135,206,250,0.114983074);\">,</span> <span style=\"background-color:rgba(135,206,250,0.16273783);\">semi</span> <span style=\"background-color:rgba(135,206,250,0.1061034);\">-</span> <span style=\"background-color:rgba(135,206,250,0.24496618);\">sweet</span> <span style=\"background-color:rgba(135,206,250,0.22881708);\">riesling</span> <span style=\"background-color:rgba(135,206,250,1.0);\">.</span> <span style=\"background-color:rgba(135,206,250,0.80976874);\">it</span> <span style=\"background-color:rgba(135,206,250,0.093631245);\">'</span> <span style=\"background-color:rgba(135,206,250,0.2458105);\">s</span>"
            ]
          },
          "metadata": {}
        },
        {
          "output_type": "stream",
          "name": "stdout",
          "text": [
            "juicy:   \t18.42%\n",
            "intensely:   \t14.06%\n",
            "rich:   \t11.3%\n",
            "a:   \t9.24%\n",
            "ripe:   \t9.24%\n",
            "--------\n",
            "\n"
          ]
        },
        {
          "output_type": "display_data",
          "data": {
            "text/plain": [
              "<IPython.core.display.HTML object>"
            ],
            "text/html": [
              "<span style=\"background-color:rgba(135,206,250,0.090835966);\">wine</span> <span style=\"background-color:rgba(135,206,250,0.11605644);\">review</span> <span style=\"background-color:rgba(135,206,250,0.11661524);\">:</span> <span style=\"background-color:rgba(135,206,250,0.30928934);\">germany</span> <span style=\"background-color:rgba(135,206,250,0.14934671);\">:</span> <span style=\"background-color:rgba(135,206,250,0.20949042);\">mosel</span> <span style=\"background-color:rgba(135,206,250,0.075010605);\">:</span> <span style=\"background-color:rgba(135,206,250,0.2897234);\">riesling</span> <span style=\"background-color:rgba(135,206,250,0.09611928);\">:</span> <span style=\"background-color:rgba(135,206,250,0.068598226);\">whiffs</span> <span style=\"background-color:rgba(135,206,250,0.03826069);\">of</span> <span style=\"background-color:rgba(135,206,250,0.07558938);\">smoke</span> <span style=\"background-color:rgba(135,206,250,0.045737896);\">and</span> <span style=\"background-color:rgba(135,206,250,0.13884921);\">slate</span> <span style=\"background-color:rgba(135,206,250,0.04452523);\">lend</span> <span style=\"background-color:rgba(135,206,250,0.07368155);\">earthiness</span> <span style=\"background-color:rgba(135,206,250,0.036498655);\">to</span> <span style=\"background-color:rgba(135,206,250,0.052292757);\">this</span> <span style=\"background-color:rgba(135,206,250,0.04852052);\">full</span> <span style=\"background-color:rgba(135,206,250,0.03141692);\">-</span> <span style=\"background-color:rgba(135,206,250,0.093902975);\">bodied</span> <span style=\"background-color:rgba(135,206,250,0.06895619);\">,</span> <span style=\"background-color:rgba(135,206,250,0.20295013);\">semi</span> <span style=\"background-color:rgba(135,206,250,0.0517392);\">-</span> <span style=\"background-color:rgba(135,206,250,0.11964993);\">sweet</span> <span style=\"background-color:rgba(135,206,250,0.38824323);\">riesling</span> <span style=\"background-color:rgba(135,206,250,0.8488689);\">.</span> <span style=\"background-color:rgba(135,206,250,0.6067477);\">it</span> <span style=\"background-color:rgba(135,206,250,0.16249117);\">'</span> <span style=\"background-color:rgba(135,206,250,1.0);\">s</span> <span style=\"background-color:rgba(135,206,250,0.29523984);\">ripe</span>"
            ]
          },
          "metadata": {}
        },
        {
          "output_type": "stream",
          "name": "stdout",
          "text": [
            "and:   \t81.79%\n",
            ",:   \t10.38%\n",
            "with:   \t6.42%\n",
            "in:   \t0.41%\n",
            "on:   \t0.4%\n",
            "--------\n",
            "\n"
          ]
        },
        {
          "output_type": "display_data",
          "data": {
            "text/plain": [
              "<IPython.core.display.HTML object>"
            ],
            "text/html": [
              "<span style=\"background-color:rgba(135,206,250,0.07319347);\">wine</span> <span style=\"background-color:rgba(135,206,250,0.15897855);\">review</span> <span style=\"background-color:rgba(135,206,250,0.076222576);\">:</span> <span style=\"background-color:rgba(135,206,250,0.33803293);\">germany</span> <span style=\"background-color:rgba(135,206,250,0.18412335);\">:</span> <span style=\"background-color:rgba(135,206,250,0.117906146);\">mosel</span> <span style=\"background-color:rgba(135,206,250,0.059283357);\">:</span> <span style=\"background-color:rgba(135,206,250,0.24147852);\">riesling</span> <span style=\"background-color:rgba(135,206,250,0.09930331);\">:</span> <span style=\"background-color:rgba(135,206,250,0.061985712);\">whiffs</span> <span style=\"background-color:rgba(135,206,250,0.03816071);\">of</span> <span style=\"background-color:rgba(135,206,250,0.05030975);\">smoke</span> <span style=\"background-color:rgba(135,206,250,0.041089125);\">and</span> <span style=\"background-color:rgba(135,206,250,0.08374648);\">slate</span> <span style=\"background-color:rgba(135,206,250,0.124448724);\">lend</span> <span style=\"background-color:rgba(135,206,250,0.07324456);\">earthiness</span> <span style=\"background-color:rgba(135,206,250,0.03636507);\">to</span> <span style=\"background-color:rgba(135,206,250,0.09221865);\">this</span> <span style=\"background-color:rgba(135,206,250,0.054161698);\">full</span> <span style=\"background-color:rgba(135,206,250,0.023187056);\">-</span> <span style=\"background-color:rgba(135,206,250,0.056860834);\">bodied</span> <span style=\"background-color:rgba(135,206,250,0.046306092);\">,</span> <span style=\"background-color:rgba(135,206,250,0.21334893);\">semi</span> <span style=\"background-color:rgba(135,206,250,0.04660756);\">-</span> <span style=\"background-color:rgba(135,206,250,0.16510178);\">sweet</span> <span style=\"background-color:rgba(135,206,250,0.22130974);\">riesling</span> <span style=\"background-color:rgba(135,206,250,0.8027978);\">.</span> <span style=\"background-color:rgba(135,206,250,0.41362822);\">it</span> <span style=\"background-color:rgba(135,206,250,0.06352846);\">'</span> <span style=\"background-color:rgba(135,206,250,0.7435396);\">s</span> <span style=\"background-color:rgba(135,206,250,1.0);\">ripe</span> <span style=\"background-color:rgba(135,206,250,0.56912506);\">,</span>"
            ]
          },
          "metadata": {}
        },
        {
          "output_type": "stream",
          "name": "stdout",
          "text": [
            "with:   \t58.98%\n",
            "juicy:   \t8.18%\n",
            "sweet:   \t8.01%\n",
            "honeyed:   \t6.16%\n",
            "yet:   \t5.22%\n",
            "--------\n",
            "\n"
          ]
        },
        {
          "output_type": "display_data",
          "data": {
            "text/plain": [
              "<IPython.core.display.HTML object>"
            ],
            "text/html": [
              "<span style=\"background-color:rgba(135,206,250,0.14329837);\">wine</span> <span style=\"background-color:rgba(135,206,250,0.24176255);\">review</span> <span style=\"background-color:rgba(135,206,250,0.15322763);\">:</span> <span style=\"background-color:rgba(135,206,250,0.49117574);\">germany</span> <span style=\"background-color:rgba(135,206,250,0.35584626);\">:</span> <span style=\"background-color:rgba(135,206,250,0.20902397);\">mosel</span> <span style=\"background-color:rgba(135,206,250,0.109470874);\">:</span> <span style=\"background-color:rgba(135,206,250,0.4347389);\">riesling</span> <span style=\"background-color:rgba(135,206,250,0.15046453);\">:</span> <span style=\"background-color:rgba(135,206,250,0.0926888);\">whiffs</span> <span style=\"background-color:rgba(135,206,250,0.050689958);\">of</span> <span style=\"background-color:rgba(135,206,250,0.071586125);\">smoke</span> <span style=\"background-color:rgba(135,206,250,0.0527136);\">and</span> <span style=\"background-color:rgba(135,206,250,0.1482695);\">slate</span> <span style=\"background-color:rgba(135,206,250,0.090911075);\">lend</span> <span style=\"background-color:rgba(135,206,250,0.07638863);\">earthiness</span> <span style=\"background-color:rgba(135,206,250,0.036508355);\">to</span> <span style=\"background-color:rgba(135,206,250,0.074750684);\">this</span> <span style=\"background-color:rgba(135,206,250,0.04495708);\">full</span> <span style=\"background-color:rgba(135,206,250,0.029950896);\">-</span> <span style=\"background-color:rgba(135,206,250,0.10516039);\">bodied</span> <span style=\"background-color:rgba(135,206,250,0.08612993);\">,</span> <span style=\"background-color:rgba(135,206,250,0.18173783);\">semi</span> <span style=\"background-color:rgba(135,206,250,0.054377526);\">-</span> <span style=\"background-color:rgba(135,206,250,0.10723469);\">sweet</span> <span style=\"background-color:rgba(135,206,250,0.32735902);\">riesling</span> <span style=\"background-color:rgba(135,206,250,0.81187475);\">.</span> <span style=\"background-color:rgba(135,206,250,0.604792);\">it</span> <span style=\"background-color:rgba(135,206,250,0.17248526);\">'</span> <span style=\"background-color:rgba(135,206,250,0.83988917);\">s</span> <span style=\"background-color:rgba(135,206,250,0.5756476);\">ripe</span> <span style=\"background-color:rgba(135,206,250,1.0);\">,</span> <span style=\"background-color:rgba(135,206,250,0.46815258);\">sweet</span>"
            ]
          },
          "metadata": {}
        },
        {
          "output_type": "stream",
          "name": "stdout",
          "text": [
            "and:   \t87.61%\n",
            ",:   \t3.95%\n",
            "-:   \t2.66%\n",
            "in:   \t1.93%\n",
            "on:   \t1.65%\n",
            "--------\n",
            "\n"
          ]
        },
        {
          "output_type": "display_data",
          "data": {
            "text/plain": [
              "<IPython.core.display.HTML object>"
            ],
            "text/html": [
              "<span style=\"background-color:rgba(135,206,250,0.07762218);\">wine</span> <span style=\"background-color:rgba(135,206,250,0.12687418);\">review</span> <span style=\"background-color:rgba(135,206,250,0.09317177);\">:</span> <span style=\"background-color:rgba(135,206,250,0.3127631);\">germany</span> <span style=\"background-color:rgba(135,206,250,0.1196878);\">:</span> <span style=\"background-color:rgba(135,206,250,0.17180897);\">mosel</span> <span style=\"background-color:rgba(135,206,250,0.05767756);\">:</span> <span style=\"background-color:rgba(135,206,250,0.24026753);\">riesling</span> <span style=\"background-color:rgba(135,206,250,0.09045932);\">:</span> <span style=\"background-color:rgba(135,206,250,0.082173534);\">whiffs</span> <span style=\"background-color:rgba(135,206,250,0.028919322);\">of</span> <span style=\"background-color:rgba(135,206,250,0.057289943);\">smoke</span> <span style=\"background-color:rgba(135,206,250,0.03386481);\">and</span> <span style=\"background-color:rgba(135,206,250,0.08313728);\">slate</span> <span style=\"background-color:rgba(135,206,250,0.070092104);\">lend</span> <span style=\"background-color:rgba(135,206,250,0.07118503);\">earthiness</span> <span style=\"background-color:rgba(135,206,250,0.02298164);\">to</span> <span style=\"background-color:rgba(135,206,250,0.054459915);\">this</span> <span style=\"background-color:rgba(135,206,250,0.052224953);\">full</span> <span style=\"background-color:rgba(135,206,250,0.024998);\">-</span> <span style=\"background-color:rgba(135,206,250,0.06899622);\">bodied</span> <span style=\"background-color:rgba(135,206,250,0.04967983);\">,</span> <span style=\"background-color:rgba(135,206,250,0.14716916);\">semi</span> <span style=\"background-color:rgba(135,206,250,0.037672374);\">-</span> <span style=\"background-color:rgba(135,206,250,0.11511402);\">sweet</span> <span style=\"background-color:rgba(135,206,250,0.15034519);\">riesling</span> <span style=\"background-color:rgba(135,206,250,0.27945527);\">.</span> <span style=\"background-color:rgba(135,206,250,0.13131914);\">it</span> <span style=\"background-color:rgba(135,206,250,0.03889179);\">'</span> <span style=\"background-color:rgba(135,206,250,0.27707094);\">s</span> <span style=\"background-color:rgba(135,206,250,0.44515386);\">ripe</span> <span style=\"background-color:rgba(135,206,250,1.0);\">,</span> <span style=\"background-color:rgba(135,206,250,0.9952622);\">sweet</span> <span style=\"background-color:rgba(135,206,250,0.38921222);\">and</span>"
            ]
          },
          "metadata": {}
        },
        {
          "output_type": "stream",
          "name": "stdout",
          "text": [
            "honeyed:   \t76.63%\n",
            "luscious:   \t5.46%\n",
            "juicy:   \t3.96%\n",
            "rich:   \t2.59%\n",
            "succulent:   \t2.13%\n",
            "--------\n",
            "\n"
          ]
        },
        {
          "output_type": "display_data",
          "data": {
            "text/plain": [
              "<IPython.core.display.HTML object>"
            ],
            "text/html": [
              "<span style=\"background-color:rgba(135,206,250,0.10558279);\">wine</span> <span style=\"background-color:rgba(135,206,250,0.18158627);\">review</span> <span style=\"background-color:rgba(135,206,250,0.14034031);\">:</span> <span style=\"background-color:rgba(135,206,250,0.42677745);\">germany</span> <span style=\"background-color:rgba(135,206,250,0.22936176);\">:</span> <span style=\"background-color:rgba(135,206,250,0.20931917);\">mosel</span> <span style=\"background-color:rgba(135,206,250,0.09081874);\">:</span> <span style=\"background-color:rgba(135,206,250,0.29543966);\">riesling</span> <span style=\"background-color:rgba(135,206,250,0.12792596);\">:</span> <span style=\"background-color:rgba(135,206,250,0.09902823);\">whiffs</span> <span style=\"background-color:rgba(135,206,250,0.041925766);\">of</span> <span style=\"background-color:rgba(135,206,250,0.059608378);\">smoke</span> <span style=\"background-color:rgba(135,206,250,0.04683348);\">and</span> <span style=\"background-color:rgba(135,206,250,0.12022569);\">slate</span> <span style=\"background-color:rgba(135,206,250,0.055641826);\">lend</span> <span style=\"background-color:rgba(135,206,250,0.06610912);\">earthiness</span> <span style=\"background-color:rgba(135,206,250,0.034622647);\">to</span> <span style=\"background-color:rgba(135,206,250,0.06182003);\">this</span> <span style=\"background-color:rgba(135,206,250,0.04867247);\">full</span> <span style=\"background-color:rgba(135,206,250,0.027353238);\">-</span> <span style=\"background-color:rgba(135,206,250,0.080044374);\">bodied</span> <span style=\"background-color:rgba(135,206,250,0.06753835);\">,</span> <span style=\"background-color:rgba(135,206,250,0.16074762);\">semi</span> <span style=\"background-color:rgba(135,206,250,0.040719267);\">-</span> <span style=\"background-color:rgba(135,206,250,0.096710734);\">sweet</span> <span style=\"background-color:rgba(135,206,250,0.23098415);\">riesling</span> <span style=\"background-color:rgba(135,206,250,0.6063095);\">.</span> <span style=\"background-color:rgba(135,206,250,0.31470394);\">it</span> <span style=\"background-color:rgba(135,206,250,0.11823033);\">'</span> <span style=\"background-color:rgba(135,206,250,0.55594045);\">s</span> <span style=\"background-color:rgba(135,206,250,0.2111879);\">ripe</span> <span style=\"background-color:rgba(135,206,250,0.5479924);\">,</span> <span style=\"background-color:rgba(135,206,250,0.32088405);\">sweet</span> <span style=\"background-color:rgba(135,206,250,1.0);\">and</span> <span style=\"background-color:rgba(135,206,250,0.5399676);\">honeyed</span>"
            ]
          },
          "metadata": {}
        },
        {
          "output_type": "stream",
          "name": "stdout",
          "text": [
            ",:   \t42.19%\n",
            "on:   \t25.34%\n",
            "with:   \t25.19%\n",
            "in:   \t5.8%\n",
            "yet:   \t1.04%\n",
            "--------\n",
            "\n"
          ]
        },
        {
          "output_type": "display_data",
          "data": {
            "text/plain": [
              "<IPython.core.display.HTML object>"
            ],
            "text/html": [
              "<span style=\"background-color:rgba(135,206,250,0.054954864);\">wine</span> <span style=\"background-color:rgba(135,206,250,0.12484857);\">review</span> <span style=\"background-color:rgba(135,206,250,0.061168212);\">:</span> <span style=\"background-color:rgba(135,206,250,0.30845237);\">germany</span> <span style=\"background-color:rgba(135,206,250,0.12830739);\">:</span> <span style=\"background-color:rgba(135,206,250,0.10226994);\">mosel</span> <span style=\"background-color:rgba(135,206,250,0.04745076);\">:</span> <span style=\"background-color:rgba(135,206,250,0.2033042);\">riesling</span> <span style=\"background-color:rgba(135,206,250,0.07646246);\">:</span> <span style=\"background-color:rgba(135,206,250,0.044256054);\">whiffs</span> <span style=\"background-color:rgba(135,206,250,0.025621645);\">of</span> <span style=\"background-color:rgba(135,206,250,0.036067225);\">smoke</span> <span style=\"background-color:rgba(135,206,250,0.030814879);\">and</span> <span style=\"background-color:rgba(135,206,250,0.065150484);\">slate</span> <span style=\"background-color:rgba(135,206,250,0.08412834);\">lend</span> <span style=\"background-color:rgba(135,206,250,0.052261326);\">earthiness</span> <span style=\"background-color:rgba(135,206,250,0.022536479);\">to</span> <span style=\"background-color:rgba(135,206,250,0.06013764);\">this</span> <span style=\"background-color:rgba(135,206,250,0.038610578);\">full</span> <span style=\"background-color:rgba(135,206,250,0.013916056);\">-</span> <span style=\"background-color:rgba(135,206,250,0.03525402);\">bodied</span> <span style=\"background-color:rgba(135,206,250,0.031073336);\">,</span> <span style=\"background-color:rgba(135,206,250,0.14923504);\">semi</span> <span style=\"background-color:rgba(135,206,250,0.020484908);\">-</span> <span style=\"background-color:rgba(135,206,250,0.082598746);\">sweet</span> <span style=\"background-color:rgba(135,206,250,0.1010948);\">riesling</span> <span style=\"background-color:rgba(135,206,250,0.30993024);\">.</span> <span style=\"background-color:rgba(135,206,250,0.18237229);\">it</span> <span style=\"background-color:rgba(135,206,250,0.02146468);\">'</span> <span style=\"background-color:rgba(135,206,250,0.20320341);\">s</span> <span style=\"background-color:rgba(135,206,250,0.2335738);\">ripe</span> <span style=\"background-color:rgba(135,206,250,0.13480364);\">,</span> <span style=\"background-color:rgba(135,206,250,0.4563195);\">sweet</span> <span style=\"background-color:rgba(135,206,250,0.8355439);\">and</span> <span style=\"background-color:rgba(135,206,250,1.0);\">honeyed</span> <span style=\"background-color:rgba(135,206,250,0.55539745);\">,</span>"
            ]
          },
          "metadata": {}
        },
        {
          "output_type": "stream",
          "name": "stdout",
          "text": [
            "with:   \t74.57%\n",
            "but:   \t19.4%\n",
            "yet:   \t4.54%\n",
            "it:   \t1.08%\n",
            "and:   \t0.07%\n",
            "--------\n",
            "\n"
          ]
        },
        {
          "output_type": "display_data",
          "data": {
            "text/plain": [
              "<IPython.core.display.HTML object>"
            ],
            "text/html": [
              "<span style=\"background-color:rgba(135,206,250,0.07351275);\">wine</span> <span style=\"background-color:rgba(135,206,250,0.11822953);\">review</span> <span style=\"background-color:rgba(135,206,250,0.09955963);\">:</span> <span style=\"background-color:rgba(135,206,250,0.45200956);\">germany</span> <span style=\"background-color:rgba(135,206,250,0.31439275);\">:</span> <span style=\"background-color:rgba(135,206,250,0.2266582);\">mosel</span> <span style=\"background-color:rgba(135,206,250,0.05545844);\">:</span> <span style=\"background-color:rgba(135,206,250,0.28819433);\">riesling</span> <span style=\"background-color:rgba(135,206,250,0.08343904);\">:</span> <span style=\"background-color:rgba(135,206,250,0.072767965);\">whiffs</span> <span style=\"background-color:rgba(135,206,250,0.021448461);\">of</span> <span style=\"background-color:rgba(135,206,250,0.06930938);\">smoke</span> <span style=\"background-color:rgba(135,206,250,0.036190998);\">and</span> <span style=\"background-color:rgba(135,206,250,0.10407519);\">slate</span> <span style=\"background-color:rgba(135,206,250,0.041274115);\">lend</span> <span style=\"background-color:rgba(135,206,250,0.09356534);\">earthiness</span> <span style=\"background-color:rgba(135,206,250,0.018507972);\">to</span> <span style=\"background-color:rgba(135,206,250,0.050775528);\">this</span> <span style=\"background-color:rgba(135,206,250,0.03962487);\">full</span> <span style=\"background-color:rgba(135,206,250,0.018772615);\">-</span> <span style=\"background-color:rgba(135,206,250,0.06927922);\">bodied</span> <span style=\"background-color:rgba(135,206,250,0.04318083);\">,</span> <span style=\"background-color:rgba(135,206,250,0.15325983);\">semi</span> <span style=\"background-color:rgba(135,206,250,0.024233567);\">-</span> <span style=\"background-color:rgba(135,206,250,0.111223884);\">sweet</span> <span style=\"background-color:rgba(135,206,250,0.11289161);\">riesling</span> <span style=\"background-color:rgba(135,206,250,0.2223671);\">.</span> <span style=\"background-color:rgba(135,206,250,0.06997733);\">it</span> <span style=\"background-color:rgba(135,206,250,0.025158226);\">'</span> <span style=\"background-color:rgba(135,206,250,0.08949743);\">s</span> <span style=\"background-color:rgba(135,206,250,0.23420635);\">ripe</span> <span style=\"background-color:rgba(135,206,250,0.2677398);\">,</span> <span style=\"background-color:rgba(135,206,250,0.3597183);\">sweet</span> <span style=\"background-color:rgba(135,206,250,0.344633);\">and</span> <span style=\"background-color:rgba(135,206,250,0.5487675);\">honeyed</span> <span style=\"background-color:rgba(135,206,250,1.0);\">,</span> <span style=\"background-color:rgba(135,206,250,0.6066877);\">with</span>"
            ]
          },
          "metadata": {}
        },
        {
          "output_type": "stream",
          "name": "stdout",
          "text": [
            "a:   \t42.26%\n",
            "hints:   \t24.97%\n",
            "loads:   \t8.84%\n",
            "notes:   \t5.67%\n",
            "sweet:   \t3.77%\n",
            "--------\n",
            "\n"
          ]
        },
        {
          "output_type": "display_data",
          "data": {
            "text/plain": [
              "<IPython.core.display.HTML object>"
            ],
            "text/html": [
              "<span style=\"background-color:rgba(135,206,250,0.058314633);\">wine</span> <span style=\"background-color:rgba(135,206,250,0.12255592);\">review</span> <span style=\"background-color:rgba(135,206,250,0.046980586);\">:</span> <span style=\"background-color:rgba(135,206,250,0.19850083);\">germany</span> <span style=\"background-color:rgba(135,206,250,0.12828793);\">:</span> <span style=\"background-color:rgba(135,206,250,0.039098587);\">mosel</span> <span style=\"background-color:rgba(135,206,250,0.05383655);\">:</span> <span style=\"background-color:rgba(135,206,250,0.04435152);\">riesling</span> <span style=\"background-color:rgba(135,206,250,0.058659773);\">:</span> <span style=\"background-color:rgba(135,206,250,0.044175457);\">whiffs</span> <span style=\"background-color:rgba(135,206,250,0.044480316);\">of</span> <span style=\"background-color:rgba(135,206,250,0.02241289);\">smoke</span> <span style=\"background-color:rgba(135,206,250,0.019545747);\">and</span> <span style=\"background-color:rgba(135,206,250,0.0419542);\">slate</span> <span style=\"background-color:rgba(135,206,250,0.058994904);\">lend</span> <span style=\"background-color:rgba(135,206,250,0.038682483);\">earthiness</span> <span style=\"background-color:rgba(135,206,250,0.02405557);\">to</span> <span style=\"background-color:rgba(135,206,250,0.033620197);\">this</span> <span style=\"background-color:rgba(135,206,250,0.03420381);\">full</span> <span style=\"background-color:rgba(135,206,250,0.016363654);\">-</span> <span style=\"background-color:rgba(135,206,250,0.033111863);\">bodied</span> <span style=\"background-color:rgba(135,206,250,0.025873616);\">,</span> <span style=\"background-color:rgba(135,206,250,0.029519917);\">semi</span> <span style=\"background-color:rgba(135,206,250,0.020846752);\">-</span> <span style=\"background-color:rgba(135,206,250,0.04010725);\">sweet</span> <span style=\"background-color:rgba(135,206,250,0.034785416);\">riesling</span> <span style=\"background-color:rgba(135,206,250,0.18514857);\">.</span> <span style=\"background-color:rgba(135,206,250,0.09783498);\">it</span> <span style=\"background-color:rgba(135,206,250,0.028508581);\">'</span> <span style=\"background-color:rgba(135,206,250,0.10646381);\">s</span> <span style=\"background-color:rgba(135,206,250,0.064922586);\">ripe</span> <span style=\"background-color:rgba(135,206,250,0.1235392);\">,</span> <span style=\"background-color:rgba(135,206,250,0.12302027);\">sweet</span> <span style=\"background-color:rgba(135,206,250,0.21281143);\">and</span> <span style=\"background-color:rgba(135,206,250,0.16370311);\">honeyed</span> <span style=\"background-color:rgba(135,206,250,0.37177077);\">,</span> <span style=\"background-color:rgba(135,206,250,1.0);\">with</span> <span style=\"background-color:rgba(135,206,250,0.17944954);\">peach</span>"
            ]
          },
          "metadata": {}
        },
        {
          "output_type": "stream",
          "name": "stdout",
          "text": [
            "and:   \t96.6%\n",
            ",:   \t3.36%\n",
            "nectar:   \t0.03%\n",
            "flavors:   \t0.01%\n",
            "-:   \t0.0%\n",
            "--------\n",
            "\n"
          ]
        },
        {
          "output_type": "display_data",
          "data": {
            "text/plain": [
              "<IPython.core.display.HTML object>"
            ],
            "text/html": [
              "<span style=\"background-color:rgba(135,206,250,0.041225053);\">wine</span> <span style=\"background-color:rgba(135,206,250,0.065223955);\">review</span> <span style=\"background-color:rgba(135,206,250,0.053667523);\">:</span> <span style=\"background-color:rgba(135,206,250,0.211312);\">germany</span> <span style=\"background-color:rgba(135,206,250,0.059193242);\">:</span> <span style=\"background-color:rgba(135,206,250,0.11298216);\">mosel</span> <span style=\"background-color:rgba(135,206,250,0.03266451);\">:</span> <span style=\"background-color:rgba(135,206,250,0.15243717);\">riesling</span> <span style=\"background-color:rgba(135,206,250,0.050863553);\">:</span> <span style=\"background-color:rgba(135,206,250,0.044729285);\">whiffs</span> <span style=\"background-color:rgba(135,206,250,0.014229224);\">of</span> <span style=\"background-color:rgba(135,206,250,0.031405557);\">smoke</span> <span style=\"background-color:rgba(135,206,250,0.018684076);\">and</span> <span style=\"background-color:rgba(135,206,250,0.047728434);\">slate</span> <span style=\"background-color:rgba(135,206,250,0.03223817);\">lend</span> <span style=\"background-color:rgba(135,206,250,0.03844821);\">earthiness</span> <span style=\"background-color:rgba(135,206,250,0.010214515);\">to</span> <span style=\"background-color:rgba(135,206,250,0.025938291);\">this</span> <span style=\"background-color:rgba(135,206,250,0.029646443);\">full</span> <span style=\"background-color:rgba(135,206,250,0.011719916);\">-</span> <span style=\"background-color:rgba(135,206,250,0.036937065);\">bodied</span> <span style=\"background-color:rgba(135,206,250,0.022547169);\">,</span> <span style=\"background-color:rgba(135,206,250,0.08378323);\">semi</span> <span style=\"background-color:rgba(135,206,250,0.013689573);\">-</span> <span style=\"background-color:rgba(135,206,250,0.054077547);\">sweet</span> <span style=\"background-color:rgba(135,206,250,0.0565733);\">riesling</span> <span style=\"background-color:rgba(135,206,250,0.09191411);\">.</span> <span style=\"background-color:rgba(135,206,250,0.03866712);\">it</span> <span style=\"background-color:rgba(135,206,250,0.012098407);\">'</span> <span style=\"background-color:rgba(135,206,250,0.042728767);\">s</span> <span style=\"background-color:rgba(135,206,250,0.07412816);\">ripe</span> <span style=\"background-color:rgba(135,206,250,0.07045504);\">,</span> <span style=\"background-color:rgba(135,206,250,0.10305029);\">sweet</span> <span style=\"background-color:rgba(135,206,250,0.044945687);\">and</span> <span style=\"background-color:rgba(135,206,250,0.24933909);\">honeyed</span> <span style=\"background-color:rgba(135,206,250,0.34974635);\">,</span> <span style=\"background-color:rgba(135,206,250,0.38803858);\">with</span> <span style=\"background-color:rgba(135,206,250,1.0);\">peach</span> <span style=\"background-color:rgba(135,206,250,0.15829611);\">and</span>"
            ]
          },
          "metadata": {}
        },
        {
          "output_type": "stream",
          "name": "stdout",
          "text": [
            "apricot:   \t37.37%\n",
            "tangerine:   \t18.75%\n",
            "honey:   \t13.35%\n",
            "mango:   \t8.35%\n",
            "melon:   \t6.66%\n",
            "--------\n",
            "\n"
          ]
        },
        {
          "output_type": "display_data",
          "data": {
            "text/plain": [
              "<IPython.core.display.HTML object>"
            ],
            "text/html": [
              "<span style=\"background-color:rgba(135,206,250,0.07648799);\">wine</span> <span style=\"background-color:rgba(135,206,250,0.14886671);\">review</span> <span style=\"background-color:rgba(135,206,250,0.076853156);\">:</span> <span style=\"background-color:rgba(135,206,250,0.376986);\">germany</span> <span style=\"background-color:rgba(135,206,250,0.16745958);\">:</span> <span style=\"background-color:rgba(135,206,250,0.067102656);\">mosel</span> <span style=\"background-color:rgba(135,206,250,0.071707904);\">:</span> <span style=\"background-color:rgba(135,206,250,0.052135654);\">riesling</span> <span style=\"background-color:rgba(135,206,250,0.074546844);\">:</span> <span style=\"background-color:rgba(135,206,250,0.061783426);\">whiffs</span> <span style=\"background-color:rgba(135,206,250,0.043675203);\">of</span> <span style=\"background-color:rgba(135,206,250,0.03639308);\">smoke</span> <span style=\"background-color:rgba(135,206,250,0.02691352);\">and</span> <span style=\"background-color:rgba(135,206,250,0.075357035);\">slate</span> <span style=\"background-color:rgba(135,206,250,0.06940918);\">lend</span> <span style=\"background-color:rgba(135,206,250,0.068382815);\">earthiness</span> <span style=\"background-color:rgba(135,206,250,0.023464859);\">to</span> <span style=\"background-color:rgba(135,206,250,0.050231807);\">this</span> <span style=\"background-color:rgba(135,206,250,0.047690805);\">full</span> <span style=\"background-color:rgba(135,206,250,0.020339599);\">-</span> <span style=\"background-color:rgba(135,206,250,0.04959479);\">bodied</span> <span style=\"background-color:rgba(135,206,250,0.034224883);\">,</span> <span style=\"background-color:rgba(135,206,250,0.052218936);\">semi</span> <span style=\"background-color:rgba(135,206,250,0.025243634);\">-</span> <span style=\"background-color:rgba(135,206,250,0.058923524);\">sweet</span> <span style=\"background-color:rgba(135,206,250,0.043332733);\">riesling</span> <span style=\"background-color:rgba(135,206,250,0.27536434);\">.</span> <span style=\"background-color:rgba(135,206,250,0.109519556);\">it</span> <span style=\"background-color:rgba(135,206,250,0.033775974);\">'</span> <span style=\"background-color:rgba(135,206,250,0.12658896);\">s</span> <span style=\"background-color:rgba(135,206,250,0.07566772);\">ripe</span> <span style=\"background-color:rgba(135,206,250,0.13210633);\">,</span> <span style=\"background-color:rgba(135,206,250,0.13555507);\">sweet</span> <span style=\"background-color:rgba(135,206,250,0.21708383);\">and</span> <span style=\"background-color:rgba(135,206,250,0.21901771);\">honeyed</span> <span style=\"background-color:rgba(135,206,250,0.39676058);\">,</span> <span style=\"background-color:rgba(135,206,250,1.0);\">with</span> <span style=\"background-color:rgba(135,206,250,0.31875834);\">peach</span> <span style=\"background-color:rgba(135,206,250,0.875877);\">and</span> <span style=\"background-color:rgba(135,206,250,0.46257478);\">apricot</span>"
            ]
          },
          "metadata": {}
        },
        {
          "output_type": "stream",
          "name": "stdout",
          "text": [
            "flavors:   \t96.79%\n",
            "notes:   \t2.53%\n",
            "nectar:   \t0.57%\n",
            "aromas:   \t0.04%\n",
            ",:   \t0.04%\n",
            "--------\n",
            "\n"
          ]
        },
        {
          "output_type": "display_data",
          "data": {
            "text/plain": [
              "<IPython.core.display.HTML object>"
            ],
            "text/html": [
              "<span style=\"background-color:rgba(135,206,250,0.05484559);\">wine</span> <span style=\"background-color:rgba(135,206,250,0.13971716);\">review</span> <span style=\"background-color:rgba(135,206,250,0.06844208);\">:</span> <span style=\"background-color:rgba(135,206,250,0.2964789);\">germany</span> <span style=\"background-color:rgba(135,206,250,0.177637);\">:</span> <span style=\"background-color:rgba(135,206,250,0.06816463);\">mosel</span> <span style=\"background-color:rgba(135,206,250,0.058572765);\">:</span> <span style=\"background-color:rgba(135,206,250,0.061780095);\">riesling</span> <span style=\"background-color:rgba(135,206,250,0.067033306);\">:</span> <span style=\"background-color:rgba(135,206,250,0.043035902);\">whiffs</span> <span style=\"background-color:rgba(135,206,250,0.03235203);\">of</span> <span style=\"background-color:rgba(135,206,250,0.03184057);\">smoke</span> <span style=\"background-color:rgba(135,206,250,0.020777842);\">and</span> <span style=\"background-color:rgba(135,206,250,0.055280942);\">slate</span> <span style=\"background-color:rgba(135,206,250,0.078678355);\">lend</span> <span style=\"background-color:rgba(135,206,250,0.04159792);\">earthiness</span> <span style=\"background-color:rgba(135,206,250,0.024373397);\">to</span> <span style=\"background-color:rgba(135,206,250,0.044981293);\">this</span> <span style=\"background-color:rgba(135,206,250,0.047659997);\">full</span> <span style=\"background-color:rgba(135,206,250,0.016530171);\">-</span> <span style=\"background-color:rgba(135,206,250,0.030638086);\">bodied</span> <span style=\"background-color:rgba(135,206,250,0.031895857);\">,</span> <span style=\"background-color:rgba(135,206,250,0.071097784);\">semi</span> <span style=\"background-color:rgba(135,206,250,0.021333007);\">-</span> <span style=\"background-color:rgba(135,206,250,0.038665976);\">sweet</span> <span style=\"background-color:rgba(135,206,250,0.05510465);\">riesling</span> <span style=\"background-color:rgba(135,206,250,0.27902308);\">.</span> <span style=\"background-color:rgba(135,206,250,0.11398545);\">it</span> <span style=\"background-color:rgba(135,206,250,0.035750747);\">'</span> <span style=\"background-color:rgba(135,206,250,0.1076863);\">s</span> <span style=\"background-color:rgba(135,206,250,0.074751124);\">ripe</span> <span style=\"background-color:rgba(135,206,250,0.14333029);\">,</span> <span style=\"background-color:rgba(135,206,250,0.09334288);\">sweet</span> <span style=\"background-color:rgba(135,206,250,0.16620013);\">and</span> <span style=\"background-color:rgba(135,206,250,0.20995472);\">honeyed</span> <span style=\"background-color:rgba(135,206,250,0.34968838);\">,</span> <span style=\"background-color:rgba(135,206,250,1.0);\">with</span> <span style=\"background-color:rgba(135,206,250,0.36150962);\">peach</span> <span style=\"background-color:rgba(135,206,250,0.52630293);\">and</span> <span style=\"background-color:rgba(135,206,250,0.5726167);\">apricot</span> <span style=\"background-color:rgba(135,206,250,0.31568393);\">flavors</span>"
            ]
          },
          "metadata": {}
        },
        {
          "output_type": "stream",
          "name": "stdout",
          "text": [
            ",:   \t59.93%\n",
            "that:   \t19.2%\n",
            ".:   \t15.39%\n",
            "accented:   \t3.54%\n",
            "on:   \t0.71%\n",
            "--------\n",
            "\n"
          ]
        },
        {
          "output_type": "display_data",
          "data": {
            "text/plain": [
              "<IPython.core.display.HTML object>"
            ],
            "text/html": [
              "<span style=\"background-color:rgba(135,206,250,0.10785919);\">wine</span> <span style=\"background-color:rgba(135,206,250,0.093028);\">review</span> <span style=\"background-color:rgba(135,206,250,0.26461583);\">:</span> <span style=\"background-color:rgba(135,206,250,1.0);\">germany</span> <span style=\"background-color:rgba(135,206,250,0.73495126);\">:</span> <span style=\"background-color:rgba(135,206,250,0.23985015);\">mosel</span> <span style=\"background-color:rgba(135,206,250,0.153415);\">:</span> <span style=\"background-color:rgba(135,206,250,0.24767135);\">riesling</span> <span style=\"background-color:rgba(135,206,250,0.14738742);\">:</span> <span style=\"background-color:rgba(135,206,250,0.074348666);\">whiffs</span> <span style=\"background-color:rgba(135,206,250,0.033334296);\">of</span> <span style=\"background-color:rgba(135,206,250,0.056613933);\">smoke</span> <span style=\"background-color:rgba(135,206,250,0.04422328);\">and</span> <span style=\"background-color:rgba(135,206,250,0.08354485);\">slate</span> <span style=\"background-color:rgba(135,206,250,0.063400134);\">lend</span> <span style=\"background-color:rgba(135,206,250,0.07693959);\">earthiness</span> <span style=\"background-color:rgba(135,206,250,0.025656972);\">to</span> <span style=\"background-color:rgba(135,206,250,0.0873423);\">this</span> <span style=\"background-color:rgba(135,206,250,0.0468972);\">full</span> <span style=\"background-color:rgba(135,206,250,0.026131107);\">-</span> <span style=\"background-color:rgba(135,206,250,0.0733836);\">bodied</span> <span style=\"background-color:rgba(135,206,250,0.042465813);\">,</span> <span style=\"background-color:rgba(135,206,250,0.107911855);\">semi</span> <span style=\"background-color:rgba(135,206,250,0.029869525);\">-</span> <span style=\"background-color:rgba(135,206,250,0.07018299);\">sweet</span> <span style=\"background-color:rgba(135,206,250,0.08193592);\">riesling</span> <span style=\"background-color:rgba(135,206,250,0.14594343);\">.</span> <span style=\"background-color:rgba(135,206,250,0.08638029);\">it</span> <span style=\"background-color:rgba(135,206,250,0.023528626);\">'</span> <span style=\"background-color:rgba(135,206,250,0.07847861);\">s</span> <span style=\"background-color:rgba(135,206,250,0.08901762);\">ripe</span> <span style=\"background-color:rgba(135,206,250,0.085884295);\">,</span> <span style=\"background-color:rgba(135,206,250,0.11420002);\">sweet</span> <span style=\"background-color:rgba(135,206,250,0.1085179);\">and</span> <span style=\"background-color:rgba(135,206,250,0.15085903);\">honeyed</span> <span style=\"background-color:rgba(135,206,250,0.14005224);\">,</span> <span style=\"background-color:rgba(135,206,250,0.16949427);\">with</span> <span style=\"background-color:rgba(135,206,250,0.17444095);\">peach</span> <span style=\"background-color:rgba(135,206,250,0.1952845);\">and</span> <span style=\"background-color:rgba(135,206,250,0.19889335);\">apricot</span> <span style=\"background-color:rgba(135,206,250,0.32599872);\">flavors</span> <span style=\"background-color:rgba(135,206,250,0.47326878);\">.</span>"
            ]
          },
          "metadata": {}
        },
        {
          "output_type": "stream",
          "name": "stdout",
          "text": [
            "it:   \t94.34%\n",
            "the:   \t3.57%\n",
            "a:   \t1.21%\n",
            ":   \t0.17%\n",
            "drink:   \t0.14%\n",
            "--------\n",
            "\n"
          ]
        },
        {
          "output_type": "display_data",
          "data": {
            "text/plain": [
              "<IPython.core.display.HTML object>"
            ],
            "text/html": [
              "<span style=\"background-color:rgba(135,206,250,0.033233218);\">wine</span> <span style=\"background-color:rgba(135,206,250,0.045968447);\">review</span> <span style=\"background-color:rgba(135,206,250,0.054513186);\">:</span> <span style=\"background-color:rgba(135,206,250,0.27353486);\">germany</span> <span style=\"background-color:rgba(135,206,250,0.050144322);\">:</span> <span style=\"background-color:rgba(135,206,250,0.08575806);\">mosel</span> <span style=\"background-color:rgba(135,206,250,0.02990409);\">:</span> <span style=\"background-color:rgba(135,206,250,0.04936119);\">riesling</span> <span style=\"background-color:rgba(135,206,250,0.038108777);\">:</span> <span style=\"background-color:rgba(135,206,250,0.049403287);\">whiffs</span> <span style=\"background-color:rgba(135,206,250,0.014749491);\">of</span> <span style=\"background-color:rgba(135,206,250,0.027969262);\">smoke</span> <span style=\"background-color:rgba(135,206,250,0.014786383);\">and</span> <span style=\"background-color:rgba(135,206,250,0.045695066);\">slate</span> <span style=\"background-color:rgba(135,206,250,0.023109296);\">lend</span> <span style=\"background-color:rgba(135,206,250,0.03602418);\">earthiness</span> <span style=\"background-color:rgba(135,206,250,0.00924006);\">to</span> <span style=\"background-color:rgba(135,206,250,0.014336003);\">this</span> <span style=\"background-color:rgba(135,206,250,0.035258405);\">full</span> <span style=\"background-color:rgba(135,206,250,0.009250123);\">-</span> <span style=\"background-color:rgba(135,206,250,0.040646285);\">bodied</span> <span style=\"background-color:rgba(135,206,250,0.015829878);\">,</span> <span style=\"background-color:rgba(135,206,250,0.048655577);\">semi</span> <span style=\"background-color:rgba(135,206,250,0.010286722);\">-</span> <span style=\"background-color:rgba(135,206,250,0.03559002);\">sweet</span> <span style=\"background-color:rgba(135,206,250,0.023896717);\">riesling</span> <span style=\"background-color:rgba(135,206,250,0.054676365);\">.</span> <span style=\"background-color:rgba(135,206,250,0.014311063);\">it</span> <span style=\"background-color:rgba(135,206,250,0.00985841);\">'</span> <span style=\"background-color:rgba(135,206,250,0.023588074);\">s</span> <span style=\"background-color:rgba(135,206,250,0.035971515);\">ripe</span> <span style=\"background-color:rgba(135,206,250,0.030496243);\">,</span> <span style=\"background-color:rgba(135,206,250,0.050924655);\">sweet</span> <span style=\"background-color:rgba(135,206,250,0.031030383);\">and</span> <span style=\"background-color:rgba(135,206,250,0.06645851);\">honeyed</span> <span style=\"background-color:rgba(135,206,250,0.08250958);\">,</span> <span style=\"background-color:rgba(135,206,250,0.10341043);\">with</span> <span style=\"background-color:rgba(135,206,250,0.079758026);\">peach</span> <span style=\"background-color:rgba(135,206,250,0.095707424);\">and</span> <span style=\"background-color:rgba(135,206,250,0.1250905);\">apricot</span> <span style=\"background-color:rgba(135,206,250,0.25365275);\">flavors</span> <span style=\"background-color:rgba(135,206,250,1.0);\">.</span> <span style=\"background-color:rgba(135,206,250,0.28135744);\">it</span>"
            ]
          },
          "metadata": {}
        },
        {
          "output_type": "stream",
          "name": "stdout",
          "text": [
            "':   \t99.98%\n",
            "finishes:   \t0.01%\n",
            "penetrates:   \t0.0%\n",
            "is:   \t0.0%\n",
            "lingers:   \t0.0%\n",
            "--------\n",
            "\n"
          ]
        },
        {
          "output_type": "display_data",
          "data": {
            "text/plain": [
              "<IPython.core.display.HTML object>"
            ],
            "text/html": [
              "<span style=\"background-color:rgba(135,206,250,0.06815285);\">wine</span> <span style=\"background-color:rgba(135,206,250,0.11082574);\">review</span> <span style=\"background-color:rgba(135,206,250,0.064110614);\">:</span> <span style=\"background-color:rgba(135,206,250,0.15891966);\">germany</span> <span style=\"background-color:rgba(135,206,250,0.091392204);\">:</span> <span style=\"background-color:rgba(135,206,250,0.08811514);\">mosel</span> <span style=\"background-color:rgba(135,206,250,0.044372767);\">:</span> <span style=\"background-color:rgba(135,206,250,0.13835292);\">riesling</span> <span style=\"background-color:rgba(135,206,250,0.06805453);\">:</span> <span style=\"background-color:rgba(135,206,250,0.042222843);\">whiffs</span> <span style=\"background-color:rgba(135,206,250,0.020143129);\">of</span> <span style=\"background-color:rgba(135,206,250,0.024886781);\">smoke</span> <span style=\"background-color:rgba(135,206,250,0.021886477);\">and</span> <span style=\"background-color:rgba(135,206,250,0.03680261);\">slate</span> <span style=\"background-color:rgba(135,206,250,0.035961356);\">lend</span> <span style=\"background-color:rgba(135,206,250,0.02565102);\">earthiness</span> <span style=\"background-color:rgba(135,206,250,0.012240823);\">to</span> <span style=\"background-color:rgba(135,206,250,0.021142228);\">this</span> <span style=\"background-color:rgba(135,206,250,0.020219961);\">full</span> <span style=\"background-color:rgba(135,206,250,0.0130450735);\">-</span> <span style=\"background-color:rgba(135,206,250,0.02987854);\">bodied</span> <span style=\"background-color:rgba(135,206,250,0.026741967);\">,</span> <span style=\"background-color:rgba(135,206,250,0.03553803);\">semi</span> <span style=\"background-color:rgba(135,206,250,0.01606985);\">-</span> <span style=\"background-color:rgba(135,206,250,0.02931715);\">sweet</span> <span style=\"background-color:rgba(135,206,250,0.04552268);\">riesling</span> <span style=\"background-color:rgba(135,206,250,0.071976304);\">.</span> <span style=\"background-color:rgba(135,206,250,0.030831521);\">it</span> <span style=\"background-color:rgba(135,206,250,0.014191049);\">'</span> <span style=\"background-color:rgba(135,206,250,0.026313843);\">s</span> <span style=\"background-color:rgba(135,206,250,0.040022615);\">ripe</span> <span style=\"background-color:rgba(135,206,250,0.043328658);\">,</span> <span style=\"background-color:rgba(135,206,250,0.04622983);\">sweet</span> <span style=\"background-color:rgba(135,206,250,0.048194546);\">and</span> <span style=\"background-color:rgba(135,206,250,0.060193267);\">honeyed</span> <span style=\"background-color:rgba(135,206,250,0.07389301);\">,</span> <span style=\"background-color:rgba(135,206,250,0.11552994);\">with</span> <span style=\"background-color:rgba(135,206,250,0.10769547);\">peach</span> <span style=\"background-color:rgba(135,206,250,0.13248046);\">and</span> <span style=\"background-color:rgba(135,206,250,0.19202797);\">apricot</span> <span style=\"background-color:rgba(135,206,250,0.21667098);\">flavors</span> <span style=\"background-color:rgba(135,206,250,0.6815562);\">.</span> <span style=\"background-color:rgba(135,206,250,1.0);\">it</span> <span style=\"background-color:rgba(135,206,250,0.078031145);\">'</span>"
            ]
          },
          "metadata": {}
        },
        {
          "output_type": "stream",
          "name": "stdout",
          "text": [
            "s:   \t100.0%\n",
            "ll:   \t0.0%\n",
            "[UNK]:   \t0.0%\n",
            "sweet:   \t0.0%\n",
            "sugar:   \t0.0%\n",
            "--------\n",
            "\n"
          ]
        },
        {
          "output_type": "display_data",
          "data": {
            "text/plain": [
              "<IPython.core.display.HTML object>"
            ],
            "text/html": [
              "<span style=\"background-color:rgba(135,206,250,0.062170997);\">wine</span> <span style=\"background-color:rgba(135,206,250,0.08873266);\">review</span> <span style=\"background-color:rgba(135,206,250,0.068866536);\">:</span> <span style=\"background-color:rgba(135,206,250,0.3537361);\">germany</span> <span style=\"background-color:rgba(135,206,250,0.08589862);\">:</span> <span style=\"background-color:rgba(135,206,250,0.14547102);\">mosel</span> <span style=\"background-color:rgba(135,206,250,0.045130394);\">:</span> <span style=\"background-color:rgba(135,206,250,0.15556636);\">riesling</span> <span style=\"background-color:rgba(135,206,250,0.07328589);\">:</span> <span style=\"background-color:rgba(135,206,250,0.061941534);\">whiffs</span> <span style=\"background-color:rgba(135,206,250,0.020478908);\">of</span> <span style=\"background-color:rgba(135,206,250,0.03667976);\">smoke</span> <span style=\"background-color:rgba(135,206,250,0.02297884);\">and</span> <span style=\"background-color:rgba(135,206,250,0.054793302);\">slate</span> <span style=\"background-color:rgba(135,206,250,0.025126101);\">lend</span> <span style=\"background-color:rgba(135,206,250,0.044325832);\">earthiness</span> <span style=\"background-color:rgba(135,206,250,0.014682205);\">to</span> <span style=\"background-color:rgba(135,206,250,0.023403334);\">this</span> <span style=\"background-color:rgba(135,206,250,0.049255244);\">full</span> <span style=\"background-color:rgba(135,206,250,0.013496088);\">-</span> <span style=\"background-color:rgba(135,206,250,0.05111673);\">bodied</span> <span style=\"background-color:rgba(135,206,250,0.021719515);\">,</span> <span style=\"background-color:rgba(135,206,250,0.07739623);\">semi</span> <span style=\"background-color:rgba(135,206,250,0.015945273);\">-</span> <span style=\"background-color:rgba(135,206,250,0.066331446);\">sweet</span> <span style=\"background-color:rgba(135,206,250,0.051918805);\">riesling</span> <span style=\"background-color:rgba(135,206,250,0.079805456);\">.</span> <span style=\"background-color:rgba(135,206,250,0.026013182);\">it</span> <span style=\"background-color:rgba(135,206,250,0.013362065);\">'</span> <span style=\"background-color:rgba(135,206,250,0.027863372);\">s</span> <span style=\"background-color:rgba(135,206,250,0.08359574);\">ripe</span> <span style=\"background-color:rgba(135,206,250,0.04655711);\">,</span> <span style=\"background-color:rgba(135,206,250,0.09427899);\">sweet</span> <span style=\"background-color:rgba(135,206,250,0.0539014);\">and</span> <span style=\"background-color:rgba(135,206,250,0.1070329);\">honeyed</span> <span style=\"background-color:rgba(135,206,250,0.11046586);\">,</span> <span style=\"background-color:rgba(135,206,250,0.1460218);\">with</span> <span style=\"background-color:rgba(135,206,250,0.12212597);\">peach</span> <span style=\"background-color:rgba(135,206,250,0.13500556);\">and</span> <span style=\"background-color:rgba(135,206,250,0.19762062);\">apricot</span> <span style=\"background-color:rgba(135,206,250,0.23726873);\">flavors</span> <span style=\"background-color:rgba(135,206,250,1.0);\">.</span> <span style=\"background-color:rgba(135,206,250,0.9316376);\">it</span> <span style=\"background-color:rgba(135,206,250,0.08246392);\">'</span> <span style=\"background-color:rgba(135,206,250,0.27595544);\">s</span>"
            ]
          },
          "metadata": {}
        },
        {
          "output_type": "stream",
          "name": "stdout",
          "text": [
            "a:   \t39.82%\n",
            "juicy:   \t9.36%\n",
            "full:   \t7.41%\n",
            "rich:   \t7.27%\n",
            "lush:   \t4.22%\n",
            "--------\n",
            "\n"
          ]
        },
        {
          "output_type": "display_data",
          "data": {
            "text/plain": [
              "<IPython.core.display.HTML object>"
            ],
            "text/html": [
              "<span style=\"background-color:rgba(135,206,250,0.07524141);\">wine</span> <span style=\"background-color:rgba(135,206,250,0.09390283);\">review</span> <span style=\"background-color:rgba(135,206,250,0.08655624);\">:</span> <span style=\"background-color:rgba(135,206,250,0.4446726);\">germany</span> <span style=\"background-color:rgba(135,206,250,0.10105064);\">:</span> <span style=\"background-color:rgba(135,206,250,0.23345596);\">mosel</span> <span style=\"background-color:rgba(135,206,250,0.048871223);\">:</span> <span style=\"background-color:rgba(135,206,250,0.20857051);\">riesling</span> <span style=\"background-color:rgba(135,206,250,0.07747563);\">:</span> <span style=\"background-color:rgba(135,206,250,0.07591704);\">whiffs</span> <span style=\"background-color:rgba(135,206,250,0.021768373);\">of</span> <span style=\"background-color:rgba(135,206,250,0.058684886);\">smoke</span> <span style=\"background-color:rgba(135,206,250,0.028833047);\">and</span> <span style=\"background-color:rgba(135,206,250,0.1030324);\">slate</span> <span style=\"background-color:rgba(135,206,250,0.034558333);\">lend</span> <span style=\"background-color:rgba(135,206,250,0.072886445);\">earthiness</span> <span style=\"background-color:rgba(135,206,250,0.013733772);\">to</span> <span style=\"background-color:rgba(135,206,250,0.034129143);\">this</span> <span style=\"background-color:rgba(135,206,250,0.06414216);\">full</span> <span style=\"background-color:rgba(135,206,250,0.015342951);\">-</span> <span style=\"background-color:rgba(135,206,250,0.06758919);\">bodied</span> <span style=\"background-color:rgba(135,206,250,0.031653408);\">,</span> <span style=\"background-color:rgba(135,206,250,0.11109179);\">semi</span> <span style=\"background-color:rgba(135,206,250,0.016520463);\">-</span> <span style=\"background-color:rgba(135,206,250,0.0732023);\">sweet</span> <span style=\"background-color:rgba(135,206,250,0.0691689);\">riesling</span> <span style=\"background-color:rgba(135,206,250,0.09145717);\">.</span> <span style=\"background-color:rgba(135,206,250,0.030195016);\">it</span> <span style=\"background-color:rgba(135,206,250,0.016838375);\">'</span> <span style=\"background-color:rgba(135,206,250,0.040137965);\">s</span> <span style=\"background-color:rgba(135,206,250,0.079724416);\">ripe</span> <span style=\"background-color:rgba(135,206,250,0.046471428);\">,</span> <span style=\"background-color:rgba(135,206,250,0.09400599);\">sweet</span> <span style=\"background-color:rgba(135,206,250,0.04699307);\">and</span> <span style=\"background-color:rgba(135,206,250,0.11009782);\">honeyed</span> <span style=\"background-color:rgba(135,206,250,0.090359725);\">,</span> <span style=\"background-color:rgba(135,206,250,0.11706255);\">with</span> <span style=\"background-color:rgba(135,206,250,0.12680683);\">peach</span> <span style=\"background-color:rgba(135,206,250,0.114750855);\">and</span> <span style=\"background-color:rgba(135,206,250,0.18932237);\">apricot</span> <span style=\"background-color:rgba(135,206,250,0.35238418);\">flavors</span> <span style=\"background-color:rgba(135,206,250,1.0);\">.</span> <span style=\"background-color:rgba(135,206,250,0.6549259);\">it</span> <span style=\"background-color:rgba(135,206,250,0.114558995);\">'</span> <span style=\"background-color:rgba(135,206,250,0.8611372);\">s</span> <span style=\"background-color:rgba(135,206,250,0.43094385);\">a</span>"
            ]
          },
          "metadata": {}
        },
        {
          "output_type": "stream",
          "name": "stdout",
          "text": [
            "bit:   \t27.26%\n",
            "juicy:   \t11.04%\n",
            "straightforward:   \t9.15%\n",
            "bold:   \t8.0%\n",
            "touch:   \t6.61%\n",
            "--------\n",
            "\n"
          ]
        },
        {
          "output_type": "display_data",
          "data": {
            "text/plain": [
              "<IPython.core.display.HTML object>"
            ],
            "text/html": [
              "<span style=\"background-color:rgba(135,206,250,0.053429507);\">wine</span> <span style=\"background-color:rgba(135,206,250,0.095926106);\">review</span> <span style=\"background-color:rgba(135,206,250,0.07262782);\">:</span> <span style=\"background-color:rgba(135,206,250,0.39772752);\">germany</span> <span style=\"background-color:rgba(135,206,250,0.10482155);\">:</span> <span style=\"background-color:rgba(135,206,250,0.15833266);\">mosel</span> <span style=\"background-color:rgba(135,206,250,0.07085876);\">:</span> <span style=\"background-color:rgba(135,206,250,0.35597062);\">riesling</span> <span style=\"background-color:rgba(135,206,250,0.09159937);\">:</span> <span style=\"background-color:rgba(135,206,250,0.051924217);\">whiffs</span> <span style=\"background-color:rgba(135,206,250,0.024786737);\">of</span> <span style=\"background-color:rgba(135,206,250,0.030529901);\">smoke</span> <span style=\"background-color:rgba(135,206,250,0.024402995);\">and</span> <span style=\"background-color:rgba(135,206,250,0.057654426);\">slate</span> <span style=\"background-color:rgba(135,206,250,0.025514398);\">lend</span> <span style=\"background-color:rgba(135,206,250,0.028743926);\">earthiness</span> <span style=\"background-color:rgba(135,206,250,0.012912273);\">to</span> <span style=\"background-color:rgba(135,206,250,0.018884983);\">this</span> <span style=\"background-color:rgba(135,206,250,0.019993387);\">full</span> <span style=\"background-color:rgba(135,206,250,0.010094988);\">-</span> <span style=\"background-color:rgba(135,206,250,0.04426993);\">bodied</span> <span style=\"background-color:rgba(135,206,250,0.028144937);\">,</span> <span style=\"background-color:rgba(135,206,250,0.06508527);\">semi</span> <span style=\"background-color:rgba(135,206,250,0.011652514);\">-</span> <span style=\"background-color:rgba(135,206,250,0.033562817);\">sweet</span> <span style=\"background-color:rgba(135,206,250,0.0987663);\">riesling</span> <span style=\"background-color:rgba(135,206,250,0.12227731);\">.</span> <span style=\"background-color:rgba(135,206,250,0.038614787);\">it</span> <span style=\"background-color:rgba(135,206,250,0.015984105);\">'</span> <span style=\"background-color:rgba(135,206,250,0.046174917);\">s</span> <span style=\"background-color:rgba(135,206,250,0.03707956);\">ripe</span> <span style=\"background-color:rgba(135,206,250,0.0527014);\">,</span> <span style=\"background-color:rgba(135,206,250,0.056752544);\">sweet</span> <span style=\"background-color:rgba(135,206,250,0.059574246);\">and</span> <span style=\"background-color:rgba(135,206,250,0.08054124);\">honeyed</span> <span style=\"background-color:rgba(135,206,250,0.07772023);\">,</span> <span style=\"background-color:rgba(135,206,250,0.11205862);\">with</span> <span style=\"background-color:rgba(135,206,250,0.15588401);\">peach</span> <span style=\"background-color:rgba(135,206,250,0.106161445);\">and</span> <span style=\"background-color:rgba(135,206,250,0.20363587);\">apricot</span> <span style=\"background-color:rgba(135,206,250,0.34647614);\">flavors</span> <span style=\"background-color:rgba(135,206,250,0.72953886);\">.</span> <span style=\"background-color:rgba(135,206,250,0.802943);\">it</span> <span style=\"background-color:rgba(135,206,250,0.11337745);\">'</span> <span style=\"background-color:rgba(135,206,250,0.7468901);\">s</span> <span style=\"background-color:rgba(135,206,250,1.0);\">a</span> <span style=\"background-color:rgba(135,206,250,0.59007055);\">straightforward</span>"
            ]
          },
          "metadata": {}
        },
        {
          "output_type": "stream",
          "name": "stdout",
          "text": [
            ",:   \t63.55%\n",
            "yet:   \t24.09%\n",
            "wine:   \t7.45%\n",
            "but:   \t2.78%\n",
            "quaffer:   \t1.36%\n",
            "--------\n",
            "\n"
          ]
        },
        {
          "output_type": "display_data",
          "data": {
            "text/plain": [
              "<IPython.core.display.HTML object>"
            ],
            "text/html": [
              "<span style=\"background-color:rgba(135,206,250,0.050614707);\">wine</span> <span style=\"background-color:rgba(135,206,250,0.07770083);\">review</span> <span style=\"background-color:rgba(135,206,250,0.058048274);\">:</span> <span style=\"background-color:rgba(135,206,250,0.32062504);\">germany</span> <span style=\"background-color:rgba(135,206,250,0.115576416);\">:</span> <span style=\"background-color:rgba(135,206,250,0.11728528);\">mosel</span> <span style=\"background-color:rgba(135,206,250,0.05202648);\">:</span> <span style=\"background-color:rgba(135,206,250,0.114739805);\">riesling</span> <span style=\"background-color:rgba(135,206,250,0.058886547);\">:</span> <span style=\"background-color:rgba(135,206,250,0.048026018);\">whiffs</span> <span style=\"background-color:rgba(135,206,250,0.02465554);\">of</span> <span style=\"background-color:rgba(135,206,250,0.028912785);\">smoke</span> <span style=\"background-color:rgba(135,206,250,0.026023878);\">and</span> <span style=\"background-color:rgba(135,206,250,0.050885398);\">slate</span> <span style=\"background-color:rgba(135,206,250,0.036420032);\">lend</span> <span style=\"background-color:rgba(135,206,250,0.03341565);\">earthiness</span> <span style=\"background-color:rgba(135,206,250,0.014449751);\">to</span> <span style=\"background-color:rgba(135,206,250,0.023399398);\">this</span> <span style=\"background-color:rgba(135,206,250,0.014619118);\">full</span> <span style=\"background-color:rgba(135,206,250,0.010586619);\">-</span> <span style=\"background-color:rgba(135,206,250,0.02764906);\">bodied</span> <span style=\"background-color:rgba(135,206,250,0.020627026);\">,</span> <span style=\"background-color:rgba(135,206,250,0.02591741);\">semi</span> <span style=\"background-color:rgba(135,206,250,0.010736713);\">-</span> <span style=\"background-color:rgba(135,206,250,0.015560574);\">sweet</span> <span style=\"background-color:rgba(135,206,250,0.038621128);\">riesling</span> <span style=\"background-color:rgba(135,206,250,0.06422208);\">.</span> <span style=\"background-color:rgba(135,206,250,0.025899012);\">it</span> <span style=\"background-color:rgba(135,206,250,0.011535294);\">'</span> <span style=\"background-color:rgba(135,206,250,0.02625011);\">s</span> <span style=\"background-color:rgba(135,206,250,0.0169043);\">ripe</span> <span style=\"background-color:rgba(135,206,250,0.030686542);\">,</span> <span style=\"background-color:rgba(135,206,250,0.022679305);\">sweet</span> <span style=\"background-color:rgba(135,206,250,0.033823576);\">and</span> <span style=\"background-color:rgba(135,206,250,0.042942487);\">honeyed</span> <span style=\"background-color:rgba(135,206,250,0.046974987);\">,</span> <span style=\"background-color:rgba(135,206,250,0.068149135);\">with</span> <span style=\"background-color:rgba(135,206,250,0.057543106);\">peach</span> <span style=\"background-color:rgba(135,206,250,0.052280273);\">and</span> <span style=\"background-color:rgba(135,206,250,0.06392894);\">apricot</span> <span style=\"background-color:rgba(135,206,250,0.15843764);\">flavors</span> <span style=\"background-color:rgba(135,206,250,0.32827526);\">.</span> <span style=\"background-color:rgba(135,206,250,0.24681127);\">it</span> <span style=\"background-color:rgba(135,206,250,0.055279385);\">'</span> <span style=\"background-color:rgba(135,206,250,0.2470718);\">s</span> <span style=\"background-color:rgba(135,206,250,0.34900317);\">a</span> <span style=\"background-color:rgba(135,206,250,1.0);\">straightforward</span> <span style=\"background-color:rgba(135,206,250,0.17604181);\">yet</span>"
            ]
          },
          "metadata": {}
        },
        {
          "output_type": "stream",
          "name": "stdout",
          "text": [
            "delectably:   \t52.93%\n",
            "elegantly:   \t8.21%\n",
            "balanced:   \t7.08%\n",
            "approachable:   \t6.21%\n",
            "deeply:   \t5.76%\n",
            "--------\n",
            "\n"
          ]
        },
        {
          "output_type": "display_data",
          "data": {
            "text/plain": [
              "<IPython.core.display.HTML object>"
            ],
            "text/html": [
              "<span style=\"background-color:rgba(135,206,250,0.091100976);\">wine</span> <span style=\"background-color:rgba(135,206,250,0.17894305);\">review</span> <span style=\"background-color:rgba(135,206,250,0.105987795);\">:</span> <span style=\"background-color:rgba(135,206,250,0.30388469);\">germany</span> <span style=\"background-color:rgba(135,206,250,0.22174281);\">:</span> <span style=\"background-color:rgba(135,206,250,0.15021645);\">mosel</span> <span style=\"background-color:rgba(135,206,250,0.0622104);\">:</span> <span style=\"background-color:rgba(135,206,250,0.13491578);\">riesling</span> <span style=\"background-color:rgba(135,206,250,0.08143005);\">:</span> <span style=\"background-color:rgba(135,206,250,0.038246464);\">whiffs</span> <span style=\"background-color:rgba(135,206,250,0.023556113);\">of</span> <span style=\"background-color:rgba(135,206,250,0.028823052);\">smoke</span> <span style=\"background-color:rgba(135,206,250,0.03695566);\">and</span> <span style=\"background-color:rgba(135,206,250,0.053822868);\">slate</span> <span style=\"background-color:rgba(135,206,250,0.025065513);\">lend</span> <span style=\"background-color:rgba(135,206,250,0.037692115);\">earthiness</span> <span style=\"background-color:rgba(135,206,250,0.018098371);\">to</span> <span style=\"background-color:rgba(135,206,250,0.022359613);\">this</span> <span style=\"background-color:rgba(135,206,250,0.025058117);\">full</span> <span style=\"background-color:rgba(135,206,250,0.0110790115);\">-</span> <span style=\"background-color:rgba(135,206,250,0.025053343);\">bodied</span> <span style=\"background-color:rgba(135,206,250,0.03530791);\">,</span> <span style=\"background-color:rgba(135,206,250,0.06181315);\">semi</span> <span style=\"background-color:rgba(135,206,250,0.014271774);\">-</span> <span style=\"background-color:rgba(135,206,250,0.040949233);\">sweet</span> <span style=\"background-color:rgba(135,206,250,0.049649507);\">riesling</span> <span style=\"background-color:rgba(135,206,250,0.10991501);\">.</span> <span style=\"background-color:rgba(135,206,250,0.046049166);\">it</span> <span style=\"background-color:rgba(135,206,250,0.027168809);\">'</span> <span style=\"background-color:rgba(135,206,250,0.06284483);\">s</span> <span style=\"background-color:rgba(135,206,250,0.060825832);\">ripe</span> <span style=\"background-color:rgba(135,206,250,0.06567732);\">,</span> <span style=\"background-color:rgba(135,206,250,0.065044284);\">sweet</span> <span style=\"background-color:rgba(135,206,250,0.08519657);\">and</span> <span style=\"background-color:rgba(135,206,250,0.08588182);\">honeyed</span> <span style=\"background-color:rgba(135,206,250,0.0970759);\">,</span> <span style=\"background-color:rgba(135,206,250,0.106414534);\">with</span> <span style=\"background-color:rgba(135,206,250,0.10035178);\">peach</span> <span style=\"background-color:rgba(135,206,250,0.11768227);\">and</span> <span style=\"background-color:rgba(135,206,250,0.11938762);\">apricot</span> <span style=\"background-color:rgba(135,206,250,0.21901509);\">flavors</span> <span style=\"background-color:rgba(135,206,250,0.5653674);\">.</span> <span style=\"background-color:rgba(135,206,250,0.32339755);\">it</span> <span style=\"background-color:rgba(135,206,250,0.0990631);\">'</span> <span style=\"background-color:rgba(135,206,250,0.47069407);\">s</span> <span style=\"background-color:rgba(135,206,250,0.64896417);\">a</span> <span style=\"background-color:rgba(135,206,250,1.0);\">straightforward</span> <span style=\"background-color:rgba(135,206,250,0.79952836);\">yet</span> <span style=\"background-color:rgba(135,206,250,0.54753315);\">delectably</span>"
            ]
          },
          "metadata": {}
        },
        {
          "output_type": "stream",
          "name": "stdout",
          "text": [
            "juicy:   \t92.41%\n",
            "fruity:   \t4.21%\n",
            "composed:   \t2.24%\n",
            "quaffable:   \t0.34%\n",
            "easy:   \t0.24%\n",
            "--------\n",
            "\n"
          ]
        },
        {
          "output_type": "display_data",
          "data": {
            "text/plain": [
              "<IPython.core.display.HTML object>"
            ],
            "text/html": [
              "<span style=\"background-color:rgba(135,206,250,0.041546177);\">wine</span> <span style=\"background-color:rgba(135,206,250,0.06069941);\">review</span> <span style=\"background-color:rgba(135,206,250,0.06644594);\">:</span> <span style=\"background-color:rgba(135,206,250,0.31316856);\">germany</span> <span style=\"background-color:rgba(135,206,250,0.06553959);\">:</span> <span style=\"background-color:rgba(135,206,250,0.15898997);\">mosel</span> <span style=\"background-color:rgba(135,206,250,0.05253494);\">:</span> <span style=\"background-color:rgba(135,206,250,0.28217337);\">riesling</span> <span style=\"background-color:rgba(135,206,250,0.06892952);\">:</span> <span style=\"background-color:rgba(135,206,250,0.052370887);\">whiffs</span> <span style=\"background-color:rgba(135,206,250,0.017858475);\">of</span> <span style=\"background-color:rgba(135,206,250,0.03733909);\">smoke</span> <span style=\"background-color:rgba(135,206,250,0.023896892);\">and</span> <span style=\"background-color:rgba(135,206,250,0.063987575);\">slate</span> <span style=\"background-color:rgba(135,206,250,0.024439206);\">lend</span> <span style=\"background-color:rgba(135,206,250,0.036407486);\">earthiness</span> <span style=\"background-color:rgba(135,206,250,0.01131409);\">to</span> <span style=\"background-color:rgba(135,206,250,0.019803654);\">this</span> <span style=\"background-color:rgba(135,206,250,0.021906398);\">full</span> <span style=\"background-color:rgba(135,206,250,0.013216155);\">-</span> <span style=\"background-color:rgba(135,206,250,0.045457963);\">bodied</span> <span style=\"background-color:rgba(135,206,250,0.025838854);\">,</span> <span style=\"background-color:rgba(135,206,250,0.09890074);\">semi</span> <span style=\"background-color:rgba(135,206,250,0.014722446);\">-</span> <span style=\"background-color:rgba(135,206,250,0.04833113);\">sweet</span> <span style=\"background-color:rgba(135,206,250,0.09512974);\">riesling</span> <span style=\"background-color:rgba(135,206,250,0.09913192);\">.</span> <span style=\"background-color:rgba(135,206,250,0.036966614);\">it</span> <span style=\"background-color:rgba(135,206,250,0.013534253);\">'</span> <span style=\"background-color:rgba(135,206,250,0.047396515);\">s</span> <span style=\"background-color:rgba(135,206,250,0.041688994);\">ripe</span> <span style=\"background-color:rgba(135,206,250,0.039870728);\">,</span> <span style=\"background-color:rgba(135,206,250,0.071145);\">sweet</span> <span style=\"background-color:rgba(135,206,250,0.04572757);\">and</span> <span style=\"background-color:rgba(135,206,250,0.08777371);\">honeyed</span> <span style=\"background-color:rgba(135,206,250,0.053433742);\">,</span> <span style=\"background-color:rgba(135,206,250,0.061763883);\">with</span> <span style=\"background-color:rgba(135,206,250,0.17226376);\">peach</span> <span style=\"background-color:rgba(135,206,250,0.068977825);\">and</span> <span style=\"background-color:rgba(135,206,250,0.21884121);\">apricot</span> <span style=\"background-color:rgba(135,206,250,0.2592721);\">flavors</span> <span style=\"background-color:rgba(135,206,250,0.359032);\">.</span> <span style=\"background-color:rgba(135,206,250,0.25658482);\">it</span> <span style=\"background-color:rgba(135,206,250,0.06515548);\">'</span> <span style=\"background-color:rgba(135,206,250,0.48125064);\">s</span> <span style=\"background-color:rgba(135,206,250,0.5367349);\">a</span> <span style=\"background-color:rgba(135,206,250,0.39870456);\">straightforward</span> <span style=\"background-color:rgba(135,206,250,0.72306156);\">yet</span> <span style=\"background-color:rgba(135,206,250,1.0);\">delectably</span> <span style=\"background-color:rgba(135,206,250,0.35004306);\">juicy</span>"
            ]
          },
          "metadata": {}
        },
        {
          "output_type": "stream",
          "name": "stdout",
          "text": [
            "wine:   \t53.83%\n",
            ",:   \t41.98%\n",
            "and:   \t3.16%\n",
            "riesling:   \t0.4%\n",
            "with:   \t0.16%\n",
            "--------\n",
            "\n"
          ]
        },
        {
          "output_type": "display_data",
          "data": {
            "text/plain": [
              "<IPython.core.display.HTML object>"
            ],
            "text/html": [
              "<span style=\"background-color:rgba(135,206,250,0.05806034);\">wine</span> <span style=\"background-color:rgba(135,206,250,0.12642913);\">review</span> <span style=\"background-color:rgba(135,206,250,0.08695113);\">:</span> <span style=\"background-color:rgba(135,206,250,0.39881393);\">germany</span> <span style=\"background-color:rgba(135,206,250,0.15627298);\">:</span> <span style=\"background-color:rgba(135,206,250,0.10407248);\">mosel</span> <span style=\"background-color:rgba(135,206,250,0.06982535);\">:</span> <span style=\"background-color:rgba(135,206,250,0.10983548);\">riesling</span> <span style=\"background-color:rgba(135,206,250,0.09974756);\">:</span> <span style=\"background-color:rgba(135,206,250,0.085453436);\">whiffs</span> <span style=\"background-color:rgba(135,206,250,0.030297508);\">of</span> <span style=\"background-color:rgba(135,206,250,0.04337537);\">smoke</span> <span style=\"background-color:rgba(135,206,250,0.041249327);\">and</span> <span style=\"background-color:rgba(135,206,250,0.068998806);\">slate</span> <span style=\"background-color:rgba(135,206,250,0.083060876);\">lend</span> <span style=\"background-color:rgba(135,206,250,0.0595427);\">earthiness</span> <span style=\"background-color:rgba(135,206,250,0.024342915);\">to</span> <span style=\"background-color:rgba(135,206,250,0.04837205);\">this</span> <span style=\"background-color:rgba(135,206,250,0.04452871);\">full</span> <span style=\"background-color:rgba(135,206,250,0.01909375);\">-</span> <span style=\"background-color:rgba(135,206,250,0.042499587);\">bodied</span> <span style=\"background-color:rgba(135,206,250,0.03398528);\">,</span> <span style=\"background-color:rgba(135,206,250,0.074277736);\">semi</span> <span style=\"background-color:rgba(135,206,250,0.021157406);\">-</span> <span style=\"background-color:rgba(135,206,250,0.042008124);\">sweet</span> <span style=\"background-color:rgba(135,206,250,0.045349296);\">riesling</span> <span style=\"background-color:rgba(135,206,250,0.15085971);\">.</span> <span style=\"background-color:rgba(135,206,250,0.054547388);\">it</span> <span style=\"background-color:rgba(135,206,250,0.019469328);\">'</span> <span style=\"background-color:rgba(135,206,250,0.06535369);\">s</span> <span style=\"background-color:rgba(135,206,250,0.04227581);\">ripe</span> <span style=\"background-color:rgba(135,206,250,0.05416624);\">,</span> <span style=\"background-color:rgba(135,206,250,0.06001637);\">sweet</span> <span style=\"background-color:rgba(135,206,250,0.065645166);\">and</span> <span style=\"background-color:rgba(135,206,250,0.07841721);\">honeyed</span> <span style=\"background-color:rgba(135,206,250,0.08286631);\">,</span> <span style=\"background-color:rgba(135,206,250,0.1330799);\">with</span> <span style=\"background-color:rgba(135,206,250,0.11691415);\">peach</span> <span style=\"background-color:rgba(135,206,250,0.10031105);\">and</span> <span style=\"background-color:rgba(135,206,250,0.13070133);\">apricot</span> <span style=\"background-color:rgba(135,206,250,0.22784671);\">flavors</span> <span style=\"background-color:rgba(135,206,250,0.5603858);\">.</span> <span style=\"background-color:rgba(135,206,250,0.17437202);\">it</span> <span style=\"background-color:rgba(135,206,250,0.12720124);\">'</span> <span style=\"background-color:rgba(135,206,250,0.49378356);\">s</span> <span style=\"background-color:rgba(135,206,250,0.84700674);\">a</span> <span style=\"background-color:rgba(135,206,250,0.685419);\">straightforward</span> <span style=\"background-color:rgba(135,206,250,0.65905815);\">yet</span> <span style=\"background-color:rgba(135,206,250,0.719049);\">delectably</span> <span style=\"background-color:rgba(135,206,250,0.650985);\">juicy</span> <span style=\"background-color:rgba(135,206,250,1.0);\">wine</span>"
            ]
          },
          "metadata": {}
        },
        {
          "output_type": "stream",
          "name": "stdout",
          "text": [
            "that:   \t36.63%\n",
            "with:   \t26.27%\n",
            ".:   \t16.74%\n",
            ",:   \t14.18%\n",
            "to:   \t4.87%\n",
            "--------\n",
            "\n"
          ]
        },
        {
          "output_type": "display_data",
          "data": {
            "text/plain": [
              "<IPython.core.display.HTML object>"
            ],
            "text/html": [
              "<span style=\"background-color:rgba(135,206,250,0.028408282);\">wine</span> <span style=\"background-color:rgba(135,206,250,0.038959034);\">review</span> <span style=\"background-color:rgba(135,206,250,0.04788542);\">:</span> <span style=\"background-color:rgba(135,206,250,0.23420687);\">germany</span> <span style=\"background-color:rgba(135,206,250,0.06497896);\">:</span> <span style=\"background-color:rgba(135,206,250,0.08368581);\">mosel</span> <span style=\"background-color:rgba(135,206,250,0.026519243);\">:</span> <span style=\"background-color:rgba(135,206,250,0.05357675);\">riesling</span> <span style=\"background-color:rgba(135,206,250,0.033648998);\">:</span> <span style=\"background-color:rgba(135,206,250,0.042099588);\">whiffs</span> <span style=\"background-color:rgba(135,206,250,0.009156674);\">of</span> <span style=\"background-color:rgba(135,206,250,0.026304474);\">smoke</span> <span style=\"background-color:rgba(135,206,250,0.015877197);\">and</span> <span style=\"background-color:rgba(135,206,250,0.046025023);\">slate</span> <span style=\"background-color:rgba(135,206,250,0.019797094);\">lend</span> <span style=\"background-color:rgba(135,206,250,0.03206593);\">earthiness</span> <span style=\"background-color:rgba(135,206,250,0.0060846913);\">to</span> <span style=\"background-color:rgba(135,206,250,0.010800138);\">this</span> <span style=\"background-color:rgba(135,206,250,0.025127737);\">full</span> <span style=\"background-color:rgba(135,206,250,0.007548414);\">-</span> <span style=\"background-color:rgba(135,206,250,0.027810518);\">bodied</span> <span style=\"background-color:rgba(135,206,250,0.013347743);\">,</span> <span style=\"background-color:rgba(135,206,250,0.03213836);\">semi</span> <span style=\"background-color:rgba(135,206,250,0.007932677);\">-</span> <span style=\"background-color:rgba(135,206,250,0.023652604);\">sweet</span> <span style=\"background-color:rgba(135,206,250,0.018892547);\">riesling</span> <span style=\"background-color:rgba(135,206,250,0.03877828);\">.</span> <span style=\"background-color:rgba(135,206,250,0.012223793);\">it</span> <span style=\"background-color:rgba(135,206,250,0.009268913);\">'</span> <span style=\"background-color:rgba(135,206,250,0.020417666);\">s</span> <span style=\"background-color:rgba(135,206,250,0.022864675);\">ripe</span> <span style=\"background-color:rgba(135,206,250,0.018301323);\">,</span> <span style=\"background-color:rgba(135,206,250,0.031078799);\">sweet</span> <span style=\"background-color:rgba(135,206,250,0.021819325);\">and</span> <span style=\"background-color:rgba(135,206,250,0.04361561);\">honeyed</span> <span style=\"background-color:rgba(135,206,250,0.02297569);\">,</span> <span style=\"background-color:rgba(135,206,250,0.028326187);\">with</span> <span style=\"background-color:rgba(135,206,250,0.04920233);\">peach</span> <span style=\"background-color:rgba(135,206,250,0.030477284);\">and</span> <span style=\"background-color:rgba(135,206,250,0.03980053);\">apricot</span> <span style=\"background-color:rgba(135,206,250,0.09023149);\">flavors</span> <span style=\"background-color:rgba(135,206,250,0.123505756);\">.</span> <span style=\"background-color:rgba(135,206,250,0.03535555);\">it</span> <span style=\"background-color:rgba(135,206,250,0.02425703);\">'</span> <span style=\"background-color:rgba(135,206,250,0.091689974);\">s</span> <span style=\"background-color:rgba(135,206,250,0.17059898);\">a</span> <span style=\"background-color:rgba(135,206,250,0.27755076);\">straightforward</span> <span style=\"background-color:rgba(135,206,250,0.22754058);\">yet</span> <span style=\"background-color:rgba(135,206,250,0.28081498);\">delectably</span> <span style=\"background-color:rgba(135,206,250,0.16297266);\">juicy</span> <span style=\"background-color:rgba(135,206,250,1.0);\">wine</span> <span style=\"background-color:rgba(135,206,250,0.15242514);\">that</span>"
            ]
          },
          "metadata": {}
        },
        {
          "output_type": "stream",
          "name": "stdout",
          "text": [
            "':   \t87.49%\n",
            "finishes:   \t3.52%\n",
            "would:   \t2.48%\n",
            "should:   \t2.33%\n",
            "will:   \t1.59%\n",
            "--------\n",
            "\n"
          ]
        },
        {
          "output_type": "display_data",
          "data": {
            "text/plain": [
              "<IPython.core.display.HTML object>"
            ],
            "text/html": [
              "<span style=\"background-color:rgba(135,206,250,0.06292533);\">wine</span> <span style=\"background-color:rgba(135,206,250,0.09658351);\">review</span> <span style=\"background-color:rgba(135,206,250,0.061110064);\">:</span> <span style=\"background-color:rgba(135,206,250,0.191823);\">germany</span> <span style=\"background-color:rgba(135,206,250,0.097335175);\">:</span> <span style=\"background-color:rgba(135,206,250,0.10819328);\">mosel</span> <span style=\"background-color:rgba(135,206,250,0.04451913);\">:</span> <span style=\"background-color:rgba(135,206,250,0.16403876);\">riesling</span> <span style=\"background-color:rgba(135,206,250,0.06981316);\">:</span> <span style=\"background-color:rgba(135,206,250,0.043680627);\">whiffs</span> <span style=\"background-color:rgba(135,206,250,0.02041425);\">of</span> <span style=\"background-color:rgba(135,206,250,0.026622603);\">smoke</span> <span style=\"background-color:rgba(135,206,250,0.02213706);\">and</span> <span style=\"background-color:rgba(135,206,250,0.03893431);\">slate</span> <span style=\"background-color:rgba(135,206,250,0.03154294);\">lend</span> <span style=\"background-color:rgba(135,206,250,0.026393017);\">earthiness</span> <span style=\"background-color:rgba(135,206,250,0.010734635);\">to</span> <span style=\"background-color:rgba(135,206,250,0.018849667);\">this</span> <span style=\"background-color:rgba(135,206,250,0.020938689);\">full</span> <span style=\"background-color:rgba(135,206,250,0.011109243);\">-</span> <span style=\"background-color:rgba(135,206,250,0.030204458);\">bodied</span> <span style=\"background-color:rgba(135,206,250,0.023192886);\">,</span> <span style=\"background-color:rgba(135,206,250,0.031412285);\">semi</span> <span style=\"background-color:rgba(135,206,250,0.012700935);\">-</span> <span style=\"background-color:rgba(135,206,250,0.023833718);\">sweet</span> <span style=\"background-color:rgba(135,206,250,0.041237444);\">riesling</span> <span style=\"background-color:rgba(135,206,250,0.05619651);\">.</span> <span style=\"background-color:rgba(135,206,250,0.020705953);\">it</span> <span style=\"background-color:rgba(135,206,250,0.011257054);\">'</span> <span style=\"background-color:rgba(135,206,250,0.019752607);\">s</span> <span style=\"background-color:rgba(135,206,250,0.029368443);\">ripe</span> <span style=\"background-color:rgba(135,206,250,0.030808695);\">,</span> <span style=\"background-color:rgba(135,206,250,0.030655114);\">sweet</span> <span style=\"background-color:rgba(135,206,250,0.03075086);\">and</span> <span style=\"background-color:rgba(135,206,250,0.03442463);\">honeyed</span> <span style=\"background-color:rgba(135,206,250,0.03470216);\">,</span> <span style=\"background-color:rgba(135,206,250,0.044256043);\">with</span> <span style=\"background-color:rgba(135,206,250,0.0414467);\">peach</span> <span style=\"background-color:rgba(135,206,250,0.038693953);\">and</span> <span style=\"background-color:rgba(135,206,250,0.044516694);\">apricot</span> <span style=\"background-color:rgba(135,206,250,0.060963802);\">flavors</span> <span style=\"background-color:rgba(135,206,250,0.10170251);\">.</span> <span style=\"background-color:rgba(135,206,250,0.060255356);\">it</span> <span style=\"background-color:rgba(135,206,250,0.020652788);\">'</span> <span style=\"background-color:rgba(135,206,250,0.079432525);\">s</span> <span style=\"background-color:rgba(135,206,250,0.0582154);\">a</span> <span style=\"background-color:rgba(135,206,250,0.13631754);\">straightforward</span> <span style=\"background-color:rgba(135,206,250,0.20425215);\">yet</span> <span style=\"background-color:rgba(135,206,250,0.16435236);\">delectably</span> <span style=\"background-color:rgba(135,206,250,0.23287308);\">juicy</span> <span style=\"background-color:rgba(135,206,250,0.83994025);\">wine</span> <span style=\"background-color:rgba(135,206,250,1.0);\">that</span> <span style=\"background-color:rgba(135,206,250,0.10089508);\">'</span>"
            ]
          },
          "metadata": {}
        },
        {
          "output_type": "stream",
          "name": "stdout",
          "text": [
            "s:   \t100.0%\n",
            "ll:   \t0.0%\n",
            "[UNK]:   \t0.0%\n",
            "refreshing:   \t0.0%\n",
            "d:   \t0.0%\n",
            "--------\n",
            "\n"
          ]
        },
        {
          "output_type": "display_data",
          "data": {
            "text/plain": [
              "<IPython.core.display.HTML object>"
            ],
            "text/html": [
              "<span style=\"background-color:rgba(135,206,250,0.06149375);\">wine</span> <span style=\"background-color:rgba(135,206,250,0.077113815);\">review</span> <span style=\"background-color:rgba(135,206,250,0.072537884);\">:</span> <span style=\"background-color:rgba(135,206,250,0.4029561);\">germany</span> <span style=\"background-color:rgba(135,206,250,0.07887514);\">:</span> <span style=\"background-color:rgba(135,206,250,0.18677099);\">mosel</span> <span style=\"background-color:rgba(135,206,250,0.048783876);\">:</span> <span style=\"background-color:rgba(135,206,250,0.17387761);\">riesling</span> <span style=\"background-color:rgba(135,206,250,0.074763715);\">:</span> <span style=\"background-color:rgba(135,206,250,0.065381594);\">whiffs</span> <span style=\"background-color:rgba(135,206,250,0.021498423);\">of</span> <span style=\"background-color:rgba(135,206,250,0.044025183);\">smoke</span> <span style=\"background-color:rgba(135,206,250,0.026644317);\">and</span> <span style=\"background-color:rgba(135,206,250,0.06628648);\">slate</span> <span style=\"background-color:rgba(135,206,250,0.021264259);\">lend</span> <span style=\"background-color:rgba(135,206,250,0.049082022);\">earthiness</span> <span style=\"background-color:rgba(135,206,250,0.013795246);\">to</span> <span style=\"background-color:rgba(135,206,250,0.019434385);\">this</span> <span style=\"background-color:rgba(135,206,250,0.05527382);\">full</span> <span style=\"background-color:rgba(135,206,250,0.0128903175);\">-</span> <span style=\"background-color:rgba(135,206,250,0.055293202);\">bodied</span> <span style=\"background-color:rgba(135,206,250,0.020232197);\">,</span> <span style=\"background-color:rgba(135,206,250,0.07245886);\">semi</span> <span style=\"background-color:rgba(135,206,250,0.014020457);\">-</span> <span style=\"background-color:rgba(135,206,250,0.058676425);\">sweet</span> <span style=\"background-color:rgba(135,206,250,0.04841218);\">riesling</span> <span style=\"background-color:rgba(135,206,250,0.05624963);\">.</span> <span style=\"background-color:rgba(135,206,250,0.016170772);\">it</span> <span style=\"background-color:rgba(135,206,250,0.012895603);\">'</span> <span style=\"background-color:rgba(135,206,250,0.023453746);\">s</span> <span style=\"background-color:rgba(135,206,250,0.066628195);\">ripe</span> <span style=\"background-color:rgba(135,206,250,0.028039707);\">,</span> <span style=\"background-color:rgba(135,206,250,0.07237579);\">sweet</span> <span style=\"background-color:rgba(135,206,250,0.035615757);\">and</span> <span style=\"background-color:rgba(135,206,250,0.072069764);\">honeyed</span> <span style=\"background-color:rgba(135,206,250,0.035547897);\">,</span> <span style=\"background-color:rgba(135,206,250,0.0509591);\">with</span> <span style=\"background-color:rgba(135,206,250,0.067619495);\">peach</span> <span style=\"background-color:rgba(135,206,250,0.045162868);\">and</span> <span style=\"background-color:rgba(135,206,250,0.06324037);\">apricot</span> <span style=\"background-color:rgba(135,206,250,0.09261999);\">flavors</span> <span style=\"background-color:rgba(135,206,250,0.13411821);\">.</span> <span style=\"background-color:rgba(135,206,250,0.07822157);\">it</span> <span style=\"background-color:rgba(135,206,250,0.025763847);\">'</span> <span style=\"background-color:rgba(135,206,250,0.049243998);\">s</span> <span style=\"background-color:rgba(135,206,250,0.09188265);\">a</span> <span style=\"background-color:rgba(135,206,250,0.36763042);\">straightforward</span> <span style=\"background-color:rgba(135,206,250,0.51163137);\">yet</span> <span style=\"background-color:rgba(135,206,250,0.22913966);\">delectably</span> <span style=\"background-color:rgba(135,206,250,0.41426662);\">juicy</span> <span style=\"background-color:rgba(135,206,250,0.8694396);\">wine</span> <span style=\"background-color:rgba(135,206,250,1.0);\">that</span> <span style=\"background-color:rgba(135,206,250,0.13745335);\">'</span> <span style=\"background-color:rgba(135,206,250,0.37012365);\">s</span>"
            ]
          },
          "metadata": {}
        },
        {
          "output_type": "stream",
          "name": "stdout",
          "text": [
            "balanced:   \t25.59%\n",
            "easy:   \t18.09%\n",
            "refreshing:   \t9.01%\n",
            "a:   \t4.83%\n",
            "quaffable:   \t4.35%\n",
            "--------\n",
            "\n"
          ]
        },
        {
          "output_type": "display_data",
          "data": {
            "text/plain": [
              "<IPython.core.display.HTML object>"
            ],
            "text/html": [
              "<span style=\"background-color:rgba(135,206,250,0.052283168);\">wine</span> <span style=\"background-color:rgba(135,206,250,0.056159686);\">review</span> <span style=\"background-color:rgba(135,206,250,0.08546776);\">:</span> <span style=\"background-color:rgba(135,206,250,0.32270125);\">germany</span> <span style=\"background-color:rgba(135,206,250,0.101953246);\">:</span> <span style=\"background-color:rgba(135,206,250,0.255997);\">mosel</span> <span style=\"background-color:rgba(135,206,250,0.061811768);\">:</span> <span style=\"background-color:rgba(135,206,250,0.26710954);\">riesling</span> <span style=\"background-color:rgba(135,206,250,0.06605535);\">:</span> <span style=\"background-color:rgba(135,206,250,0.05087559);\">whiffs</span> <span style=\"background-color:rgba(135,206,250,0.023128288);\">of</span> <span style=\"background-color:rgba(135,206,250,0.040583503);\">smoke</span> <span style=\"background-color:rgba(135,206,250,0.027240064);\">and</span> <span style=\"background-color:rgba(135,206,250,0.062288698);\">slate</span> <span style=\"background-color:rgba(135,206,250,0.01553358);\">lend</span> <span style=\"background-color:rgba(135,206,250,0.031357694);\">earthiness</span> <span style=\"background-color:rgba(135,206,250,0.009645849);\">to</span> <span style=\"background-color:rgba(135,206,250,0.014839758);\">this</span> <span style=\"background-color:rgba(135,206,250,0.026791066);\">full</span> <span style=\"background-color:rgba(135,206,250,0.012645579);\">-</span> <span style=\"background-color:rgba(135,206,250,0.06224124);\">bodied</span> <span style=\"background-color:rgba(135,206,250,0.027232654);\">,</span> <span style=\"background-color:rgba(135,206,250,0.05723699);\">semi</span> <span style=\"background-color:rgba(135,206,250,0.013219625);\">-</span> <span style=\"background-color:rgba(135,206,250,0.029275255);\">sweet</span> <span style=\"background-color:rgba(135,206,250,0.06494208);\">riesling</span> <span style=\"background-color:rgba(135,206,250,0.046599414);\">.</span> <span style=\"background-color:rgba(135,206,250,0.013582725);\">it</span> <span style=\"background-color:rgba(135,206,250,0.018120378);\">'</span> <span style=\"background-color:rgba(135,206,250,0.020833988);\">s</span> <span style=\"background-color:rgba(135,206,250,0.032895856);\">ripe</span> <span style=\"background-color:rgba(135,206,250,0.03327646);\">,</span> <span style=\"background-color:rgba(135,206,250,0.036129765);\">sweet</span> <span style=\"background-color:rgba(135,206,250,0.033434417);\">and</span> <span style=\"background-color:rgba(135,206,250,0.041269362);\">honeyed</span> <span style=\"background-color:rgba(135,206,250,0.0374721);\">,</span> <span style=\"background-color:rgba(135,206,250,0.027106317);\">with</span> <span style=\"background-color:rgba(135,206,250,0.064741924);\">peach</span> <span style=\"background-color:rgba(135,206,250,0.03995568);\">and</span> <span style=\"background-color:rgba(135,206,250,0.063170776);\">apricot</span> <span style=\"background-color:rgba(135,206,250,0.07606188);\">flavors</span> <span style=\"background-color:rgba(135,206,250,0.09765908);\">.</span> <span style=\"background-color:rgba(135,206,250,0.054371838);\">it</span> <span style=\"background-color:rgba(135,206,250,0.037811574);\">'</span> <span style=\"background-color:rgba(135,206,250,0.06714334);\">s</span> <span style=\"background-color:rgba(135,206,250,0.082472384);\">a</span> <span style=\"background-color:rgba(135,206,250,0.14872496);\">straightforward</span> <span style=\"background-color:rgba(135,206,250,0.12733868);\">yet</span> <span style=\"background-color:rgba(135,206,250,0.115513876);\">delectably</span> <span style=\"background-color:rgba(135,206,250,0.11464375);\">juicy</span> <span style=\"background-color:rgba(135,206,250,0.55769145);\">wine</span> <span style=\"background-color:rgba(135,206,250,1.0);\">that</span> <span style=\"background-color:rgba(135,206,250,0.2057705);\">'</span> <span style=\"background-color:rgba(135,206,250,0.8426492);\">s</span> <span style=\"background-color:rgba(135,206,250,0.24950261);\">easy</span>"
            ]
          },
          "metadata": {}
        },
        {
          "output_type": "stream",
          "name": "stdout",
          "text": [
            "to:   \t98.5%\n",
            "drinking:   \t1.03%\n",
            "and:   \t0.29%\n",
            "-:   \t0.09%\n",
            "on:   \t0.05%\n",
            "--------\n",
            "\n"
          ]
        },
        {
          "output_type": "display_data",
          "data": {
            "text/plain": [
              "<IPython.core.display.HTML object>"
            ],
            "text/html": [
              "<span style=\"background-color:rgba(135,206,250,0.041110907);\">wine</span> <span style=\"background-color:rgba(135,206,250,0.06935778);\">review</span> <span style=\"background-color:rgba(135,206,250,0.046790093);\">:</span> <span style=\"background-color:rgba(135,206,250,0.220522);\">germany</span> <span style=\"background-color:rgba(135,206,250,0.07038211);\">:</span> <span style=\"background-color:rgba(135,206,250,0.11677474);\">mosel</span> <span style=\"background-color:rgba(135,206,250,0.033189166);\">:</span> <span style=\"background-color:rgba(135,206,250,0.15608487);\">riesling</span> <span style=\"background-color:rgba(135,206,250,0.0476692);\">:</span> <span style=\"background-color:rgba(135,206,250,0.030799624);\">whiffs</span> <span style=\"background-color:rgba(135,206,250,0.013186425);\">of</span> <span style=\"background-color:rgba(135,206,250,0.020476134);\">smoke</span> <span style=\"background-color:rgba(135,206,250,0.021710826);\">and</span> <span style=\"background-color:rgba(135,206,250,0.027522933);\">slate</span> <span style=\"background-color:rgba(135,206,250,0.02975095);\">lend</span> <span style=\"background-color:rgba(135,206,250,0.020756671);\">earthiness</span> <span style=\"background-color:rgba(135,206,250,0.008240987);\">to</span> <span style=\"background-color:rgba(135,206,250,0.01836417);\">this</span> <span style=\"background-color:rgba(135,206,250,0.01723105);\">full</span> <span style=\"background-color:rgba(135,206,250,0.00850518);\">-</span> <span style=\"background-color:rgba(135,206,250,0.022921199);\">bodied</span> <span style=\"background-color:rgba(135,206,250,0.016545627);\">,</span> <span style=\"background-color:rgba(135,206,250,0.028823586);\">semi</span> <span style=\"background-color:rgba(135,206,250,0.009415865);\">-</span> <span style=\"background-color:rgba(135,206,250,0.017985433);\">sweet</span> <span style=\"background-color:rgba(135,206,250,0.03743708);\">riesling</span> <span style=\"background-color:rgba(135,206,250,0.041745145);\">.</span> <span style=\"background-color:rgba(135,206,250,0.01946295);\">it</span> <span style=\"background-color:rgba(135,206,250,0.008504674);\">'</span> <span style=\"background-color:rgba(135,206,250,0.017733522);\">s</span> <span style=\"background-color:rgba(135,206,250,0.027458671);\">ripe</span> <span style=\"background-color:rgba(135,206,250,0.021585533);\">,</span> <span style=\"background-color:rgba(135,206,250,0.02250035);\">sweet</span> <span style=\"background-color:rgba(135,206,250,0.028192796);\">and</span> <span style=\"background-color:rgba(135,206,250,0.03620006);\">honeyed</span> <span style=\"background-color:rgba(135,206,250,0.025081387);\">,</span> <span style=\"background-color:rgba(135,206,250,0.041025303);\">with</span> <span style=\"background-color:rgba(135,206,250,0.030054595);\">peach</span> <span style=\"background-color:rgba(135,206,250,0.03486571);\">and</span> <span style=\"background-color:rgba(135,206,250,0.03110651);\">apricot</span> <span style=\"background-color:rgba(135,206,250,0.04203981);\">flavors</span> <span style=\"background-color:rgba(135,206,250,0.07367518);\">.</span> <span style=\"background-color:rgba(135,206,250,0.046889503);\">it</span> <span style=\"background-color:rgba(135,206,250,0.01824929);\">'</span> <span style=\"background-color:rgba(135,206,250,0.03904984);\">s</span> <span style=\"background-color:rgba(135,206,250,0.043745566);\">a</span> <span style=\"background-color:rgba(135,206,250,0.12795067);\">straightforward</span> <span style=\"background-color:rgba(135,206,250,0.092030704);\">yet</span> <span style=\"background-color:rgba(135,206,250,0.13186161);\">delectably</span> <span style=\"background-color:rgba(135,206,250,0.104891814);\">juicy</span> <span style=\"background-color:rgba(135,206,250,0.26618856);\">wine</span> <span style=\"background-color:rgba(135,206,250,0.2305456);\">that</span> <span style=\"background-color:rgba(135,206,250,0.10313952);\">'</span> <span style=\"background-color:rgba(135,206,250,0.27044645);\">s</span> <span style=\"background-color:rgba(135,206,250,1.0);\">easy</span> <span style=\"background-color:rgba(135,206,250,0.16364303);\">to</span>"
            ]
          },
          "metadata": {}
        },
        {
          "output_type": "stream",
          "name": "stdout",
          "text": [
            "enjoy:   \t95.8%\n",
            "drink:   \t3.84%\n",
            "sip:   \t0.32%\n",
            "like:   \t0.02%\n",
            "find:   \t0.01%\n",
            "--------\n",
            "\n"
          ]
        },
        {
          "output_type": "display_data",
          "data": {
            "text/plain": [
              "<IPython.core.display.HTML object>"
            ],
            "text/html": [
              "<span style=\"background-color:rgba(135,206,250,0.061249718);\">wine</span> <span style=\"background-color:rgba(135,206,250,0.08324235);\">review</span> <span style=\"background-color:rgba(135,206,250,0.08180855);\">:</span> <span style=\"background-color:rgba(135,206,250,0.26484004);\">germany</span> <span style=\"background-color:rgba(135,206,250,0.13767852);\">:</span> <span style=\"background-color:rgba(135,206,250,0.1324866);\">mosel</span> <span style=\"background-color:rgba(135,206,250,0.052876778);\">:</span> <span style=\"background-color:rgba(135,206,250,0.08114492);\">riesling</span> <span style=\"background-color:rgba(135,206,250,0.06291794);\">:</span> <span style=\"background-color:rgba(135,206,250,0.044300742);\">whiffs</span> <span style=\"background-color:rgba(135,206,250,0.026766377);\">of</span> <span style=\"background-color:rgba(135,206,250,0.033370636);\">smoke</span> <span style=\"background-color:rgba(135,206,250,0.040166058);\">and</span> <span style=\"background-color:rgba(135,206,250,0.07054207);\">slate</span> <span style=\"background-color:rgba(135,206,250,0.018632058);\">lend</span> <span style=\"background-color:rgba(135,206,250,0.042066585);\">earthiness</span> <span style=\"background-color:rgba(135,206,250,0.017640429);\">to</span> <span style=\"background-color:rgba(135,206,250,0.02114321);\">this</span> <span style=\"background-color:rgba(135,206,250,0.041738465);\">full</span> <span style=\"background-color:rgba(135,206,250,0.011942691);\">-</span> <span style=\"background-color:rgba(135,206,250,0.036279745);\">bodied</span> <span style=\"background-color:rgba(135,206,250,0.025108654);\">,</span> <span style=\"background-color:rgba(135,206,250,0.041464366);\">semi</span> <span style=\"background-color:rgba(135,206,250,0.012486198);\">-</span> <span style=\"background-color:rgba(135,206,250,0.030862221);\">sweet</span> <span style=\"background-color:rgba(135,206,250,0.030173587);\">riesling</span> <span style=\"background-color:rgba(135,206,250,0.051179968);\">.</span> <span style=\"background-color:rgba(135,206,250,0.017336378);\">it</span> <span style=\"background-color:rgba(135,206,250,0.020282956);\">'</span> <span style=\"background-color:rgba(135,206,250,0.031330876);\">s</span> <span style=\"background-color:rgba(135,206,250,0.02919876);\">ripe</span> <span style=\"background-color:rgba(135,206,250,0.028914684);\">,</span> <span style=\"background-color:rgba(135,206,250,0.035558913);\">sweet</span> <span style=\"background-color:rgba(135,206,250,0.042819005);\">and</span> <span style=\"background-color:rgba(135,206,250,0.031289984);\">honeyed</span> <span style=\"background-color:rgba(135,206,250,0.03427261);\">,</span> <span style=\"background-color:rgba(135,206,250,0.036343474);\">with</span> <span style=\"background-color:rgba(135,206,250,0.03597097);\">peach</span> <span style=\"background-color:rgba(135,206,250,0.05184293);\">and</span> <span style=\"background-color:rgba(135,206,250,0.031546455);\">apricot</span> <span style=\"background-color:rgba(135,206,250,0.063221306);\">flavors</span> <span style=\"background-color:rgba(135,206,250,0.09791616);\">.</span> <span style=\"background-color:rgba(135,206,250,0.048854493);\">it</span> <span style=\"background-color:rgba(135,206,250,0.039535116);\">'</span> <span style=\"background-color:rgba(135,206,250,0.071811505);\">s</span> <span style=\"background-color:rgba(135,206,250,0.07895833);\">a</span> <span style=\"background-color:rgba(135,206,250,0.14808832);\">straightforward</span> <span style=\"background-color:rgba(135,206,250,0.15622166);\">yet</span> <span style=\"background-color:rgba(135,206,250,0.08301769);\">delectably</span> <span style=\"background-color:rgba(135,206,250,0.095529675);\">juicy</span> <span style=\"background-color:rgba(135,206,250,0.2247492);\">wine</span> <span style=\"background-color:rgba(135,206,250,0.17130692);\">that</span> <span style=\"background-color:rgba(135,206,250,0.12407899);\">'</span> <span style=\"background-color:rgba(135,206,250,0.31064096);\">s</span> <span style=\"background-color:rgba(135,206,250,1.0);\">easy</span> <span style=\"background-color:rgba(135,206,250,0.38297284);\">to</span> <span style=\"background-color:rgba(135,206,250,0.4954451);\">enjoy</span>"
            ]
          },
          "metadata": {}
        },
        {
          "output_type": "stream",
          "name": "stdout",
          "text": [
            "now:   \t69.11%\n",
            ".:   \t26.97%\n",
            "with:   \t2.31%\n",
            "and:   \t0.6%\n",
            ",:   \t0.55%\n",
            "--------\n",
            "\n"
          ]
        },
        {
          "output_type": "display_data",
          "data": {
            "text/plain": [
              "<IPython.core.display.HTML object>"
            ],
            "text/html": [
              "<span style=\"background-color:rgba(135,206,250,0.06100351);\">wine</span> <span style=\"background-color:rgba(135,206,250,0.049776997);\">review</span> <span style=\"background-color:rgba(135,206,250,0.14153074);\">:</span> <span style=\"background-color:rgba(135,206,250,0.62955225);\">germany</span> <span style=\"background-color:rgba(135,206,250,0.37015587);\">:</span> <span style=\"background-color:rgba(135,206,250,0.20792356);\">mosel</span> <span style=\"background-color:rgba(135,206,250,0.103163026);\">:</span> <span style=\"background-color:rgba(135,206,250,0.19856966);\">riesling</span> <span style=\"background-color:rgba(135,206,250,0.09465473);\">:</span> <span style=\"background-color:rgba(135,206,250,0.055349473);\">whiffs</span> <span style=\"background-color:rgba(135,206,250,0.023459567);\">of</span> <span style=\"background-color:rgba(135,206,250,0.047149736);\">smoke</span> <span style=\"background-color:rgba(135,206,250,0.033161975);\">and</span> <span style=\"background-color:rgba(135,206,250,0.07173265);\">slate</span> <span style=\"background-color:rgba(135,206,250,0.037308585);\">lend</span> <span style=\"background-color:rgba(135,206,250,0.05936121);\">earthiness</span> <span style=\"background-color:rgba(135,206,250,0.01498275);\">to</span> <span style=\"background-color:rgba(135,206,250,0.05088828);\">this</span> <span style=\"background-color:rgba(135,206,250,0.03491128);\">full</span> <span style=\"background-color:rgba(135,206,250,0.014858611);\">-</span> <span style=\"background-color:rgba(135,206,250,0.05620609);\">bodied</span> <span style=\"background-color:rgba(135,206,250,0.0230995);\">,</span> <span style=\"background-color:rgba(135,206,250,0.0616224);\">semi</span> <span style=\"background-color:rgba(135,206,250,0.014261235);\">-</span> <span style=\"background-color:rgba(135,206,250,0.035212994);\">sweet</span> <span style=\"background-color:rgba(135,206,250,0.04807782);\">riesling</span> <span style=\"background-color:rgba(135,206,250,0.063543625);\">.</span> <span style=\"background-color:rgba(135,206,250,0.02886765);\">it</span> <span style=\"background-color:rgba(135,206,250,0.010814341);\">'</span> <span style=\"background-color:rgba(135,206,250,0.03207367);\">s</span> <span style=\"background-color:rgba(135,206,250,0.03388139);\">ripe</span> <span style=\"background-color:rgba(135,206,250,0.029260118);\">,</span> <span style=\"background-color:rgba(135,206,250,0.042791933);\">sweet</span> <span style=\"background-color:rgba(135,206,250,0.03578866);\">and</span> <span style=\"background-color:rgba(135,206,250,0.063361645);\">honeyed</span> <span style=\"background-color:rgba(135,206,250,0.03793991);\">,</span> <span style=\"background-color:rgba(135,206,250,0.049134355);\">with</span> <span style=\"background-color:rgba(135,206,250,0.069688484);\">peach</span> <span style=\"background-color:rgba(135,206,250,0.049024828);\">and</span> <span style=\"background-color:rgba(135,206,250,0.07187771);\">apricot</span> <span style=\"background-color:rgba(135,206,250,0.11175005);\">flavors</span> <span style=\"background-color:rgba(135,206,250,0.11127851);\">.</span> <span style=\"background-color:rgba(135,206,250,0.09176068);\">it</span> <span style=\"background-color:rgba(135,206,250,0.026018243);\">'</span> <span style=\"background-color:rgba(135,206,250,0.074312635);\">s</span> <span style=\"background-color:rgba(135,206,250,0.07549652);\">a</span> <span style=\"background-color:rgba(135,206,250,0.16641685);\">straightforward</span> <span style=\"background-color:rgba(135,206,250,0.15861033);\">yet</span> <span style=\"background-color:rgba(135,206,250,0.14641483);\">delectably</span> <span style=\"background-color:rgba(135,206,250,0.09204795);\">juicy</span> <span style=\"background-color:rgba(135,206,250,0.20879158);\">wine</span> <span style=\"background-color:rgba(135,206,250,0.16060014);\">that</span> <span style=\"background-color:rgba(135,206,250,0.05035883);\">'</span> <span style=\"background-color:rgba(135,206,250,0.18152407);\">s</span> <span style=\"background-color:rgba(135,206,250,0.20027816);\">easy</span> <span style=\"background-color:rgba(135,206,250,0.14774927);\">to</span> <span style=\"background-color:rgba(135,206,250,1.0);\">enjoy</span> <span style=\"background-color:rgba(135,206,250,0.42513424);\">.</span>"
            ]
          },
          "metadata": {}
        },
        {
          "output_type": "stream",
          "name": "stdout",
          "text": [
            ":   \t99.73%\n",
            "drink:   \t0.13%\n",
            "enjoy:   \t0.1%\n",
            "it:   \t0.03%\n",
            "the:   \t0.0%\n",
            "--------\n",
            "\n"
          ]
        }
      ],
      "source": [
        "info = text_generator.generate(\n",
        "    \"wine review : germany\", max_tokens=80, temperature=0.5\n",
        ")\n",
        "print_probs(info, vocab)"
      ]
    },
    {
      "cell_type": "code",
      "execution_count": 43,
      "id": "fcc7a7c0-6c64-47d3-acee-96e48f025e01",
      "metadata": {
        "id": "fcc7a7c0-6c64-47d3-acee-96e48f025e01"
      },
      "outputs": [],
      "source": []
    },
    {
      "cell_type": "code",
      "execution_count": 43,
      "id": "4122154c-9e41-44ba-8c5f-fe88a55fe977",
      "metadata": {
        "id": "4122154c-9e41-44ba-8c5f-fe88a55fe977"
      },
      "outputs": [],
      "source": []
    }
  ],
  "metadata": {
    "kernelspec": {
      "display_name": "Python 3 (ipykernel)",
      "language": "python",
      "name": "python3"
    },
    "language_info": {
      "codemirror_mode": {
        "name": "ipython",
        "version": 3
      },
      "file_extension": ".py",
      "mimetype": "text/x-python",
      "name": "python",
      "nbconvert_exporter": "python",
      "pygments_lexer": "ipython3",
      "version": "3.8.10"
    },
    "vscode": {
      "interpreter": {
        "hash": "31f2aee4e71d21fbe5cf8b01ff0e069b9275f58929596ceb00d14d90e3e16cd6"
      }
    },
    "colab": {
      "provenance": [],
      "include_colab_link": true
    }
  },
  "nbformat": 4,
  "nbformat_minor": 5
}